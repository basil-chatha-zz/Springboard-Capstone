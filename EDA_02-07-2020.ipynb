{
 "cells": [
  {
   "cell_type": "code",
   "execution_count": 1,
   "metadata": {},
   "outputs": [],
   "source": [
    "import pandas as pd\n",
    "import numpy as np\n",
    "\n",
    "%matplotlib inline\n",
    "import matplotlib.pyplot as plt\n",
    "\n",
    "import statsmodels.api as sm\n",
    "import statsmodels.formula.api as smf\n",
    "import seaborn as sns\n",
    "from statsmodels.stats.anova import anova_lm\n",
    "from sklearn.linear_model import LogisticRegression\n",
    "from sklearn.model_selection import train_test_split\n",
    "from sklearn.ensemble import RandomForestRegressor\n",
    "import math\n",
    "import datetime"
   ]
  },
  {
   "cell_type": "code",
   "execution_count": 2,
   "metadata": {},
   "outputs": [],
   "source": [
    "data_source = './original_data/data1.csv'\n",
    "df = pd.read_csv(data_source)"
   ]
  },
  {
   "cell_type": "code",
   "execution_count": 3,
   "metadata": {},
   "outputs": [
    {
     "data": {
      "text/html": [
       "<div>\n",
       "<style scoped>\n",
       "    .dataframe tbody tr th:only-of-type {\n",
       "        vertical-align: middle;\n",
       "    }\n",
       "\n",
       "    .dataframe tbody tr th {\n",
       "        vertical-align: top;\n",
       "    }\n",
       "\n",
       "    .dataframe thead th {\n",
       "        text-align: right;\n",
       "    }\n",
       "</style>\n",
       "<table border=\"1\" class=\"dataframe\">\n",
       "  <thead>\n",
       "    <tr style=\"text-align: right;\">\n",
       "      <th></th>\n",
       "      <th>index</th>\n",
       "      <th>timestamp</th>\n",
       "      <th>open</th>\n",
       "      <th>close</th>\n",
       "      <th>high</th>\n",
       "      <th>low</th>\n",
       "      <th>volume</th>\n",
       "      <th>buy_volume</th>\n",
       "      <th>sell_volume</th>\n",
       "      <th>max_buy</th>\n",
       "      <th>...</th>\n",
       "      <th>buy_50</th>\n",
       "      <th>buy_100</th>\n",
       "      <th>buy_500</th>\n",
       "      <th>buy_1000</th>\n",
       "      <th>buy_10000</th>\n",
       "      <th>buy_100000</th>\n",
       "      <th>buy_200000</th>\n",
       "      <th>buy_count</th>\n",
       "      <th>sell_count</th>\n",
       "      <th>avg_volume</th>\n",
       "    </tr>\n",
       "  </thead>\n",
       "  <tbody>\n",
       "    <tr>\n",
       "      <th>0</th>\n",
       "      <td>0</td>\n",
       "      <td>2019-06-01 00:00:00</td>\n",
       "      <td>8546.0</td>\n",
       "      <td>8544.0</td>\n",
       "      <td>8546.5</td>\n",
       "      <td>8543.5</td>\n",
       "      <td>2863215</td>\n",
       "      <td>1490030</td>\n",
       "      <td>1373185</td>\n",
       "      <td>200000.0</td>\n",
       "      <td>...</td>\n",
       "      <td>160</td>\n",
       "      <td>142</td>\n",
       "      <td>113</td>\n",
       "      <td>95</td>\n",
       "      <td>19</td>\n",
       "      <td>4.0</td>\n",
       "      <td>NaN</td>\n",
       "      <td>201</td>\n",
       "      <td>504</td>\n",
       "      <td>4061.297872</td>\n",
       "    </tr>\n",
       "    <tr>\n",
       "      <th>1</th>\n",
       "      <td>1</td>\n",
       "      <td>2019-06-01 00:01:00</td>\n",
       "      <td>8544.5</td>\n",
       "      <td>8557.0</td>\n",
       "      <td>8563.0</td>\n",
       "      <td>8544.0</td>\n",
       "      <td>2058785</td>\n",
       "      <td>1479285</td>\n",
       "      <td>579500</td>\n",
       "      <td>189127.0</td>\n",
       "      <td>...</td>\n",
       "      <td>464</td>\n",
       "      <td>388</td>\n",
       "      <td>252</td>\n",
       "      <td>181</td>\n",
       "      <td>33</td>\n",
       "      <td>1.0</td>\n",
       "      <td>NaN</td>\n",
       "      <td>712</td>\n",
       "      <td>263</td>\n",
       "      <td>2111.574359</td>\n",
       "    </tr>\n",
       "    <tr>\n",
       "      <th>2</th>\n",
       "      <td>2</td>\n",
       "      <td>2019-06-01 00:02:00</td>\n",
       "      <td>8556.5</td>\n",
       "      <td>8565.5</td>\n",
       "      <td>8567.5</td>\n",
       "      <td>8556.5</td>\n",
       "      <td>2468185</td>\n",
       "      <td>1224395</td>\n",
       "      <td>1243790</td>\n",
       "      <td>74000.0</td>\n",
       "      <td>...</td>\n",
       "      <td>382</td>\n",
       "      <td>347</td>\n",
       "      <td>232</td>\n",
       "      <td>186</td>\n",
       "      <td>22</td>\n",
       "      <td>0.0</td>\n",
       "      <td>NaN</td>\n",
       "      <td>571</td>\n",
       "      <td>120</td>\n",
       "      <td>3571.903039</td>\n",
       "    </tr>\n",
       "    <tr>\n",
       "      <th>3</th>\n",
       "      <td>3</td>\n",
       "      <td>2019-06-01 00:03:00</td>\n",
       "      <td>8566.0</td>\n",
       "      <td>8562.5</td>\n",
       "      <td>8566.0</td>\n",
       "      <td>8557.5</td>\n",
       "      <td>931585</td>\n",
       "      <td>263639</td>\n",
       "      <td>667946</td>\n",
       "      <td>18521.0</td>\n",
       "      <td>...</td>\n",
       "      <td>108</td>\n",
       "      <td>87</td>\n",
       "      <td>65</td>\n",
       "      <td>49</td>\n",
       "      <td>3</td>\n",
       "      <td>0.0</td>\n",
       "      <td>NaN</td>\n",
       "      <td>172</td>\n",
       "      <td>259</td>\n",
       "      <td>2161.450116</td>\n",
       "    </tr>\n",
       "    <tr>\n",
       "      <th>4</th>\n",
       "      <td>4</td>\n",
       "      <td>2019-06-01 00:04:00</td>\n",
       "      <td>8563.0</td>\n",
       "      <td>8556.5</td>\n",
       "      <td>8563.0</td>\n",
       "      <td>8556.5</td>\n",
       "      <td>797504</td>\n",
       "      <td>170871</td>\n",
       "      <td>626633</td>\n",
       "      <td>65835.0</td>\n",
       "      <td>...</td>\n",
       "      <td>32</td>\n",
       "      <td>28</td>\n",
       "      <td>23</td>\n",
       "      <td>15</td>\n",
       "      <td>3</td>\n",
       "      <td>0.0</td>\n",
       "      <td>NaN</td>\n",
       "      <td>48</td>\n",
       "      <td>237</td>\n",
       "      <td>2798.259649</td>\n",
       "    </tr>\n",
       "  </tbody>\n",
       "</table>\n",
       "<p>5 rows × 28 columns</p>\n",
       "</div>"
      ],
      "text/plain": [
       "   index            timestamp    open   close    high     low   volume  \\\n",
       "0      0  2019-06-01 00:00:00  8546.0  8544.0  8546.5  8543.5  2863215   \n",
       "1      1  2019-06-01 00:01:00  8544.5  8557.0  8563.0  8544.0  2058785   \n",
       "2      2  2019-06-01 00:02:00  8556.5  8565.5  8567.5  8556.5  2468185   \n",
       "3      3  2019-06-01 00:03:00  8566.0  8562.5  8566.0  8557.5   931585   \n",
       "4      4  2019-06-01 00:04:00  8563.0  8556.5  8563.0  8556.5   797504   \n",
       "\n",
       "   buy_volume  sell_volume   max_buy     ...       buy_50  buy_100  buy_500  \\\n",
       "0     1490030      1373185  200000.0     ...          160      142      113   \n",
       "1     1479285       579500  189127.0     ...          464      388      252   \n",
       "2     1224395      1243790   74000.0     ...          382      347      232   \n",
       "3      263639       667946   18521.0     ...          108       87       65   \n",
       "4      170871       626633   65835.0     ...           32       28       23   \n",
       "\n",
       "   buy_1000  buy_10000  buy_100000  buy_200000  buy_count  sell_count  \\\n",
       "0        95         19         4.0         NaN        201         504   \n",
       "1       181         33         1.0         NaN        712         263   \n",
       "2       186         22         0.0         NaN        571         120   \n",
       "3        49          3         0.0         NaN        172         259   \n",
       "4        15          3         0.0         NaN         48         237   \n",
       "\n",
       "    avg_volume  \n",
       "0  4061.297872  \n",
       "1  2111.574359  \n",
       "2  3571.903039  \n",
       "3  2161.450116  \n",
       "4  2798.259649  \n",
       "\n",
       "[5 rows x 28 columns]"
      ]
     },
     "execution_count": 3,
     "metadata": {},
     "output_type": "execute_result"
    }
   ],
   "source": [
    "df.head()"
   ]
  },
  {
   "cell_type": "code",
   "execution_count": 4,
   "metadata": {},
   "outputs": [
    {
     "data": {
      "text/plain": [
       "Index(['index', 'timestamp', 'open', 'close', 'high', 'low', 'volume',\n",
       "       'buy_volume', 'sell_volume', 'max_buy', 'max_sell', 'sell_50',\n",
       "       'sell_100', 'sell_500', 'sell_1000', 'sell_10000', 'sell_100000',\n",
       "       'sell_200000', 'buy_50', 'buy_100', 'buy_500', 'buy_1000', 'buy_10000',\n",
       "       'buy_100000', 'buy_200000', 'buy_count', 'sell_count', 'avg_volume'],\n",
       "      dtype='object')"
      ]
     },
     "execution_count": 4,
     "metadata": {},
     "output_type": "execute_result"
    }
   ],
   "source": [
    "df.columns"
   ]
  },
  {
   "cell_type": "code",
   "execution_count": 5,
   "metadata": {
    "scrolled": true
   },
   "outputs": [],
   "source": [
    "df.timestamp = pd.to_datetime(df.timestamp)"
   ]
  },
  {
   "cell_type": "code",
   "execution_count": 6,
   "metadata": {},
   "outputs": [],
   "source": [
    "df.set_index('timestamp',inplace=True)"
   ]
  },
  {
   "cell_type": "code",
   "execution_count": 7,
   "metadata": {},
   "outputs": [],
   "source": [
    "df.sort_index(inplace=True)"
   ]
  },
  {
   "cell_type": "code",
   "execution_count": 8,
   "metadata": {},
   "outputs": [
    {
     "data": {
      "text/html": [
       "<div>\n",
       "<style scoped>\n",
       "    .dataframe tbody tr th:only-of-type {\n",
       "        vertical-align: middle;\n",
       "    }\n",
       "\n",
       "    .dataframe tbody tr th {\n",
       "        vertical-align: top;\n",
       "    }\n",
       "\n",
       "    .dataframe thead th {\n",
       "        text-align: right;\n",
       "    }\n",
       "</style>\n",
       "<table border=\"1\" class=\"dataframe\">\n",
       "  <thead>\n",
       "    <tr style=\"text-align: right;\">\n",
       "      <th></th>\n",
       "      <th>index</th>\n",
       "      <th>open</th>\n",
       "      <th>close</th>\n",
       "      <th>high</th>\n",
       "      <th>low</th>\n",
       "      <th>volume</th>\n",
       "      <th>buy_volume</th>\n",
       "      <th>sell_volume</th>\n",
       "      <th>max_buy</th>\n",
       "      <th>max_sell</th>\n",
       "      <th>...</th>\n",
       "      <th>buy_50</th>\n",
       "      <th>buy_100</th>\n",
       "      <th>buy_500</th>\n",
       "      <th>buy_1000</th>\n",
       "      <th>buy_10000</th>\n",
       "      <th>buy_100000</th>\n",
       "      <th>buy_200000</th>\n",
       "      <th>buy_count</th>\n",
       "      <th>sell_count</th>\n",
       "      <th>avg_volume</th>\n",
       "    </tr>\n",
       "    <tr>\n",
       "      <th>timestamp</th>\n",
       "      <th></th>\n",
       "      <th></th>\n",
       "      <th></th>\n",
       "      <th></th>\n",
       "      <th></th>\n",
       "      <th></th>\n",
       "      <th></th>\n",
       "      <th></th>\n",
       "      <th></th>\n",
       "      <th></th>\n",
       "      <th></th>\n",
       "      <th></th>\n",
       "      <th></th>\n",
       "      <th></th>\n",
       "      <th></th>\n",
       "      <th></th>\n",
       "      <th></th>\n",
       "      <th></th>\n",
       "      <th></th>\n",
       "      <th></th>\n",
       "      <th></th>\n",
       "    </tr>\n",
       "  </thead>\n",
       "  <tbody>\n",
       "    <tr>\n",
       "      <th>2019-06-01 00:00:00</th>\n",
       "      <td>0</td>\n",
       "      <td>8546.0</td>\n",
       "      <td>8544.0</td>\n",
       "      <td>8546.5</td>\n",
       "      <td>8543.5</td>\n",
       "      <td>2863215</td>\n",
       "      <td>1490030</td>\n",
       "      <td>1373185</td>\n",
       "      <td>200000.0</td>\n",
       "      <td>100400.0</td>\n",
       "      <td>...</td>\n",
       "      <td>160</td>\n",
       "      <td>142</td>\n",
       "      <td>113</td>\n",
       "      <td>95</td>\n",
       "      <td>19</td>\n",
       "      <td>4.0</td>\n",
       "      <td>NaN</td>\n",
       "      <td>201</td>\n",
       "      <td>504</td>\n",
       "      <td>4061.297872</td>\n",
       "    </tr>\n",
       "    <tr>\n",
       "      <th>2019-06-01 00:01:00</th>\n",
       "      <td>1</td>\n",
       "      <td>8544.5</td>\n",
       "      <td>8557.0</td>\n",
       "      <td>8563.0</td>\n",
       "      <td>8544.0</td>\n",
       "      <td>2058785</td>\n",
       "      <td>1479285</td>\n",
       "      <td>579500</td>\n",
       "      <td>189127.0</td>\n",
       "      <td>90000.0</td>\n",
       "      <td>...</td>\n",
       "      <td>464</td>\n",
       "      <td>388</td>\n",
       "      <td>252</td>\n",
       "      <td>181</td>\n",
       "      <td>33</td>\n",
       "      <td>1.0</td>\n",
       "      <td>NaN</td>\n",
       "      <td>712</td>\n",
       "      <td>263</td>\n",
       "      <td>2111.574359</td>\n",
       "    </tr>\n",
       "    <tr>\n",
       "      <th>2019-06-01 00:02:00</th>\n",
       "      <td>2</td>\n",
       "      <td>8556.5</td>\n",
       "      <td>8565.5</td>\n",
       "      <td>8567.5</td>\n",
       "      <td>8556.5</td>\n",
       "      <td>2468185</td>\n",
       "      <td>1224395</td>\n",
       "      <td>1243790</td>\n",
       "      <td>74000.0</td>\n",
       "      <td>214169.0</td>\n",
       "      <td>...</td>\n",
       "      <td>382</td>\n",
       "      <td>347</td>\n",
       "      <td>232</td>\n",
       "      <td>186</td>\n",
       "      <td>22</td>\n",
       "      <td>0.0</td>\n",
       "      <td>NaN</td>\n",
       "      <td>571</td>\n",
       "      <td>120</td>\n",
       "      <td>3571.903039</td>\n",
       "    </tr>\n",
       "    <tr>\n",
       "      <th>2019-06-01 00:03:00</th>\n",
       "      <td>3</td>\n",
       "      <td>8566.0</td>\n",
       "      <td>8562.5</td>\n",
       "      <td>8566.0</td>\n",
       "      <td>8557.5</td>\n",
       "      <td>931585</td>\n",
       "      <td>263639</td>\n",
       "      <td>667946</td>\n",
       "      <td>18521.0</td>\n",
       "      <td>111334.0</td>\n",
       "      <td>...</td>\n",
       "      <td>108</td>\n",
       "      <td>87</td>\n",
       "      <td>65</td>\n",
       "      <td>49</td>\n",
       "      <td>3</td>\n",
       "      <td>0.0</td>\n",
       "      <td>NaN</td>\n",
       "      <td>172</td>\n",
       "      <td>259</td>\n",
       "      <td>2161.450116</td>\n",
       "    </tr>\n",
       "    <tr>\n",
       "      <th>2019-06-01 00:04:00</th>\n",
       "      <td>4</td>\n",
       "      <td>8563.0</td>\n",
       "      <td>8556.5</td>\n",
       "      <td>8563.0</td>\n",
       "      <td>8556.5</td>\n",
       "      <td>797504</td>\n",
       "      <td>170871</td>\n",
       "      <td>626633</td>\n",
       "      <td>65835.0</td>\n",
       "      <td>121070.0</td>\n",
       "      <td>...</td>\n",
       "      <td>32</td>\n",
       "      <td>28</td>\n",
       "      <td>23</td>\n",
       "      <td>15</td>\n",
       "      <td>3</td>\n",
       "      <td>0.0</td>\n",
       "      <td>NaN</td>\n",
       "      <td>48</td>\n",
       "      <td>237</td>\n",
       "      <td>2798.259649</td>\n",
       "    </tr>\n",
       "  </tbody>\n",
       "</table>\n",
       "<p>5 rows × 27 columns</p>\n",
       "</div>"
      ],
      "text/plain": [
       "                     index    open   close    high     low   volume  \\\n",
       "timestamp                                                             \n",
       "2019-06-01 00:00:00      0  8546.0  8544.0  8546.5  8543.5  2863215   \n",
       "2019-06-01 00:01:00      1  8544.5  8557.0  8563.0  8544.0  2058785   \n",
       "2019-06-01 00:02:00      2  8556.5  8565.5  8567.5  8556.5  2468185   \n",
       "2019-06-01 00:03:00      3  8566.0  8562.5  8566.0  8557.5   931585   \n",
       "2019-06-01 00:04:00      4  8563.0  8556.5  8563.0  8556.5   797504   \n",
       "\n",
       "                     buy_volume  sell_volume   max_buy  max_sell     ...       \\\n",
       "timestamp                                                            ...        \n",
       "2019-06-01 00:00:00     1490030      1373185  200000.0  100400.0     ...        \n",
       "2019-06-01 00:01:00     1479285       579500  189127.0   90000.0     ...        \n",
       "2019-06-01 00:02:00     1224395      1243790   74000.0  214169.0     ...        \n",
       "2019-06-01 00:03:00      263639       667946   18521.0  111334.0     ...        \n",
       "2019-06-01 00:04:00      170871       626633   65835.0  121070.0     ...        \n",
       "\n",
       "                     buy_50  buy_100  buy_500  buy_1000  buy_10000  \\\n",
       "timestamp                                                            \n",
       "2019-06-01 00:00:00     160      142      113        95         19   \n",
       "2019-06-01 00:01:00     464      388      252       181         33   \n",
       "2019-06-01 00:02:00     382      347      232       186         22   \n",
       "2019-06-01 00:03:00     108       87       65        49          3   \n",
       "2019-06-01 00:04:00      32       28       23        15          3   \n",
       "\n",
       "                     buy_100000  buy_200000  buy_count  sell_count  \\\n",
       "timestamp                                                            \n",
       "2019-06-01 00:00:00         4.0         NaN        201         504   \n",
       "2019-06-01 00:01:00         1.0         NaN        712         263   \n",
       "2019-06-01 00:02:00         0.0         NaN        571         120   \n",
       "2019-06-01 00:03:00         0.0         NaN        172         259   \n",
       "2019-06-01 00:04:00         0.0         NaN         48         237   \n",
       "\n",
       "                      avg_volume  \n",
       "timestamp                         \n",
       "2019-06-01 00:00:00  4061.297872  \n",
       "2019-06-01 00:01:00  2111.574359  \n",
       "2019-06-01 00:02:00  3571.903039  \n",
       "2019-06-01 00:03:00  2161.450116  \n",
       "2019-06-01 00:04:00  2798.259649  \n",
       "\n",
       "[5 rows x 27 columns]"
      ]
     },
     "execution_count": 8,
     "metadata": {},
     "output_type": "execute_result"
    }
   ],
   "source": [
    "df.head()"
   ]
  },
  {
   "cell_type": "code",
   "execution_count": 9,
   "metadata": {},
   "outputs": [
    {
     "name": "stdout",
     "output_type": "stream",
     "text": [
      "open oh shit\n",
      "close oh shit\n",
      "high oh shit\n",
      "low oh shit\n",
      "max_buy oh shit\n",
      "max_sell oh shit\n",
      "sell_10000 oh shit\n",
      "sell_100000 oh shit\n",
      "sell_200000 oh shit\n",
      "buy_100000 oh shit\n",
      "buy_200000 oh shit\n",
      "avg_volume oh shit\n"
     ]
    }
   ],
   "source": [
    "for column in df.columns:\n",
    "    if df[column].isna().any():\n",
    "        print('{} oh shit'.format(column))"
   ]
  },
  {
   "cell_type": "code",
   "execution_count": 10,
   "metadata": {},
   "outputs": [],
   "source": [
    "del df['index']"
   ]
  },
  {
   "cell_type": "code",
   "execution_count": 11,
   "metadata": {},
   "outputs": [],
   "source": [
    "df['target'] = np.nan\n",
    "df['target'] = df['target'].astype(np.float64)"
   ]
  },
  {
   "cell_type": "code",
   "execution_count": 12,
   "metadata": {},
   "outputs": [
    {
     "data": {
      "text/html": [
       "<div>\n",
       "<style scoped>\n",
       "    .dataframe tbody tr th:only-of-type {\n",
       "        vertical-align: middle;\n",
       "    }\n",
       "\n",
       "    .dataframe tbody tr th {\n",
       "        vertical-align: top;\n",
       "    }\n",
       "\n",
       "    .dataframe thead th {\n",
       "        text-align: right;\n",
       "    }\n",
       "</style>\n",
       "<table border=\"1\" class=\"dataframe\">\n",
       "  <thead>\n",
       "    <tr style=\"text-align: right;\">\n",
       "      <th></th>\n",
       "      <th>open</th>\n",
       "      <th>close</th>\n",
       "      <th>high</th>\n",
       "      <th>low</th>\n",
       "      <th>volume</th>\n",
       "      <th>buy_volume</th>\n",
       "      <th>sell_volume</th>\n",
       "      <th>max_buy</th>\n",
       "      <th>max_sell</th>\n",
       "      <th>sell_50</th>\n",
       "      <th>...</th>\n",
       "      <th>buy_100</th>\n",
       "      <th>buy_500</th>\n",
       "      <th>buy_1000</th>\n",
       "      <th>buy_10000</th>\n",
       "      <th>buy_100000</th>\n",
       "      <th>buy_200000</th>\n",
       "      <th>buy_count</th>\n",
       "      <th>sell_count</th>\n",
       "      <th>avg_volume</th>\n",
       "      <th>target</th>\n",
       "    </tr>\n",
       "    <tr>\n",
       "      <th>timestamp</th>\n",
       "      <th></th>\n",
       "      <th></th>\n",
       "      <th></th>\n",
       "      <th></th>\n",
       "      <th></th>\n",
       "      <th></th>\n",
       "      <th></th>\n",
       "      <th></th>\n",
       "      <th></th>\n",
       "      <th></th>\n",
       "      <th></th>\n",
       "      <th></th>\n",
       "      <th></th>\n",
       "      <th></th>\n",
       "      <th></th>\n",
       "      <th></th>\n",
       "      <th></th>\n",
       "      <th></th>\n",
       "      <th></th>\n",
       "      <th></th>\n",
       "      <th></th>\n",
       "    </tr>\n",
       "  </thead>\n",
       "  <tbody>\n",
       "    <tr>\n",
       "      <th>2019-06-01 00:00:00</th>\n",
       "      <td>8546.0</td>\n",
       "      <td>8544.0</td>\n",
       "      <td>8546.5</td>\n",
       "      <td>8543.5</td>\n",
       "      <td>2863215</td>\n",
       "      <td>1490030</td>\n",
       "      <td>1373185</td>\n",
       "      <td>200000.0</td>\n",
       "      <td>100400.0</td>\n",
       "      <td>398</td>\n",
       "      <td>...</td>\n",
       "      <td>142</td>\n",
       "      <td>113</td>\n",
       "      <td>95</td>\n",
       "      <td>19</td>\n",
       "      <td>4.0</td>\n",
       "      <td>NaN</td>\n",
       "      <td>201</td>\n",
       "      <td>504</td>\n",
       "      <td>4061.297872</td>\n",
       "      <td>NaN</td>\n",
       "    </tr>\n",
       "    <tr>\n",
       "      <th>2019-06-01 00:01:00</th>\n",
       "      <td>8544.5</td>\n",
       "      <td>8557.0</td>\n",
       "      <td>8563.0</td>\n",
       "      <td>8544.0</td>\n",
       "      <td>2058785</td>\n",
       "      <td>1479285</td>\n",
       "      <td>579500</td>\n",
       "      <td>189127.0</td>\n",
       "      <td>90000.0</td>\n",
       "      <td>198</td>\n",
       "      <td>...</td>\n",
       "      <td>388</td>\n",
       "      <td>252</td>\n",
       "      <td>181</td>\n",
       "      <td>33</td>\n",
       "      <td>1.0</td>\n",
       "      <td>NaN</td>\n",
       "      <td>712</td>\n",
       "      <td>263</td>\n",
       "      <td>2111.574359</td>\n",
       "      <td>NaN</td>\n",
       "    </tr>\n",
       "    <tr>\n",
       "      <th>2019-06-01 00:02:00</th>\n",
       "      <td>8556.5</td>\n",
       "      <td>8565.5</td>\n",
       "      <td>8567.5</td>\n",
       "      <td>8556.5</td>\n",
       "      <td>2468185</td>\n",
       "      <td>1224395</td>\n",
       "      <td>1243790</td>\n",
       "      <td>74000.0</td>\n",
       "      <td>214169.0</td>\n",
       "      <td>91</td>\n",
       "      <td>...</td>\n",
       "      <td>347</td>\n",
       "      <td>232</td>\n",
       "      <td>186</td>\n",
       "      <td>22</td>\n",
       "      <td>0.0</td>\n",
       "      <td>NaN</td>\n",
       "      <td>571</td>\n",
       "      <td>120</td>\n",
       "      <td>3571.903039</td>\n",
       "      <td>NaN</td>\n",
       "    </tr>\n",
       "    <tr>\n",
       "      <th>2019-06-01 00:03:00</th>\n",
       "      <td>8566.0</td>\n",
       "      <td>8562.5</td>\n",
       "      <td>8566.0</td>\n",
       "      <td>8557.5</td>\n",
       "      <td>931585</td>\n",
       "      <td>263639</td>\n",
       "      <td>667946</td>\n",
       "      <td>18521.0</td>\n",
       "      <td>111334.0</td>\n",
       "      <td>186</td>\n",
       "      <td>...</td>\n",
       "      <td>87</td>\n",
       "      <td>65</td>\n",
       "      <td>49</td>\n",
       "      <td>3</td>\n",
       "      <td>0.0</td>\n",
       "      <td>NaN</td>\n",
       "      <td>172</td>\n",
       "      <td>259</td>\n",
       "      <td>2161.450116</td>\n",
       "      <td>NaN</td>\n",
       "    </tr>\n",
       "    <tr>\n",
       "      <th>2019-06-01 00:04:00</th>\n",
       "      <td>8563.0</td>\n",
       "      <td>8556.5</td>\n",
       "      <td>8563.0</td>\n",
       "      <td>8556.5</td>\n",
       "      <td>797504</td>\n",
       "      <td>170871</td>\n",
       "      <td>626633</td>\n",
       "      <td>65835.0</td>\n",
       "      <td>121070.0</td>\n",
       "      <td>157</td>\n",
       "      <td>...</td>\n",
       "      <td>28</td>\n",
       "      <td>23</td>\n",
       "      <td>15</td>\n",
       "      <td>3</td>\n",
       "      <td>0.0</td>\n",
       "      <td>NaN</td>\n",
       "      <td>48</td>\n",
       "      <td>237</td>\n",
       "      <td>2798.259649</td>\n",
       "      <td>NaN</td>\n",
       "    </tr>\n",
       "  </tbody>\n",
       "</table>\n",
       "<p>5 rows × 27 columns</p>\n",
       "</div>"
      ],
      "text/plain": [
       "                       open   close    high     low   volume  buy_volume  \\\n",
       "timestamp                                                                  \n",
       "2019-06-01 00:00:00  8546.0  8544.0  8546.5  8543.5  2863215     1490030   \n",
       "2019-06-01 00:01:00  8544.5  8557.0  8563.0  8544.0  2058785     1479285   \n",
       "2019-06-01 00:02:00  8556.5  8565.5  8567.5  8556.5  2468185     1224395   \n",
       "2019-06-01 00:03:00  8566.0  8562.5  8566.0  8557.5   931585      263639   \n",
       "2019-06-01 00:04:00  8563.0  8556.5  8563.0  8556.5   797504      170871   \n",
       "\n",
       "                     sell_volume   max_buy  max_sell  sell_50   ...    \\\n",
       "timestamp                                                       ...     \n",
       "2019-06-01 00:00:00      1373185  200000.0  100400.0      398   ...     \n",
       "2019-06-01 00:01:00       579500  189127.0   90000.0      198   ...     \n",
       "2019-06-01 00:02:00      1243790   74000.0  214169.0       91   ...     \n",
       "2019-06-01 00:03:00       667946   18521.0  111334.0      186   ...     \n",
       "2019-06-01 00:04:00       626633   65835.0  121070.0      157   ...     \n",
       "\n",
       "                     buy_100  buy_500  buy_1000  buy_10000  buy_100000  \\\n",
       "timestamp                                                                \n",
       "2019-06-01 00:00:00      142      113        95         19         4.0   \n",
       "2019-06-01 00:01:00      388      252       181         33         1.0   \n",
       "2019-06-01 00:02:00      347      232       186         22         0.0   \n",
       "2019-06-01 00:03:00       87       65        49          3         0.0   \n",
       "2019-06-01 00:04:00       28       23        15          3         0.0   \n",
       "\n",
       "                     buy_200000  buy_count  sell_count   avg_volume  target  \n",
       "timestamp                                                                    \n",
       "2019-06-01 00:00:00         NaN        201         504  4061.297872     NaN  \n",
       "2019-06-01 00:01:00         NaN        712         263  2111.574359     NaN  \n",
       "2019-06-01 00:02:00         NaN        571         120  3571.903039     NaN  \n",
       "2019-06-01 00:03:00         NaN        172         259  2161.450116     NaN  \n",
       "2019-06-01 00:04:00         NaN         48         237  2798.259649     NaN  \n",
       "\n",
       "[5 rows x 27 columns]"
      ]
     },
     "execution_count": 12,
     "metadata": {},
     "output_type": "execute_result"
    }
   ],
   "source": [
    "df.head()"
   ]
  },
  {
   "cell_type": "code",
   "execution_count": 13,
   "metadata": {},
   "outputs": [],
   "source": [
    "for i, row in df.iterrows():\n",
    "    try:\n",
    "        df.at[i, 'target'] = df.loc[i+datetime.timedelta(minutes=1), 'close']\n",
    "    except KeyError as e:\n",
    "        pass"
   ]
  },
  {
   "cell_type": "code",
   "execution_count": 14,
   "metadata": {},
   "outputs": [
    {
     "data": {
      "text/html": [
       "<div>\n",
       "<style scoped>\n",
       "    .dataframe tbody tr th:only-of-type {\n",
       "        vertical-align: middle;\n",
       "    }\n",
       "\n",
       "    .dataframe tbody tr th {\n",
       "        vertical-align: top;\n",
       "    }\n",
       "\n",
       "    .dataframe thead th {\n",
       "        text-align: right;\n",
       "    }\n",
       "</style>\n",
       "<table border=\"1\" class=\"dataframe\">\n",
       "  <thead>\n",
       "    <tr style=\"text-align: right;\">\n",
       "      <th></th>\n",
       "      <th>open</th>\n",
       "      <th>close</th>\n",
       "      <th>high</th>\n",
       "      <th>low</th>\n",
       "      <th>volume</th>\n",
       "      <th>buy_volume</th>\n",
       "      <th>sell_volume</th>\n",
       "      <th>max_buy</th>\n",
       "      <th>max_sell</th>\n",
       "      <th>sell_50</th>\n",
       "      <th>...</th>\n",
       "      <th>buy_100</th>\n",
       "      <th>buy_500</th>\n",
       "      <th>buy_1000</th>\n",
       "      <th>buy_10000</th>\n",
       "      <th>buy_100000</th>\n",
       "      <th>buy_200000</th>\n",
       "      <th>buy_count</th>\n",
       "      <th>sell_count</th>\n",
       "      <th>avg_volume</th>\n",
       "      <th>target</th>\n",
       "    </tr>\n",
       "    <tr>\n",
       "      <th>timestamp</th>\n",
       "      <th></th>\n",
       "      <th></th>\n",
       "      <th></th>\n",
       "      <th></th>\n",
       "      <th></th>\n",
       "      <th></th>\n",
       "      <th></th>\n",
       "      <th></th>\n",
       "      <th></th>\n",
       "      <th></th>\n",
       "      <th></th>\n",
       "      <th></th>\n",
       "      <th></th>\n",
       "      <th></th>\n",
       "      <th></th>\n",
       "      <th></th>\n",
       "      <th></th>\n",
       "      <th></th>\n",
       "      <th></th>\n",
       "      <th></th>\n",
       "      <th></th>\n",
       "    </tr>\n",
       "  </thead>\n",
       "  <tbody>\n",
       "    <tr>\n",
       "      <th>2019-06-01 00:00:00</th>\n",
       "      <td>8546.0</td>\n",
       "      <td>8544.0</td>\n",
       "      <td>8546.5</td>\n",
       "      <td>8543.5</td>\n",
       "      <td>2863215</td>\n",
       "      <td>1490030</td>\n",
       "      <td>1373185</td>\n",
       "      <td>200000.0</td>\n",
       "      <td>100400.0</td>\n",
       "      <td>398</td>\n",
       "      <td>...</td>\n",
       "      <td>142</td>\n",
       "      <td>113</td>\n",
       "      <td>95</td>\n",
       "      <td>19</td>\n",
       "      <td>4.0</td>\n",
       "      <td>NaN</td>\n",
       "      <td>201</td>\n",
       "      <td>504</td>\n",
       "      <td>4061.297872</td>\n",
       "      <td>8557.0</td>\n",
       "    </tr>\n",
       "    <tr>\n",
       "      <th>2019-06-01 00:01:00</th>\n",
       "      <td>8544.5</td>\n",
       "      <td>8557.0</td>\n",
       "      <td>8563.0</td>\n",
       "      <td>8544.0</td>\n",
       "      <td>2058785</td>\n",
       "      <td>1479285</td>\n",
       "      <td>579500</td>\n",
       "      <td>189127.0</td>\n",
       "      <td>90000.0</td>\n",
       "      <td>198</td>\n",
       "      <td>...</td>\n",
       "      <td>388</td>\n",
       "      <td>252</td>\n",
       "      <td>181</td>\n",
       "      <td>33</td>\n",
       "      <td>1.0</td>\n",
       "      <td>NaN</td>\n",
       "      <td>712</td>\n",
       "      <td>263</td>\n",
       "      <td>2111.574359</td>\n",
       "      <td>8565.5</td>\n",
       "    </tr>\n",
       "    <tr>\n",
       "      <th>2019-06-01 00:02:00</th>\n",
       "      <td>8556.5</td>\n",
       "      <td>8565.5</td>\n",
       "      <td>8567.5</td>\n",
       "      <td>8556.5</td>\n",
       "      <td>2468185</td>\n",
       "      <td>1224395</td>\n",
       "      <td>1243790</td>\n",
       "      <td>74000.0</td>\n",
       "      <td>214169.0</td>\n",
       "      <td>91</td>\n",
       "      <td>...</td>\n",
       "      <td>347</td>\n",
       "      <td>232</td>\n",
       "      <td>186</td>\n",
       "      <td>22</td>\n",
       "      <td>0.0</td>\n",
       "      <td>NaN</td>\n",
       "      <td>571</td>\n",
       "      <td>120</td>\n",
       "      <td>3571.903039</td>\n",
       "      <td>8562.5</td>\n",
       "    </tr>\n",
       "    <tr>\n",
       "      <th>2019-06-01 00:03:00</th>\n",
       "      <td>8566.0</td>\n",
       "      <td>8562.5</td>\n",
       "      <td>8566.0</td>\n",
       "      <td>8557.5</td>\n",
       "      <td>931585</td>\n",
       "      <td>263639</td>\n",
       "      <td>667946</td>\n",
       "      <td>18521.0</td>\n",
       "      <td>111334.0</td>\n",
       "      <td>186</td>\n",
       "      <td>...</td>\n",
       "      <td>87</td>\n",
       "      <td>65</td>\n",
       "      <td>49</td>\n",
       "      <td>3</td>\n",
       "      <td>0.0</td>\n",
       "      <td>NaN</td>\n",
       "      <td>172</td>\n",
       "      <td>259</td>\n",
       "      <td>2161.450116</td>\n",
       "      <td>8556.5</td>\n",
       "    </tr>\n",
       "    <tr>\n",
       "      <th>2019-06-01 00:04:00</th>\n",
       "      <td>8563.0</td>\n",
       "      <td>8556.5</td>\n",
       "      <td>8563.0</td>\n",
       "      <td>8556.5</td>\n",
       "      <td>797504</td>\n",
       "      <td>170871</td>\n",
       "      <td>626633</td>\n",
       "      <td>65835.0</td>\n",
       "      <td>121070.0</td>\n",
       "      <td>157</td>\n",
       "      <td>...</td>\n",
       "      <td>28</td>\n",
       "      <td>23</td>\n",
       "      <td>15</td>\n",
       "      <td>3</td>\n",
       "      <td>0.0</td>\n",
       "      <td>NaN</td>\n",
       "      <td>48</td>\n",
       "      <td>237</td>\n",
       "      <td>2798.259649</td>\n",
       "      <td>8553.0</td>\n",
       "    </tr>\n",
       "  </tbody>\n",
       "</table>\n",
       "<p>5 rows × 27 columns</p>\n",
       "</div>"
      ],
      "text/plain": [
       "                       open   close    high     low   volume  buy_volume  \\\n",
       "timestamp                                                                  \n",
       "2019-06-01 00:00:00  8546.0  8544.0  8546.5  8543.5  2863215     1490030   \n",
       "2019-06-01 00:01:00  8544.5  8557.0  8563.0  8544.0  2058785     1479285   \n",
       "2019-06-01 00:02:00  8556.5  8565.5  8567.5  8556.5  2468185     1224395   \n",
       "2019-06-01 00:03:00  8566.0  8562.5  8566.0  8557.5   931585      263639   \n",
       "2019-06-01 00:04:00  8563.0  8556.5  8563.0  8556.5   797504      170871   \n",
       "\n",
       "                     sell_volume   max_buy  max_sell  sell_50   ...    \\\n",
       "timestamp                                                       ...     \n",
       "2019-06-01 00:00:00      1373185  200000.0  100400.0      398   ...     \n",
       "2019-06-01 00:01:00       579500  189127.0   90000.0      198   ...     \n",
       "2019-06-01 00:02:00      1243790   74000.0  214169.0       91   ...     \n",
       "2019-06-01 00:03:00       667946   18521.0  111334.0      186   ...     \n",
       "2019-06-01 00:04:00       626633   65835.0  121070.0      157   ...     \n",
       "\n",
       "                     buy_100  buy_500  buy_1000  buy_10000  buy_100000  \\\n",
       "timestamp                                                                \n",
       "2019-06-01 00:00:00      142      113        95         19         4.0   \n",
       "2019-06-01 00:01:00      388      252       181         33         1.0   \n",
       "2019-06-01 00:02:00      347      232       186         22         0.0   \n",
       "2019-06-01 00:03:00       87       65        49          3         0.0   \n",
       "2019-06-01 00:04:00       28       23        15          3         0.0   \n",
       "\n",
       "                     buy_200000  buy_count  sell_count   avg_volume  target  \n",
       "timestamp                                                                    \n",
       "2019-06-01 00:00:00         NaN        201         504  4061.297872  8557.0  \n",
       "2019-06-01 00:01:00         NaN        712         263  2111.574359  8565.5  \n",
       "2019-06-01 00:02:00         NaN        571         120  3571.903039  8562.5  \n",
       "2019-06-01 00:03:00         NaN        172         259  2161.450116  8556.5  \n",
       "2019-06-01 00:04:00         NaN         48         237  2798.259649  8553.0  \n",
       "\n",
       "[5 rows x 27 columns]"
      ]
     },
     "execution_count": 14,
     "metadata": {},
     "output_type": "execute_result"
    }
   ],
   "source": [
    "df.head()"
   ]
  },
  {
   "cell_type": "code",
   "execution_count": 15,
   "metadata": {},
   "outputs": [],
   "source": [
    "df.drop(df.index[-1],axis=0, inplace=True)"
   ]
  },
  {
   "cell_type": "code",
   "execution_count": 16,
   "metadata": {},
   "outputs": [],
   "source": [
    "y = df.target\n",
    "del df['target']\n",
    "x = df.copy()"
   ]
  },
  {
   "cell_type": "code",
   "execution_count": 17,
   "metadata": {},
   "outputs": [],
   "source": [
    "y = pd.DataFrame(y)"
   ]
  },
  {
   "cell_type": "code",
   "execution_count": 18,
   "metadata": {},
   "outputs": [
    {
     "name": "stdout",
     "output_type": "stream",
     "text": [
      "open oh shit\n",
      "close oh shit\n",
      "high oh shit\n",
      "low oh shit\n",
      "max_buy oh shit\n",
      "max_sell oh shit\n",
      "sell_10000 oh shit\n",
      "sell_100000 oh shit\n",
      "sell_200000 oh shit\n",
      "buy_100000 oh shit\n",
      "buy_200000 oh shit\n",
      "avg_volume oh shit\n"
     ]
    }
   ],
   "source": [
    "for column in x.columns:\n",
    "    if x[column].isna().any():\n",
    "        print('{} oh shit'.format(column))"
   ]
  },
  {
   "cell_type": "code",
   "execution_count": 19,
   "metadata": {},
   "outputs": [],
   "source": [
    "x.drop(datetime.datetime.strptime('2019-06-28 12:00:00', '%Y-%m-%d %H:%M:%S'), axis=0, inplace=True)"
   ]
  },
  {
   "cell_type": "code",
   "execution_count": 20,
   "metadata": {},
   "outputs": [],
   "source": [
    "y.drop(datetime.datetime.strptime('2019-06-28 12:00:00', '%Y-%m-%d %H:%M:%S'), axis=0, inplace=True)"
   ]
  },
  {
   "cell_type": "code",
   "execution_count": 21,
   "metadata": {},
   "outputs": [
    {
     "name": "stdout",
     "output_type": "stream",
     "text": [
      "max_buy oh shit\n",
      "max_sell oh shit\n",
      "sell_10000 oh shit\n",
      "sell_100000 oh shit\n",
      "sell_200000 oh shit\n",
      "buy_100000 oh shit\n",
      "buy_200000 oh shit\n"
     ]
    }
   ],
   "source": [
    "for column in x.columns:\n",
    "    if x[column].isna().any():\n",
    "        print('{} oh shit'.format(column))"
   ]
  },
  {
   "cell_type": "code",
   "execution_count": 22,
   "metadata": {},
   "outputs": [],
   "source": [
    "x.fillna(value=0, inplace=True)"
   ]
  },
  {
   "cell_type": "code",
   "execution_count": 23,
   "metadata": {},
   "outputs": [],
   "source": [
    "y.fillna(method='bfill', inplace=True)"
   ]
  },
  {
   "cell_type": "code",
   "execution_count": 24,
   "metadata": {},
   "outputs": [
    {
     "data": {
      "text/plain": [
       "open           False\n",
       "close          False\n",
       "high           False\n",
       "low            False\n",
       "volume         False\n",
       "buy_volume     False\n",
       "sell_volume    False\n",
       "max_buy        False\n",
       "max_sell       False\n",
       "sell_50        False\n",
       "sell_100       False\n",
       "sell_500       False\n",
       "sell_1000      False\n",
       "sell_10000     False\n",
       "sell_100000    False\n",
       "sell_200000    False\n",
       "buy_50         False\n",
       "buy_100        False\n",
       "buy_500        False\n",
       "buy_1000       False\n",
       "buy_10000      False\n",
       "buy_100000     False\n",
       "buy_200000     False\n",
       "buy_count      False\n",
       "sell_count     False\n",
       "avg_volume     False\n",
       "dtype: bool"
      ]
     },
     "execution_count": 24,
     "metadata": {},
     "output_type": "execute_result"
    }
   ],
   "source": [
    "x.isna().any()"
   ]
  },
  {
   "cell_type": "code",
   "execution_count": 25,
   "metadata": {},
   "outputs": [
    {
     "data": {
      "text/html": [
       "<div>\n",
       "<style scoped>\n",
       "    .dataframe tbody tr th:only-of-type {\n",
       "        vertical-align: middle;\n",
       "    }\n",
       "\n",
       "    .dataframe tbody tr th {\n",
       "        vertical-align: top;\n",
       "    }\n",
       "\n",
       "    .dataframe thead th {\n",
       "        text-align: right;\n",
       "    }\n",
       "</style>\n",
       "<table border=\"1\" class=\"dataframe\">\n",
       "  <thead>\n",
       "    <tr style=\"text-align: right;\">\n",
       "      <th></th>\n",
       "      <th>open</th>\n",
       "      <th>close</th>\n",
       "      <th>high</th>\n",
       "      <th>low</th>\n",
       "      <th>volume</th>\n",
       "      <th>buy_volume</th>\n",
       "      <th>sell_volume</th>\n",
       "      <th>max_buy</th>\n",
       "      <th>max_sell</th>\n",
       "      <th>sell_50</th>\n",
       "      <th>...</th>\n",
       "      <th>buy_50</th>\n",
       "      <th>buy_100</th>\n",
       "      <th>buy_500</th>\n",
       "      <th>buy_1000</th>\n",
       "      <th>buy_10000</th>\n",
       "      <th>buy_100000</th>\n",
       "      <th>buy_200000</th>\n",
       "      <th>buy_count</th>\n",
       "      <th>sell_count</th>\n",
       "      <th>avg_volume</th>\n",
       "    </tr>\n",
       "  </thead>\n",
       "  <tbody>\n",
       "    <tr>\n",
       "      <th>count</th>\n",
       "      <td>43198.000000</td>\n",
       "      <td>43198.000000</td>\n",
       "      <td>43198.000000</td>\n",
       "      <td>43198.000000</td>\n",
       "      <td>4.319800e+04</td>\n",
       "      <td>4.319800e+04</td>\n",
       "      <td>4.319800e+04</td>\n",
       "      <td>4.319800e+04</td>\n",
       "      <td>4.319800e+04</td>\n",
       "      <td>43198.000000</td>\n",
       "      <td>...</td>\n",
       "      <td>43198.000000</td>\n",
       "      <td>43198.000000</td>\n",
       "      <td>43198.000000</td>\n",
       "      <td>43198.000000</td>\n",
       "      <td>43198.000000</td>\n",
       "      <td>43198.000000</td>\n",
       "      <td>43198.000000</td>\n",
       "      <td>43198.000000</td>\n",
       "      <td>43198.000000</td>\n",
       "      <td>43198.000000</td>\n",
       "    </tr>\n",
       "    <tr>\n",
       "      <th>mean</th>\n",
       "      <td>9362.878536</td>\n",
       "      <td>9362.881464</td>\n",
       "      <td>9368.970693</td>\n",
       "      <td>9356.360225</td>\n",
       "      <td>3.149687e+06</td>\n",
       "      <td>1.571768e+06</td>\n",
       "      <td>1.577919e+06</td>\n",
       "      <td>1.506361e+05</td>\n",
       "      <td>1.460412e+05</td>\n",
       "      <td>260.405829</td>\n",
       "      <td>...</td>\n",
       "      <td>253.439071</td>\n",
       "      <td>214.650215</td>\n",
       "      <td>157.843233</td>\n",
       "      <td>124.097967</td>\n",
       "      <td>30.431131</td>\n",
       "      <td>1.670517</td>\n",
       "      <td>0.414510</td>\n",
       "      <td>350.907195</td>\n",
       "      <td>349.002801</td>\n",
       "      <td>3816.947216</td>\n",
       "    </tr>\n",
       "    <tr>\n",
       "      <th>std</th>\n",
       "      <td>1529.863423</td>\n",
       "      <td>1529.831834</td>\n",
       "      <td>1534.245653</td>\n",
       "      <td>1525.072690</td>\n",
       "      <td>4.746145e+06</td>\n",
       "      <td>2.557309e+06</td>\n",
       "      <td>3.019206e+06</td>\n",
       "      <td>2.284279e+05</td>\n",
       "      <td>2.181193e+05</td>\n",
       "      <td>381.830314</td>\n",
       "      <td>...</td>\n",
       "      <td>325.425658</td>\n",
       "      <td>278.796878</td>\n",
       "      <td>206.390958</td>\n",
       "      <td>163.317627</td>\n",
       "      <td>44.772644</td>\n",
       "      <td>3.732469</td>\n",
       "      <td>1.369115</td>\n",
       "      <td>428.230570</td>\n",
       "      <td>474.202608</td>\n",
       "      <td>1690.001640</td>\n",
       "    </tr>\n",
       "    <tr>\n",
       "      <th>min</th>\n",
       "      <td>7444.000000</td>\n",
       "      <td>7444.000000</td>\n",
       "      <td>7500.000000</td>\n",
       "      <td>7435.000000</td>\n",
       "      <td>6.157000e+03</td>\n",
       "      <td>0.000000e+00</td>\n",
       "      <td>0.000000e+00</td>\n",
       "      <td>0.000000e+00</td>\n",
       "      <td>0.000000e+00</td>\n",
       "      <td>0.000000</td>\n",
       "      <td>...</td>\n",
       "      <td>0.000000</td>\n",
       "      <td>0.000000</td>\n",
       "      <td>0.000000</td>\n",
       "      <td>0.000000</td>\n",
       "      <td>0.000000</td>\n",
       "      <td>0.000000</td>\n",
       "      <td>0.000000</td>\n",
       "      <td>0.000000</td>\n",
       "      <td>0.000000</td>\n",
       "      <td>181.088235</td>\n",
       "    </tr>\n",
       "    <tr>\n",
       "      <th>25%</th>\n",
       "      <td>7980.000000</td>\n",
       "      <td>7980.000000</td>\n",
       "      <td>7982.125000</td>\n",
       "      <td>7977.000000</td>\n",
       "      <td>7.245728e+05</td>\n",
       "      <td>2.230115e+05</td>\n",
       "      <td>2.077735e+05</td>\n",
       "      <td>4.000000e+04</td>\n",
       "      <td>4.000000e+04</td>\n",
       "      <td>43.000000</td>\n",
       "      <td>...</td>\n",
       "      <td>48.000000</td>\n",
       "      <td>42.000000</td>\n",
       "      <td>31.000000</td>\n",
       "      <td>24.000000</td>\n",
       "      <td>4.000000</td>\n",
       "      <td>0.000000</td>\n",
       "      <td>0.000000</td>\n",
       "      <td>65.000000</td>\n",
       "      <td>59.000000</td>\n",
       "      <td>2650.658438</td>\n",
       "    </tr>\n",
       "    <tr>\n",
       "      <th>50%</th>\n",
       "      <td>8857.500000</td>\n",
       "      <td>8857.500000</td>\n",
       "      <td>8861.500000</td>\n",
       "      <td>8854.250000</td>\n",
       "      <td>1.626538e+06</td>\n",
       "      <td>7.490210e+05</td>\n",
       "      <td>7.076020e+05</td>\n",
       "      <td>1.000000e+05</td>\n",
       "      <td>9.586550e+04</td>\n",
       "      <td>147.000000</td>\n",
       "      <td>...</td>\n",
       "      <td>151.000000</td>\n",
       "      <td>128.000000</td>\n",
       "      <td>92.000000</td>\n",
       "      <td>72.000000</td>\n",
       "      <td>15.000000</td>\n",
       "      <td>0.000000</td>\n",
       "      <td>0.000000</td>\n",
       "      <td>218.000000</td>\n",
       "      <td>212.000000</td>\n",
       "      <td>3581.696612</td>\n",
       "    </tr>\n",
       "    <tr>\n",
       "      <th>75%</th>\n",
       "      <td>10755.000000</td>\n",
       "      <td>10755.000000</td>\n",
       "      <td>10763.500000</td>\n",
       "      <td>10746.000000</td>\n",
       "      <td>3.653984e+06</td>\n",
       "      <td>1.864259e+06</td>\n",
       "      <td>1.766369e+06</td>\n",
       "      <td>1.877328e+05</td>\n",
       "      <td>1.800835e+05</td>\n",
       "      <td>323.000000</td>\n",
       "      <td>...</td>\n",
       "      <td>331.000000</td>\n",
       "      <td>279.000000</td>\n",
       "      <td>204.000000</td>\n",
       "      <td>160.000000</td>\n",
       "      <td>38.000000</td>\n",
       "      <td>2.000000</td>\n",
       "      <td>0.000000</td>\n",
       "      <td>470.000000</td>\n",
       "      <td>449.000000</td>\n",
       "      <td>4675.095777</td>\n",
       "    </tr>\n",
       "    <tr>\n",
       "      <th>max</th>\n",
       "      <td>13907.000000</td>\n",
       "      <td>13907.000000</td>\n",
       "      <td>13920.000000</td>\n",
       "      <td>13881.000000</td>\n",
       "      <td>9.761558e+07</td>\n",
       "      <td>7.852113e+07</td>\n",
       "      <td>7.781222e+07</td>\n",
       "      <td>9.499913e+06</td>\n",
       "      <td>8.000000e+06</td>\n",
       "      <td>8041.000000</td>\n",
       "      <td>...</td>\n",
       "      <td>8434.000000</td>\n",
       "      <td>7551.000000</td>\n",
       "      <td>5653.000000</td>\n",
       "      <td>4406.000000</td>\n",
       "      <td>1251.000000</td>\n",
       "      <td>107.000000</td>\n",
       "      <td>44.000000</td>\n",
       "      <td>9668.000000</td>\n",
       "      <td>9560.000000</td>\n",
       "      <td>32614.656553</td>\n",
       "    </tr>\n",
       "  </tbody>\n",
       "</table>\n",
       "<p>8 rows × 26 columns</p>\n",
       "</div>"
      ],
      "text/plain": [
       "               open         close          high           low        volume  \\\n",
       "count  43198.000000  43198.000000  43198.000000  43198.000000  4.319800e+04   \n",
       "mean    9362.878536   9362.881464   9368.970693   9356.360225  3.149687e+06   \n",
       "std     1529.863423   1529.831834   1534.245653   1525.072690  4.746145e+06   \n",
       "min     7444.000000   7444.000000   7500.000000   7435.000000  6.157000e+03   \n",
       "25%     7980.000000   7980.000000   7982.125000   7977.000000  7.245728e+05   \n",
       "50%     8857.500000   8857.500000   8861.500000   8854.250000  1.626538e+06   \n",
       "75%    10755.000000  10755.000000  10763.500000  10746.000000  3.653984e+06   \n",
       "max    13907.000000  13907.000000  13920.000000  13881.000000  9.761558e+07   \n",
       "\n",
       "         buy_volume   sell_volume       max_buy      max_sell       sell_50  \\\n",
       "count  4.319800e+04  4.319800e+04  4.319800e+04  4.319800e+04  43198.000000   \n",
       "mean   1.571768e+06  1.577919e+06  1.506361e+05  1.460412e+05    260.405829   \n",
       "std    2.557309e+06  3.019206e+06  2.284279e+05  2.181193e+05    381.830314   \n",
       "min    0.000000e+00  0.000000e+00  0.000000e+00  0.000000e+00      0.000000   \n",
       "25%    2.230115e+05  2.077735e+05  4.000000e+04  4.000000e+04     43.000000   \n",
       "50%    7.490210e+05  7.076020e+05  1.000000e+05  9.586550e+04    147.000000   \n",
       "75%    1.864259e+06  1.766369e+06  1.877328e+05  1.800835e+05    323.000000   \n",
       "max    7.852113e+07  7.781222e+07  9.499913e+06  8.000000e+06   8041.000000   \n",
       "\n",
       "           ...             buy_50       buy_100       buy_500      buy_1000  \\\n",
       "count      ...       43198.000000  43198.000000  43198.000000  43198.000000   \n",
       "mean       ...         253.439071    214.650215    157.843233    124.097967   \n",
       "std        ...         325.425658    278.796878    206.390958    163.317627   \n",
       "min        ...           0.000000      0.000000      0.000000      0.000000   \n",
       "25%        ...          48.000000     42.000000     31.000000     24.000000   \n",
       "50%        ...         151.000000    128.000000     92.000000     72.000000   \n",
       "75%        ...         331.000000    279.000000    204.000000    160.000000   \n",
       "max        ...        8434.000000   7551.000000   5653.000000   4406.000000   \n",
       "\n",
       "          buy_10000    buy_100000    buy_200000     buy_count    sell_count  \\\n",
       "count  43198.000000  43198.000000  43198.000000  43198.000000  43198.000000   \n",
       "mean      30.431131      1.670517      0.414510    350.907195    349.002801   \n",
       "std       44.772644      3.732469      1.369115    428.230570    474.202608   \n",
       "min        0.000000      0.000000      0.000000      0.000000      0.000000   \n",
       "25%        4.000000      0.000000      0.000000     65.000000     59.000000   \n",
       "50%       15.000000      0.000000      0.000000    218.000000    212.000000   \n",
       "75%       38.000000      2.000000      0.000000    470.000000    449.000000   \n",
       "max     1251.000000    107.000000     44.000000   9668.000000   9560.000000   \n",
       "\n",
       "         avg_volume  \n",
       "count  43198.000000  \n",
       "mean    3816.947216  \n",
       "std     1690.001640  \n",
       "min      181.088235  \n",
       "25%     2650.658438  \n",
       "50%     3581.696612  \n",
       "75%     4675.095777  \n",
       "max    32614.656553  \n",
       "\n",
       "[8 rows x 26 columns]"
      ]
     },
     "execution_count": 25,
     "metadata": {},
     "output_type": "execute_result"
    }
   ],
   "source": [
    "x.describe()"
   ]
  },
  {
   "cell_type": "code",
   "execution_count": 26,
   "metadata": {},
   "outputs": [],
   "source": [
    "xTrain, xTest, yTrain, yTest = train_test_split(x, y, test_size=0.2)"
   ]
  },
  {
   "cell_type": "code",
   "execution_count": 27,
   "metadata": {},
   "outputs": [],
   "source": [
    "from sklearn.linear_model import RidgeCV, LassoCV"
   ]
  },
  {
   "cell_type": "code",
   "execution_count": 28,
   "metadata": {},
   "outputs": [
    {
     "name": "stdout",
     "output_type": "stream",
     "text": [
      "Lasso Regression Error: 0.8898868075404756\n"
     ]
    }
   ],
   "source": [
    "clf = LassoCV(cv=5)\n",
    "clf.fit(xTrain, yTrain.values.ravel())\n",
    "\n",
    "print('Lasso Regression Error: {}'.format(1 - clf.score(xTest, yTest)))"
   ]
  },
  {
   "cell_type": "code",
   "execution_count": 29,
   "metadata": {},
   "outputs": [],
   "source": [
    "clf = RandomForestRegressor(max_depth=2, max_features=math.floor(math.sqrt(len(x.columns))), n_estimators=50)"
   ]
  },
  {
   "cell_type": "code",
   "execution_count": 30,
   "metadata": {},
   "outputs": [
    {
     "data": {
      "text/plain": [
       "RandomForestRegressor(bootstrap=True, criterion='mse', max_depth=2,\n",
       "           max_features=5, max_leaf_nodes=None, min_impurity_decrease=0.0,\n",
       "           min_impurity_split=None, min_samples_leaf=1,\n",
       "           min_samples_split=2, min_weight_fraction_leaf=0.0,\n",
       "           n_estimators=50, n_jobs=None, oob_score=False,\n",
       "           random_state=None, verbose=0, warm_start=False)"
      ]
     },
     "execution_count": 30,
     "metadata": {},
     "output_type": "execute_result"
    }
   ],
   "source": [
    "clf.fit(xTrain, yTrain.values.ravel())"
   ]
  },
  {
   "cell_type": "code",
   "execution_count": 31,
   "metadata": {},
   "outputs": [
    {
     "name": "stdout",
     "output_type": "stream",
     "text": [
      "RandomForest Error: 0.10296957639537974\n"
     ]
    }
   ],
   "source": [
    "print('RandomForest Error: {}'.format(1 - clf.score(xTest, yTest)))"
   ]
  },
  {
   "cell_type": "code",
   "execution_count": 32,
   "metadata": {},
   "outputs": [
    {
     "data": {
      "image/png": "[encoded data removed]",
      "text/plain": [
       "<Figure size 720x432 with 1 Axes>"
      ]
     },
     "metadata": {
      "needs_background": "light"
     },
     "output_type": "display_data"
    }
   ],
   "source": [
    "features = x.columns\n",
    "importances = clf.feature_importances_\n",
    "indices = np.argsort(importances)[::-1]\n",
    "\n",
    "fig, ax = plt.subplots(figsize=(10,6))\n",
    "ax.bar(range(xTrain.shape[1])[:10], importances[indices[:10]])\n",
    "plt.title('Feature Importances')\n",
    "plt.xticks(range(xTrain.shape[1])[:10], [features[i] for i in indices])\n",
    "ax.set_xlabel('Features')\n",
    "ax.set_ylabel('Variable Importance')\n",
    "plt.show()"
   ]
  },
  {
   "cell_type": "code",
   "execution_count": 33,
   "metadata": {},
   "outputs": [],
   "source": [
    "import xgboost as xgb"
   ]
  },
  {
   "cell_type": "code",
   "execution_count": 34,
   "metadata": {},
   "outputs": [],
   "source": [
    "from sklearn.model_selection import KFold, cross_val_score\n",
    "from sklearn.model_selection import GridSearchCV"
   ]
  },
  {
   "cell_type": "code",
   "execution_count": 35,
   "metadata": {},
   "outputs": [
    {
     "name": "stdout",
     "output_type": "stream",
     "text": [
      "{'max_depth': 6}\n"
     ]
    },
    {
     "data": {
      "text/plain": [
       "0.9998613790028889"
      ]
     },
     "execution_count": 35,
     "metadata": {},
     "output_type": "execute_result"
    }
   ],
   "source": [
    "model = xgb.XGBRegressor()\n",
    "\n",
    "test_params = {\n",
    " 'max_depth':[2,4,6]\n",
    "}\n",
    "\n",
    "model = GridSearchCV(estimator = model,param_grid = test_params, cv=5)\n",
    "model.fit(xTrain, yTrain)\n",
    "print(model.best_params_)\n",
    "model.score(xTest, yTest)"
   ]
  },
  {
   "cell_type": "code",
   "execution_count": 36,
   "metadata": {},
   "outputs": [
    {
     "data": {
      "text/plain": [
       "0.9998610602785571"
      ]
     },
     "execution_count": 36,
     "metadata": {},
     "output_type": "execute_result"
    }
   ],
   "source": [
    "model = xgb.XGBRegressor(max_depth=4)\n",
    "model.fit(xTrain, yTrain)\n",
    "model.score(xTest, yTest)"
   ]
  },
  {
   "cell_type": "code",
   "execution_count": 37,
   "metadata": {},
   "outputs": [
    {
     "data": {
      "image/png": "[encoded data removed]",
      "text/plain": [
       "<Figure size 720x432 with 1 Axes>"
      ]
     },
     "metadata": {
      "needs_background": "light"
     },
     "output_type": "display_data"
    }
   ],
   "source": [
    "features = x.columns\n",
    "importances = model.feature_importances_\n",
    "indices = np.argsort(importances)[::-1]\n",
    "\n",
    "fig, ax = plt.subplots(figsize=(10,6))\n",
    "ax.bar(range(xTrain.shape[1])[:10], importances[indices[:10]])\n",
    "plt.title('Feature Importances')\n",
    "plt.xticks(range(xTrain.shape[1])[:10], [features[i] for i in indices], rotation='vertical')\n",
    "ax.set_xlabel('Features')\n",
    "ax.set_ylabel('Variable Importance')\n",
    "plt.show()"
   ]
  },
  {
   "cell_type": "code",
   "execution_count": 38,
   "metadata": {},
   "outputs": [
    {
     "data": {
      "text/html": [
       "<div>\n",
       "<style scoped>\n",
       "    .dataframe tbody tr th:only-of-type {\n",
       "        vertical-align: middle;\n",
       "    }\n",
       "\n",
       "    .dataframe tbody tr th {\n",
       "        vertical-align: top;\n",
       "    }\n",
       "\n",
       "    .dataframe thead th {\n",
       "        text-align: right;\n",
       "    }\n",
       "</style>\n",
       "<table border=\"1\" class=\"dataframe\">\n",
       "  <thead>\n",
       "    <tr style=\"text-align: right;\">\n",
       "      <th></th>\n",
       "      <th>open</th>\n",
       "      <th>close</th>\n",
       "      <th>high</th>\n",
       "      <th>low</th>\n",
       "      <th>volume</th>\n",
       "      <th>buy_volume</th>\n",
       "      <th>sell_volume</th>\n",
       "      <th>max_buy</th>\n",
       "      <th>max_sell</th>\n",
       "      <th>sell_50</th>\n",
       "      <th>...</th>\n",
       "      <th>buy_50</th>\n",
       "      <th>buy_100</th>\n",
       "      <th>buy_500</th>\n",
       "      <th>buy_1000</th>\n",
       "      <th>buy_10000</th>\n",
       "      <th>buy_100000</th>\n",
       "      <th>buy_200000</th>\n",
       "      <th>buy_count</th>\n",
       "      <th>sell_count</th>\n",
       "      <th>avg_volume</th>\n",
       "    </tr>\n",
       "    <tr>\n",
       "      <th>timestamp</th>\n",
       "      <th></th>\n",
       "      <th></th>\n",
       "      <th></th>\n",
       "      <th></th>\n",
       "      <th></th>\n",
       "      <th></th>\n",
       "      <th></th>\n",
       "      <th></th>\n",
       "      <th></th>\n",
       "      <th></th>\n",
       "      <th></th>\n",
       "      <th></th>\n",
       "      <th></th>\n",
       "      <th></th>\n",
       "      <th></th>\n",
       "      <th></th>\n",
       "      <th></th>\n",
       "      <th></th>\n",
       "      <th></th>\n",
       "      <th></th>\n",
       "      <th></th>\n",
       "    </tr>\n",
       "  </thead>\n",
       "  <tbody>\n",
       "    <tr>\n",
       "      <th>2019-06-01 00:00:00</th>\n",
       "      <td>8546.0</td>\n",
       "      <td>8544.0</td>\n",
       "      <td>8546.5</td>\n",
       "      <td>8543.5</td>\n",
       "      <td>2863215</td>\n",
       "      <td>1490030</td>\n",
       "      <td>1373185</td>\n",
       "      <td>200000.0</td>\n",
       "      <td>100400.0</td>\n",
       "      <td>398</td>\n",
       "      <td>...</td>\n",
       "      <td>160</td>\n",
       "      <td>142</td>\n",
       "      <td>113</td>\n",
       "      <td>95</td>\n",
       "      <td>19</td>\n",
       "      <td>4.0</td>\n",
       "      <td>0.0</td>\n",
       "      <td>201</td>\n",
       "      <td>504</td>\n",
       "      <td>4061.297872</td>\n",
       "    </tr>\n",
       "    <tr>\n",
       "      <th>2019-06-01 00:01:00</th>\n",
       "      <td>8544.5</td>\n",
       "      <td>8557.0</td>\n",
       "      <td>8563.0</td>\n",
       "      <td>8544.0</td>\n",
       "      <td>2058785</td>\n",
       "      <td>1479285</td>\n",
       "      <td>579500</td>\n",
       "      <td>189127.0</td>\n",
       "      <td>90000.0</td>\n",
       "      <td>198</td>\n",
       "      <td>...</td>\n",
       "      <td>464</td>\n",
       "      <td>388</td>\n",
       "      <td>252</td>\n",
       "      <td>181</td>\n",
       "      <td>33</td>\n",
       "      <td>1.0</td>\n",
       "      <td>0.0</td>\n",
       "      <td>712</td>\n",
       "      <td>263</td>\n",
       "      <td>2111.574359</td>\n",
       "    </tr>\n",
       "    <tr>\n",
       "      <th>2019-06-01 00:02:00</th>\n",
       "      <td>8556.5</td>\n",
       "      <td>8565.5</td>\n",
       "      <td>8567.5</td>\n",
       "      <td>8556.5</td>\n",
       "      <td>2468185</td>\n",
       "      <td>1224395</td>\n",
       "      <td>1243790</td>\n",
       "      <td>74000.0</td>\n",
       "      <td>214169.0</td>\n",
       "      <td>91</td>\n",
       "      <td>...</td>\n",
       "      <td>382</td>\n",
       "      <td>347</td>\n",
       "      <td>232</td>\n",
       "      <td>186</td>\n",
       "      <td>22</td>\n",
       "      <td>0.0</td>\n",
       "      <td>0.0</td>\n",
       "      <td>571</td>\n",
       "      <td>120</td>\n",
       "      <td>3571.903039</td>\n",
       "    </tr>\n",
       "    <tr>\n",
       "      <th>2019-06-01 00:03:00</th>\n",
       "      <td>8566.0</td>\n",
       "      <td>8562.5</td>\n",
       "      <td>8566.0</td>\n",
       "      <td>8557.5</td>\n",
       "      <td>931585</td>\n",
       "      <td>263639</td>\n",
       "      <td>667946</td>\n",
       "      <td>18521.0</td>\n",
       "      <td>111334.0</td>\n",
       "      <td>186</td>\n",
       "      <td>...</td>\n",
       "      <td>108</td>\n",
       "      <td>87</td>\n",
       "      <td>65</td>\n",
       "      <td>49</td>\n",
       "      <td>3</td>\n",
       "      <td>0.0</td>\n",
       "      <td>0.0</td>\n",
       "      <td>172</td>\n",
       "      <td>259</td>\n",
       "      <td>2161.450116</td>\n",
       "    </tr>\n",
       "    <tr>\n",
       "      <th>2019-06-01 00:04:00</th>\n",
       "      <td>8563.0</td>\n",
       "      <td>8556.5</td>\n",
       "      <td>8563.0</td>\n",
       "      <td>8556.5</td>\n",
       "      <td>797504</td>\n",
       "      <td>170871</td>\n",
       "      <td>626633</td>\n",
       "      <td>65835.0</td>\n",
       "      <td>121070.0</td>\n",
       "      <td>157</td>\n",
       "      <td>...</td>\n",
       "      <td>32</td>\n",
       "      <td>28</td>\n",
       "      <td>23</td>\n",
       "      <td>15</td>\n",
       "      <td>3</td>\n",
       "      <td>0.0</td>\n",
       "      <td>0.0</td>\n",
       "      <td>48</td>\n",
       "      <td>237</td>\n",
       "      <td>2798.259649</td>\n",
       "    </tr>\n",
       "  </tbody>\n",
       "</table>\n",
       "<p>5 rows × 26 columns</p>\n",
       "</div>"
      ],
      "text/plain": [
       "                       open   close    high     low   volume  buy_volume  \\\n",
       "timestamp                                                                  \n",
       "2019-06-01 00:00:00  8546.0  8544.0  8546.5  8543.5  2863215     1490030   \n",
       "2019-06-01 00:01:00  8544.5  8557.0  8563.0  8544.0  2058785     1479285   \n",
       "2019-06-01 00:02:00  8556.5  8565.5  8567.5  8556.5  2468185     1224395   \n",
       "2019-06-01 00:03:00  8566.0  8562.5  8566.0  8557.5   931585      263639   \n",
       "2019-06-01 00:04:00  8563.0  8556.5  8563.0  8556.5   797504      170871   \n",
       "\n",
       "                     sell_volume   max_buy  max_sell  sell_50     ...       \\\n",
       "timestamp                                                         ...        \n",
       "2019-06-01 00:00:00      1373185  200000.0  100400.0      398     ...        \n",
       "2019-06-01 00:01:00       579500  189127.0   90000.0      198     ...        \n",
       "2019-06-01 00:02:00      1243790   74000.0  214169.0       91     ...        \n",
       "2019-06-01 00:03:00       667946   18521.0  111334.0      186     ...        \n",
       "2019-06-01 00:04:00       626633   65835.0  121070.0      157     ...        \n",
       "\n",
       "                     buy_50  buy_100  buy_500  buy_1000  buy_10000  \\\n",
       "timestamp                                                            \n",
       "2019-06-01 00:00:00     160      142      113        95         19   \n",
       "2019-06-01 00:01:00     464      388      252       181         33   \n",
       "2019-06-01 00:02:00     382      347      232       186         22   \n",
       "2019-06-01 00:03:00     108       87       65        49          3   \n",
       "2019-06-01 00:04:00      32       28       23        15          3   \n",
       "\n",
       "                     buy_100000  buy_200000  buy_count  sell_count  \\\n",
       "timestamp                                                            \n",
       "2019-06-01 00:00:00         4.0         0.0        201         504   \n",
       "2019-06-01 00:01:00         1.0         0.0        712         263   \n",
       "2019-06-01 00:02:00         0.0         0.0        571         120   \n",
       "2019-06-01 00:03:00         0.0         0.0        172         259   \n",
       "2019-06-01 00:04:00         0.0         0.0         48         237   \n",
       "\n",
       "                      avg_volume  \n",
       "timestamp                         \n",
       "2019-06-01 00:00:00  4061.297872  \n",
       "2019-06-01 00:01:00  2111.574359  \n",
       "2019-06-01 00:02:00  3571.903039  \n",
       "2019-06-01 00:03:00  2161.450116  \n",
       "2019-06-01 00:04:00  2798.259649  \n",
       "\n",
       "[5 rows x 26 columns]"
      ]
     },
     "execution_count": 38,
     "metadata": {},
     "output_type": "execute_result"
    }
   ],
   "source": [
    "x.head()"
   ]
  },
  {
   "cell_type": "code",
   "execution_count": 39,
   "metadata": {},
   "outputs": [
    {
     "data": {
      "text/plain": [
       "Index(['open', 'close', 'high', 'low', 'volume', 'buy_volume', 'sell_volume',\n",
       "       'max_buy', 'max_sell', 'sell_50', 'sell_100', 'sell_500', 'sell_1000',\n",
       "       'sell_10000', 'sell_100000', 'sell_200000', 'buy_50', 'buy_100',\n",
       "       'buy_500', 'buy_1000', 'buy_10000', 'buy_100000', 'buy_200000',\n",
       "       'buy_count', 'sell_count', 'avg_volume'],\n",
       "      dtype='object')"
      ]
     },
     "execution_count": 39,
     "metadata": {},
     "output_type": "execute_result"
    }
   ],
   "source": [
    "x.columns"
   ]
  },
  {
   "cell_type": "code",
   "execution_count": 40,
   "metadata": {},
   "outputs": [],
   "source": [
    "# x['sell_0-50'] = np.nan\n",
    "# x['sell_50-100'] = np.nan\n",
    "# x['sell_100-500'] = np.nan\n",
    "# x['sell_500-1000'] = np.nan\n",
    "# x['sell_1000-10000'] = np.nan\n",
    "# x['sell_10000-100000'] = np.nan\n",
    "# x['sell_100000-200000'] = np.nan\n",
    "\n",
    "# x['buy_0-50'] = np.nan\n",
    "# x['buy_50-100'] = np.nan\n",
    "# x['buy_100-500'] = np.nan\n",
    "# x['buy_500-1000'] = np.nan\n",
    "# x['buy_1000-10000'] = np.nan\n",
    "# x['buy_10000-100000'] = np.nan\n",
    "# x['buy_100000-200000'] = np.nan\n",
    "\n",
    "# x['trade_count'] = np.nan\n",
    "# x['target'] = y.target"
   ]
  },
  {
   "cell_type": "code",
   "execution_count": 41,
   "metadata": {},
   "outputs": [],
   "source": [
    "# x.buy_volume = x.buy_volume.astype(np.float64)\n",
    "# x.sell_volume = x.sell_volume.astype(np.float64)\n",
    "# x.buy_count = x.buy_count.astype(np.float64)\n",
    "# x.sell_count = x.sell_count.astype(np.float64)"
   ]
  },
  {
   "cell_type": "code",
   "execution_count": 42,
   "metadata": {},
   "outputs": [],
   "source": [
    "# for i, row in x.iterrows():\n",
    "#     x.at[i, 'target'] = (x.loc[i, 'target']) / x.loc[i, 'close'] if x.loc[i, 'close'] != 0 else 0\n",
    "#     x.at[i, 'close'] = (x.loc[i, 'close']) / x.loc[i, 'open'] if x.loc[i, 'open'] != 0 else 0\n",
    "#     x.at[i, 'high'] = (x.loc[i, 'high']) / x.loc[i, 'open'] if x.loc[i, 'open'] != 0 else 0\n",
    "#     x.at[i, 'low'] = (x.loc[i, 'low']) / x.loc[i, 'open'] if x.loc[i, 'open'] != 0 else 0\n",
    "#     x.at[i, 'avg_volume'] = x.loc[i, 'avg_volume'] / x.loc[i, 'volume'] if x.loc[i, 'volume'] != 0 else 0\n",
    "#     x.at[i, 'open'] = (x.loc[i, 'open']) / x.loc[i, 'open'] if x.loc[i, 'open'] != 0 else 0\n",
    "#     x.at[i, 'max_buy'] = x.loc[i, 'max_buy'] / x.loc[i, 'buy_volume'] if x.loc[i, 'buy_volume'] != 0 else 0\n",
    "#     x.at[i, 'max_sell'] = x.loc[i, 'max_sell'] / x.loc[i, 'sell_volume'] if x.loc[i, 'sell_volume'] != 0 else 0\n",
    "#     x.at[i, 'buy_volume'] = (x.loc[i, 'buy_volume'] / x.loc[i, 'volume']) if x.loc[i, 'volume'] != 0 else 0\n",
    "#     x.at[i, 'sell_volume'] = (x.loc[i, 'sell_volume'] / x.loc[i, 'volume']) if x.loc[i, 'volume'] != 0 else 0\n",
    "    \n",
    "#     total_count = (x.loc[i, 'buy_count'] + x.loc[i, 'sell_count'])\n",
    "#     x.at[i, 'sell_0-50'] = (x.loc[i, 'sell_count'] - x.loc[i, 'sell_50']) / x.loc[i, 'sell_count'] if x.loc[i, 'sell_count'] != 0 else 0\n",
    "#     x.at[i, 'sell_50-100'] = (x.loc[i, 'sell_50'] - x.loc[i, 'sell_100']) / x.loc[i, 'sell_count'] if x.loc[i, 'sell_count'] != 0 else 0\n",
    "#     x.at[i, 'sell_100-500'] = (x.loc[i, 'sell_100'] - x.loc[i, 'sell_500']) / x.loc[i, 'sell_count'] if x.loc[i, 'sell_count'] != 0 else 0\n",
    "#     x.at[i, 'sell_500-1000'] = (x.loc[i, 'sell_500'] - x.loc[i, 'sell_1000']) / x.loc[i, 'sell_count'] if x.loc[i, 'sell_count'] != 0 else 0\n",
    "#     x.at[i, 'sell_1000-10000'] = (x.loc[i, 'sell_1000'] - x.loc[i, 'sell_10000']) / x.loc[i, 'sell_count'] if x.loc[i, 'sell_count'] != 0 else 0\n",
    "#     x.at[i, 'sell_10000-100000'] = (x.loc[i, 'sell_10000'] - x.loc[i, 'sell_100000']) / x.loc[i, 'sell_count'] if x.loc[i, 'sell_count'] != 0 else 0\n",
    "#     x.at[i, 'sell_100000-200000'] = (x.loc[i, 'sell_100000'] - x.loc[i, 'sell_200000']) / x.loc[i, 'sell_count'] if x.loc[i, 'sell_count'] != 0 else 0\n",
    "#     x.at[i, 'sell_200000'] = (x.loc[i, 'sell_200000']) / x.loc[i, 'sell_count'] if x.loc[i, 'sell_count'] != 0 else 0\n",
    "#     x.at[i, 'sell_count'] = x.loc[i, 'sell_count'] / total_count if total_count != 0 else 0\n",
    "    \n",
    "#     x.at[i, 'buy_0-50'] = (x.loc[i, 'buy_count'] - x.loc[i, 'buy_50']) / x.loc[i, 'buy_count'] if x.loc[i, 'buy_count'] != 0 else 0\n",
    "#     x.at[i, 'buy_50-100'] = (x.loc[i, 'buy_50'] - x.loc[i, 'buy_100']) / x.loc[i, 'buy_count'] if x.loc[i, 'buy_count'] != 0 else 0\n",
    "#     x.at[i, 'buy_100-500'] = (x.loc[i, 'buy_100'] - x.loc[i, 'buy_500']) / x.loc[i, 'buy_count'] if x.loc[i, 'buy_count'] != 0 else 0\n",
    "#     x.at[i, 'buy_500-1000'] = (x.loc[i, 'buy_500'] - x.loc[i, 'buy_1000']) / x.loc[i, 'buy_count'] if x.loc[i, 'buy_count'] != 0 else 0\n",
    "#     x.at[i, 'buy_1000-10000'] = (x.loc[i, 'buy_1000'] - x.loc[i, 'buy_10000']) / x.loc[i, 'buy_count'] if x.loc[i, 'buy_count'] != 0 else 0\n",
    "#     x.at[i, 'buy_10000-100000'] = (x.loc[i, 'buy_10000'] - x.loc[i, 'buy_100000']) / x.loc[i, 'buy_count'] if x.loc[i, 'buy_count'] != 0 else 0\n",
    "#     x.at[i, 'buy_100000-200000'] = (x.loc[i, 'buy_100000'] - x.loc[i, 'buy_200000']) / x.loc[i, 'buy_count'] if x.loc[i, 'buy_count'] != 0 else 0\n",
    "#     x.at[i, 'buy_200000'] = (x.loc[i, 'buy_200000']) / x.loc[i, 'buy_count'] if x.loc[i, 'buy_count'] != 0 else 0\n",
    "#     x.at[i, 'buy_count'] = x.loc[i, 'buy_count'] / total_count if total_count != 0 else 0"
   ]
  },
  {
   "cell_type": "code",
   "execution_count": 43,
   "metadata": {},
   "outputs": [],
   "source": [
    "# y = pd.DataFrame(x.target)"
   ]
  },
  {
   "cell_type": "code",
   "execution_count": 44,
   "metadata": {
    "scrolled": true
   },
   "outputs": [],
   "source": [
    "# del x['trade_count']\n",
    "\n",
    "# del x['sell_50']\n",
    "# del x['sell_100']\n",
    "# del x['sell_500']\n",
    "# del x['sell_1000']\n",
    "# del x['sell_10000']\n",
    "# del x['sell_100000']\n",
    "\n",
    "# del x['buy_50']\n",
    "# del x['buy_100']\n",
    "# del x['buy_500']\n",
    "# del x['buy_1000']\n",
    "# del x['buy_10000']\n",
    "# del x['buy_100000']\n",
    "\n",
    "# del x['volume']\n",
    "# del x['target']"
   ]
  },
  {
   "cell_type": "code",
   "execution_count": 45,
   "metadata": {},
   "outputs": [],
   "source": [
    "# x.columns"
   ]
  },
  {
   "cell_type": "code",
   "execution_count": 46,
   "metadata": {},
   "outputs": [],
   "source": [
    "# y.head()"
   ]
  },
  {
   "cell_type": "code",
   "execution_count": 47,
   "metadata": {},
   "outputs": [],
   "source": [
    "# from sklearn.preprocessing import normalize"
   ]
  },
  {
   "cell_type": "code",
   "execution_count": 48,
   "metadata": {},
   "outputs": [],
   "source": [
    "# x = normalize(x)\n",
    "# y = normalize(y)"
   ]
  },
  {
   "cell_type": "code",
   "execution_count": 49,
   "metadata": {},
   "outputs": [],
   "source": [
    "# xTrain, xTest, yTrain, yTest = train_test_split(x, y, test_size=0.2)"
   ]
  },
  {
   "cell_type": "code",
   "execution_count": 50,
   "metadata": {},
   "outputs": [],
   "source": [
    "# model = xgb.XGBRegressor()\n",
    "\n",
    "# test_params = {\n",
    "#  'max_depth':[2,4,6]\n",
    "# }\n",
    "\n",
    "# model = GridSearchCV(estimator = model,param_grid = test_params, cv=5)\n",
    "# model.fit(xTrain, yTrain)\n",
    "# print(model.best_params_)\n",
    "# model.score(xTest, yTest)"
   ]
  },
  {
   "cell_type": "code",
   "execution_count": 51,
   "metadata": {},
   "outputs": [],
   "source": [
    "# clf = RandomForestRegressor(max_depth=2, max_features=math.floor(math.sqrt(len(x.columns))), n_estimators=50)\n",
    "# clf.fit(xTrain, yTrain)\n",
    "# clf.score(xTest, yTest)"
   ]
  },
  {
   "cell_type": "code",
   "execution_count": 52,
   "metadata": {},
   "outputs": [
    {
     "data": {
      "text/html": [
       "<div>\n",
       "<style scoped>\n",
       "    .dataframe tbody tr th:only-of-type {\n",
       "        vertical-align: middle;\n",
       "    }\n",
       "\n",
       "    .dataframe tbody tr th {\n",
       "        vertical-align: top;\n",
       "    }\n",
       "\n",
       "    .dataframe thead th {\n",
       "        text-align: right;\n",
       "    }\n",
       "</style>\n",
       "<table border=\"1\" class=\"dataframe\">\n",
       "  <thead>\n",
       "    <tr style=\"text-align: right;\">\n",
       "      <th></th>\n",
       "      <th>open</th>\n",
       "      <th>close</th>\n",
       "      <th>high</th>\n",
       "      <th>low</th>\n",
       "      <th>volume</th>\n",
       "      <th>buy_volume</th>\n",
       "      <th>sell_volume</th>\n",
       "      <th>max_buy</th>\n",
       "      <th>max_sell</th>\n",
       "      <th>sell_50</th>\n",
       "      <th>...</th>\n",
       "      <th>buy_50</th>\n",
       "      <th>buy_100</th>\n",
       "      <th>buy_500</th>\n",
       "      <th>buy_1000</th>\n",
       "      <th>buy_10000</th>\n",
       "      <th>buy_100000</th>\n",
       "      <th>buy_200000</th>\n",
       "      <th>buy_count</th>\n",
       "      <th>sell_count</th>\n",
       "      <th>avg_volume</th>\n",
       "    </tr>\n",
       "    <tr>\n",
       "      <th>timestamp</th>\n",
       "      <th></th>\n",
       "      <th></th>\n",
       "      <th></th>\n",
       "      <th></th>\n",
       "      <th></th>\n",
       "      <th></th>\n",
       "      <th></th>\n",
       "      <th></th>\n",
       "      <th></th>\n",
       "      <th></th>\n",
       "      <th></th>\n",
       "      <th></th>\n",
       "      <th></th>\n",
       "      <th></th>\n",
       "      <th></th>\n",
       "      <th></th>\n",
       "      <th></th>\n",
       "      <th></th>\n",
       "      <th></th>\n",
       "      <th></th>\n",
       "      <th></th>\n",
       "    </tr>\n",
       "  </thead>\n",
       "  <tbody>\n",
       "    <tr>\n",
       "      <th>2019-06-01 00:00:00</th>\n",
       "      <td>8546.0</td>\n",
       "      <td>8544.0</td>\n",
       "      <td>8546.5</td>\n",
       "      <td>8543.5</td>\n",
       "      <td>2863215</td>\n",
       "      <td>1490030</td>\n",
       "      <td>1373185</td>\n",
       "      <td>200000.0</td>\n",
       "      <td>100400.0</td>\n",
       "      <td>398</td>\n",
       "      <td>...</td>\n",
       "      <td>160</td>\n",
       "      <td>142</td>\n",
       "      <td>113</td>\n",
       "      <td>95</td>\n",
       "      <td>19</td>\n",
       "      <td>4.0</td>\n",
       "      <td>0.0</td>\n",
       "      <td>201</td>\n",
       "      <td>504</td>\n",
       "      <td>4061.297872</td>\n",
       "    </tr>\n",
       "    <tr>\n",
       "      <th>2019-06-01 00:01:00</th>\n",
       "      <td>8544.5</td>\n",
       "      <td>8557.0</td>\n",
       "      <td>8563.0</td>\n",
       "      <td>8544.0</td>\n",
       "      <td>2058785</td>\n",
       "      <td>1479285</td>\n",
       "      <td>579500</td>\n",
       "      <td>189127.0</td>\n",
       "      <td>90000.0</td>\n",
       "      <td>198</td>\n",
       "      <td>...</td>\n",
       "      <td>464</td>\n",
       "      <td>388</td>\n",
       "      <td>252</td>\n",
       "      <td>181</td>\n",
       "      <td>33</td>\n",
       "      <td>1.0</td>\n",
       "      <td>0.0</td>\n",
       "      <td>712</td>\n",
       "      <td>263</td>\n",
       "      <td>2111.574359</td>\n",
       "    </tr>\n",
       "    <tr>\n",
       "      <th>2019-06-01 00:02:00</th>\n",
       "      <td>8556.5</td>\n",
       "      <td>8565.5</td>\n",
       "      <td>8567.5</td>\n",
       "      <td>8556.5</td>\n",
       "      <td>2468185</td>\n",
       "      <td>1224395</td>\n",
       "      <td>1243790</td>\n",
       "      <td>74000.0</td>\n",
       "      <td>214169.0</td>\n",
       "      <td>91</td>\n",
       "      <td>...</td>\n",
       "      <td>382</td>\n",
       "      <td>347</td>\n",
       "      <td>232</td>\n",
       "      <td>186</td>\n",
       "      <td>22</td>\n",
       "      <td>0.0</td>\n",
       "      <td>0.0</td>\n",
       "      <td>571</td>\n",
       "      <td>120</td>\n",
       "      <td>3571.903039</td>\n",
       "    </tr>\n",
       "    <tr>\n",
       "      <th>2019-06-01 00:03:00</th>\n",
       "      <td>8566.0</td>\n",
       "      <td>8562.5</td>\n",
       "      <td>8566.0</td>\n",
       "      <td>8557.5</td>\n",
       "      <td>931585</td>\n",
       "      <td>263639</td>\n",
       "      <td>667946</td>\n",
       "      <td>18521.0</td>\n",
       "      <td>111334.0</td>\n",
       "      <td>186</td>\n",
       "      <td>...</td>\n",
       "      <td>108</td>\n",
       "      <td>87</td>\n",
       "      <td>65</td>\n",
       "      <td>49</td>\n",
       "      <td>3</td>\n",
       "      <td>0.0</td>\n",
       "      <td>0.0</td>\n",
       "      <td>172</td>\n",
       "      <td>259</td>\n",
       "      <td>2161.450116</td>\n",
       "    </tr>\n",
       "    <tr>\n",
       "      <th>2019-06-01 00:04:00</th>\n",
       "      <td>8563.0</td>\n",
       "      <td>8556.5</td>\n",
       "      <td>8563.0</td>\n",
       "      <td>8556.5</td>\n",
       "      <td>797504</td>\n",
       "      <td>170871</td>\n",
       "      <td>626633</td>\n",
       "      <td>65835.0</td>\n",
       "      <td>121070.0</td>\n",
       "      <td>157</td>\n",
       "      <td>...</td>\n",
       "      <td>32</td>\n",
       "      <td>28</td>\n",
       "      <td>23</td>\n",
       "      <td>15</td>\n",
       "      <td>3</td>\n",
       "      <td>0.0</td>\n",
       "      <td>0.0</td>\n",
       "      <td>48</td>\n",
       "      <td>237</td>\n",
       "      <td>2798.259649</td>\n",
       "    </tr>\n",
       "  </tbody>\n",
       "</table>\n",
       "<p>5 rows × 26 columns</p>\n",
       "</div>"
      ],
      "text/plain": [
       "                       open   close    high     low   volume  buy_volume  \\\n",
       "timestamp                                                                  \n",
       "2019-06-01 00:00:00  8546.0  8544.0  8546.5  8543.5  2863215     1490030   \n",
       "2019-06-01 00:01:00  8544.5  8557.0  8563.0  8544.0  2058785     1479285   \n",
       "2019-06-01 00:02:00  8556.5  8565.5  8567.5  8556.5  2468185     1224395   \n",
       "2019-06-01 00:03:00  8566.0  8562.5  8566.0  8557.5   931585      263639   \n",
       "2019-06-01 00:04:00  8563.0  8556.5  8563.0  8556.5   797504      170871   \n",
       "\n",
       "                     sell_volume   max_buy  max_sell  sell_50     ...       \\\n",
       "timestamp                                                         ...        \n",
       "2019-06-01 00:00:00      1373185  200000.0  100400.0      398     ...        \n",
       "2019-06-01 00:01:00       579500  189127.0   90000.0      198     ...        \n",
       "2019-06-01 00:02:00      1243790   74000.0  214169.0       91     ...        \n",
       "2019-06-01 00:03:00       667946   18521.0  111334.0      186     ...        \n",
       "2019-06-01 00:04:00       626633   65835.0  121070.0      157     ...        \n",
       "\n",
       "                     buy_50  buy_100  buy_500  buy_1000  buy_10000  \\\n",
       "timestamp                                                            \n",
       "2019-06-01 00:00:00     160      142      113        95         19   \n",
       "2019-06-01 00:01:00     464      388      252       181         33   \n",
       "2019-06-01 00:02:00     382      347      232       186         22   \n",
       "2019-06-01 00:03:00     108       87       65        49          3   \n",
       "2019-06-01 00:04:00      32       28       23        15          3   \n",
       "\n",
       "                     buy_100000  buy_200000  buy_count  sell_count  \\\n",
       "timestamp                                                            \n",
       "2019-06-01 00:00:00         4.0         0.0        201         504   \n",
       "2019-06-01 00:01:00         1.0         0.0        712         263   \n",
       "2019-06-01 00:02:00         0.0         0.0        571         120   \n",
       "2019-06-01 00:03:00         0.0         0.0        172         259   \n",
       "2019-06-01 00:04:00         0.0         0.0         48         237   \n",
       "\n",
       "                      avg_volume  \n",
       "timestamp                         \n",
       "2019-06-01 00:00:00  4061.297872  \n",
       "2019-06-01 00:01:00  2111.574359  \n",
       "2019-06-01 00:02:00  3571.903039  \n",
       "2019-06-01 00:03:00  2161.450116  \n",
       "2019-06-01 00:04:00  2798.259649  \n",
       "\n",
       "[5 rows x 26 columns]"
      ]
     },
     "execution_count": 52,
     "metadata": {},
     "output_type": "execute_result"
    }
   ],
   "source": [
    "x.head()"
   ]
  },
  {
   "cell_type": "code",
   "execution_count": 53,
   "metadata": {},
   "outputs": [],
   "source": [
    "x.dropna(axis=1,inplace=True)"
   ]
  },
  {
   "cell_type": "code",
   "execution_count": 54,
   "metadata": {},
   "outputs": [
    {
     "data": {
      "text/html": [
       "<div>\n",
       "<style scoped>\n",
       "    .dataframe tbody tr th:only-of-type {\n",
       "        vertical-align: middle;\n",
       "    }\n",
       "\n",
       "    .dataframe tbody tr th {\n",
       "        vertical-align: top;\n",
       "    }\n",
       "\n",
       "    .dataframe thead th {\n",
       "        text-align: right;\n",
       "    }\n",
       "</style>\n",
       "<table border=\"1\" class=\"dataframe\">\n",
       "  <thead>\n",
       "    <tr style=\"text-align: right;\">\n",
       "      <th></th>\n",
       "      <th>open</th>\n",
       "      <th>close</th>\n",
       "      <th>high</th>\n",
       "      <th>low</th>\n",
       "      <th>volume</th>\n",
       "      <th>buy_volume</th>\n",
       "      <th>sell_volume</th>\n",
       "      <th>max_buy</th>\n",
       "      <th>max_sell</th>\n",
       "      <th>sell_50</th>\n",
       "      <th>...</th>\n",
       "      <th>buy_50</th>\n",
       "      <th>buy_100</th>\n",
       "      <th>buy_500</th>\n",
       "      <th>buy_1000</th>\n",
       "      <th>buy_10000</th>\n",
       "      <th>buy_100000</th>\n",
       "      <th>buy_200000</th>\n",
       "      <th>buy_count</th>\n",
       "      <th>sell_count</th>\n",
       "      <th>avg_volume</th>\n",
       "    </tr>\n",
       "    <tr>\n",
       "      <th>timestamp</th>\n",
       "      <th></th>\n",
       "      <th></th>\n",
       "      <th></th>\n",
       "      <th></th>\n",
       "      <th></th>\n",
       "      <th></th>\n",
       "      <th></th>\n",
       "      <th></th>\n",
       "      <th></th>\n",
       "      <th></th>\n",
       "      <th></th>\n",
       "      <th></th>\n",
       "      <th></th>\n",
       "      <th></th>\n",
       "      <th></th>\n",
       "      <th></th>\n",
       "      <th></th>\n",
       "      <th></th>\n",
       "      <th></th>\n",
       "      <th></th>\n",
       "      <th></th>\n",
       "    </tr>\n",
       "  </thead>\n",
       "  <tbody>\n",
       "    <tr>\n",
       "      <th>2019-06-01 00:00:00</th>\n",
       "      <td>8546.0</td>\n",
       "      <td>8544.0</td>\n",
       "      <td>8546.5</td>\n",
       "      <td>8543.5</td>\n",
       "      <td>2863215</td>\n",
       "      <td>1490030</td>\n",
       "      <td>1373185</td>\n",
       "      <td>200000.0</td>\n",
       "      <td>100400.0</td>\n",
       "      <td>398</td>\n",
       "      <td>...</td>\n",
       "      <td>160</td>\n",
       "      <td>142</td>\n",
       "      <td>113</td>\n",
       "      <td>95</td>\n",
       "      <td>19</td>\n",
       "      <td>4.0</td>\n",
       "      <td>0.0</td>\n",
       "      <td>201</td>\n",
       "      <td>504</td>\n",
       "      <td>4061.297872</td>\n",
       "    </tr>\n",
       "    <tr>\n",
       "      <th>2019-06-01 00:01:00</th>\n",
       "      <td>8544.5</td>\n",
       "      <td>8557.0</td>\n",
       "      <td>8563.0</td>\n",
       "      <td>8544.0</td>\n",
       "      <td>2058785</td>\n",
       "      <td>1479285</td>\n",
       "      <td>579500</td>\n",
       "      <td>189127.0</td>\n",
       "      <td>90000.0</td>\n",
       "      <td>198</td>\n",
       "      <td>...</td>\n",
       "      <td>464</td>\n",
       "      <td>388</td>\n",
       "      <td>252</td>\n",
       "      <td>181</td>\n",
       "      <td>33</td>\n",
       "      <td>1.0</td>\n",
       "      <td>0.0</td>\n",
       "      <td>712</td>\n",
       "      <td>263</td>\n",
       "      <td>2111.574359</td>\n",
       "    </tr>\n",
       "    <tr>\n",
       "      <th>2019-06-01 00:02:00</th>\n",
       "      <td>8556.5</td>\n",
       "      <td>8565.5</td>\n",
       "      <td>8567.5</td>\n",
       "      <td>8556.5</td>\n",
       "      <td>2468185</td>\n",
       "      <td>1224395</td>\n",
       "      <td>1243790</td>\n",
       "      <td>74000.0</td>\n",
       "      <td>214169.0</td>\n",
       "      <td>91</td>\n",
       "      <td>...</td>\n",
       "      <td>382</td>\n",
       "      <td>347</td>\n",
       "      <td>232</td>\n",
       "      <td>186</td>\n",
       "      <td>22</td>\n",
       "      <td>0.0</td>\n",
       "      <td>0.0</td>\n",
       "      <td>571</td>\n",
       "      <td>120</td>\n",
       "      <td>3571.903039</td>\n",
       "    </tr>\n",
       "    <tr>\n",
       "      <th>2019-06-01 00:03:00</th>\n",
       "      <td>8566.0</td>\n",
       "      <td>8562.5</td>\n",
       "      <td>8566.0</td>\n",
       "      <td>8557.5</td>\n",
       "      <td>931585</td>\n",
       "      <td>263639</td>\n",
       "      <td>667946</td>\n",
       "      <td>18521.0</td>\n",
       "      <td>111334.0</td>\n",
       "      <td>186</td>\n",
       "      <td>...</td>\n",
       "      <td>108</td>\n",
       "      <td>87</td>\n",
       "      <td>65</td>\n",
       "      <td>49</td>\n",
       "      <td>3</td>\n",
       "      <td>0.0</td>\n",
       "      <td>0.0</td>\n",
       "      <td>172</td>\n",
       "      <td>259</td>\n",
       "      <td>2161.450116</td>\n",
       "    </tr>\n",
       "    <tr>\n",
       "      <th>2019-06-01 00:04:00</th>\n",
       "      <td>8563.0</td>\n",
       "      <td>8556.5</td>\n",
       "      <td>8563.0</td>\n",
       "      <td>8556.5</td>\n",
       "      <td>797504</td>\n",
       "      <td>170871</td>\n",
       "      <td>626633</td>\n",
       "      <td>65835.0</td>\n",
       "      <td>121070.0</td>\n",
       "      <td>157</td>\n",
       "      <td>...</td>\n",
       "      <td>32</td>\n",
       "      <td>28</td>\n",
       "      <td>23</td>\n",
       "      <td>15</td>\n",
       "      <td>3</td>\n",
       "      <td>0.0</td>\n",
       "      <td>0.0</td>\n",
       "      <td>48</td>\n",
       "      <td>237</td>\n",
       "      <td>2798.259649</td>\n",
       "    </tr>\n",
       "  </tbody>\n",
       "</table>\n",
       "<p>5 rows × 26 columns</p>\n",
       "</div>"
      ],
      "text/plain": [
       "                       open   close    high     low   volume  buy_volume  \\\n",
       "timestamp                                                                  \n",
       "2019-06-01 00:00:00  8546.0  8544.0  8546.5  8543.5  2863215     1490030   \n",
       "2019-06-01 00:01:00  8544.5  8557.0  8563.0  8544.0  2058785     1479285   \n",
       "2019-06-01 00:02:00  8556.5  8565.5  8567.5  8556.5  2468185     1224395   \n",
       "2019-06-01 00:03:00  8566.0  8562.5  8566.0  8557.5   931585      263639   \n",
       "2019-06-01 00:04:00  8563.0  8556.5  8563.0  8556.5   797504      170871   \n",
       "\n",
       "                     sell_volume   max_buy  max_sell  sell_50     ...       \\\n",
       "timestamp                                                         ...        \n",
       "2019-06-01 00:00:00      1373185  200000.0  100400.0      398     ...        \n",
       "2019-06-01 00:01:00       579500  189127.0   90000.0      198     ...        \n",
       "2019-06-01 00:02:00      1243790   74000.0  214169.0       91     ...        \n",
       "2019-06-01 00:03:00       667946   18521.0  111334.0      186     ...        \n",
       "2019-06-01 00:04:00       626633   65835.0  121070.0      157     ...        \n",
       "\n",
       "                     buy_50  buy_100  buy_500  buy_1000  buy_10000  \\\n",
       "timestamp                                                            \n",
       "2019-06-01 00:00:00     160      142      113        95         19   \n",
       "2019-06-01 00:01:00     464      388      252       181         33   \n",
       "2019-06-01 00:02:00     382      347      232       186         22   \n",
       "2019-06-01 00:03:00     108       87       65        49          3   \n",
       "2019-06-01 00:04:00      32       28       23        15          3   \n",
       "\n",
       "                     buy_100000  buy_200000  buy_count  sell_count  \\\n",
       "timestamp                                                            \n",
       "2019-06-01 00:00:00         4.0         0.0        201         504   \n",
       "2019-06-01 00:01:00         1.0         0.0        712         263   \n",
       "2019-06-01 00:02:00         0.0         0.0        571         120   \n",
       "2019-06-01 00:03:00         0.0         0.0        172         259   \n",
       "2019-06-01 00:04:00         0.0         0.0         48         237   \n",
       "\n",
       "                      avg_volume  \n",
       "timestamp                         \n",
       "2019-06-01 00:00:00  4061.297872  \n",
       "2019-06-01 00:01:00  2111.574359  \n",
       "2019-06-01 00:02:00  3571.903039  \n",
       "2019-06-01 00:03:00  2161.450116  \n",
       "2019-06-01 00:04:00  2798.259649  \n",
       "\n",
       "[5 rows x 26 columns]"
      ]
     },
     "execution_count": 54,
     "metadata": {},
     "output_type": "execute_result"
    }
   ],
   "source": [
    "x.head()"
   ]
  },
  {
   "cell_type": "code",
   "execution_count": 55,
   "metadata": {},
   "outputs": [],
   "source": [
    "from sklearn.preprocessing import StandardScaler"
   ]
  },
  {
   "cell_type": "code",
   "execution_count": 56,
   "metadata": {},
   "outputs": [
    {
     "data": {
      "text/html": [
       "<div>\n",
       "<style scoped>\n",
       "    .dataframe tbody tr th:only-of-type {\n",
       "        vertical-align: middle;\n",
       "    }\n",
       "\n",
       "    .dataframe tbody tr th {\n",
       "        vertical-align: top;\n",
       "    }\n",
       "\n",
       "    .dataframe thead th {\n",
       "        text-align: right;\n",
       "    }\n",
       "</style>\n",
       "<table border=\"1\" class=\"dataframe\">\n",
       "  <thead>\n",
       "    <tr style=\"text-align: right;\">\n",
       "      <th></th>\n",
       "      <th>target</th>\n",
       "    </tr>\n",
       "    <tr>\n",
       "      <th>timestamp</th>\n",
       "      <th></th>\n",
       "    </tr>\n",
       "  </thead>\n",
       "  <tbody>\n",
       "    <tr>\n",
       "      <th>2019-06-01 00:00:00</th>\n",
       "      <td>8557.0</td>\n",
       "    </tr>\n",
       "    <tr>\n",
       "      <th>2019-06-01 00:01:00</th>\n",
       "      <td>8565.5</td>\n",
       "    </tr>\n",
       "    <tr>\n",
       "      <th>2019-06-01 00:02:00</th>\n",
       "      <td>8562.5</td>\n",
       "    </tr>\n",
       "    <tr>\n",
       "      <th>2019-06-01 00:03:00</th>\n",
       "      <td>8556.5</td>\n",
       "    </tr>\n",
       "    <tr>\n",
       "      <th>2019-06-01 00:04:00</th>\n",
       "      <td>8553.0</td>\n",
       "    </tr>\n",
       "    <tr>\n",
       "      <th>2019-06-01 00:05:00</th>\n",
       "      <td>8547.5</td>\n",
       "    </tr>\n",
       "    <tr>\n",
       "      <th>2019-06-01 00:06:00</th>\n",
       "      <td>8535.5</td>\n",
       "    </tr>\n",
       "    <tr>\n",
       "      <th>2019-06-01 00:07:00</th>\n",
       "      <td>8535.0</td>\n",
       "    </tr>\n",
       "    <tr>\n",
       "      <th>2019-06-01 00:08:00</th>\n",
       "      <td>8530.5</td>\n",
       "    </tr>\n",
       "    <tr>\n",
       "      <th>2019-06-01 00:09:00</th>\n",
       "      <td>8532.0</td>\n",
       "    </tr>\n",
       "    <tr>\n",
       "      <th>2019-06-01 00:10:00</th>\n",
       "      <td>8529.0</td>\n",
       "    </tr>\n",
       "    <tr>\n",
       "      <th>2019-06-01 00:11:00</th>\n",
       "      <td>8531.0</td>\n",
       "    </tr>\n",
       "    <tr>\n",
       "      <th>2019-06-01 00:12:00</th>\n",
       "      <td>8539.0</td>\n",
       "    </tr>\n",
       "    <tr>\n",
       "      <th>2019-06-01 00:13:00</th>\n",
       "      <td>8540.5</td>\n",
       "    </tr>\n",
       "    <tr>\n",
       "      <th>2019-06-01 00:14:00</th>\n",
       "      <td>8535.0</td>\n",
       "    </tr>\n",
       "    <tr>\n",
       "      <th>2019-06-01 00:15:00</th>\n",
       "      <td>8528.0</td>\n",
       "    </tr>\n",
       "    <tr>\n",
       "      <th>2019-06-01 00:16:00</th>\n",
       "      <td>8535.5</td>\n",
       "    </tr>\n",
       "    <tr>\n",
       "      <th>2019-06-01 00:17:00</th>\n",
       "      <td>8530.0</td>\n",
       "    </tr>\n",
       "    <tr>\n",
       "      <th>2019-06-01 00:18:00</th>\n",
       "      <td>8527.5</td>\n",
       "    </tr>\n",
       "    <tr>\n",
       "      <th>2019-06-01 00:19:00</th>\n",
       "      <td>8521.5</td>\n",
       "    </tr>\n",
       "    <tr>\n",
       "      <th>2019-06-01 00:20:00</th>\n",
       "      <td>8523.5</td>\n",
       "    </tr>\n",
       "    <tr>\n",
       "      <th>2019-06-01 00:21:00</th>\n",
       "      <td>8512.0</td>\n",
       "    </tr>\n",
       "    <tr>\n",
       "      <th>2019-06-01 00:22:00</th>\n",
       "      <td>8509.5</td>\n",
       "    </tr>\n",
       "    <tr>\n",
       "      <th>2019-06-01 00:23:00</th>\n",
       "      <td>8509.5</td>\n",
       "    </tr>\n",
       "    <tr>\n",
       "      <th>2019-06-01 00:24:00</th>\n",
       "      <td>8510.0</td>\n",
       "    </tr>\n",
       "    <tr>\n",
       "      <th>2019-06-01 00:25:00</th>\n",
       "      <td>8513.5</td>\n",
       "    </tr>\n",
       "    <tr>\n",
       "      <th>2019-06-01 00:26:00</th>\n",
       "      <td>8509.0</td>\n",
       "    </tr>\n",
       "    <tr>\n",
       "      <th>2019-06-01 00:27:00</th>\n",
       "      <td>8514.5</td>\n",
       "    </tr>\n",
       "    <tr>\n",
       "      <th>2019-06-01 00:28:00</th>\n",
       "      <td>8514.5</td>\n",
       "    </tr>\n",
       "    <tr>\n",
       "      <th>2019-06-01 00:29:00</th>\n",
       "      <td>8520.0</td>\n",
       "    </tr>\n",
       "    <tr>\n",
       "      <th>...</th>\n",
       "      <td>...</td>\n",
       "    </tr>\n",
       "    <tr>\n",
       "      <th>2019-06-30 23:29:00</th>\n",
       "      <td>10916.0</td>\n",
       "    </tr>\n",
       "    <tr>\n",
       "      <th>2019-06-30 23:30:00</th>\n",
       "      <td>10920.0</td>\n",
       "    </tr>\n",
       "    <tr>\n",
       "      <th>2019-06-30 23:31:00</th>\n",
       "      <td>10927.0</td>\n",
       "    </tr>\n",
       "    <tr>\n",
       "      <th>2019-06-30 23:32:00</th>\n",
       "      <td>10933.0</td>\n",
       "    </tr>\n",
       "    <tr>\n",
       "      <th>2019-06-30 23:33:00</th>\n",
       "      <td>10963.0</td>\n",
       "    </tr>\n",
       "    <tr>\n",
       "      <th>2019-06-30 23:34:00</th>\n",
       "      <td>10950.5</td>\n",
       "    </tr>\n",
       "    <tr>\n",
       "      <th>2019-06-30 23:35:00</th>\n",
       "      <td>10941.5</td>\n",
       "    </tr>\n",
       "    <tr>\n",
       "      <th>2019-06-30 23:36:00</th>\n",
       "      <td>10950.0</td>\n",
       "    </tr>\n",
       "    <tr>\n",
       "      <th>2019-06-30 23:37:00</th>\n",
       "      <td>10982.0</td>\n",
       "    </tr>\n",
       "    <tr>\n",
       "      <th>2019-06-30 23:38:00</th>\n",
       "      <td>10963.0</td>\n",
       "    </tr>\n",
       "    <tr>\n",
       "      <th>2019-06-30 23:39:00</th>\n",
       "      <td>10960.5</td>\n",
       "    </tr>\n",
       "    <tr>\n",
       "      <th>2019-06-30 23:40:00</th>\n",
       "      <td>10934.5</td>\n",
       "    </tr>\n",
       "    <tr>\n",
       "      <th>2019-06-30 23:41:00</th>\n",
       "      <td>10914.5</td>\n",
       "    </tr>\n",
       "    <tr>\n",
       "      <th>2019-06-30 23:42:00</th>\n",
       "      <td>10914.0</td>\n",
       "    </tr>\n",
       "    <tr>\n",
       "      <th>2019-06-30 23:43:00</th>\n",
       "      <td>10932.5</td>\n",
       "    </tr>\n",
       "    <tr>\n",
       "      <th>2019-06-30 23:44:00</th>\n",
       "      <td>10905.0</td>\n",
       "    </tr>\n",
       "    <tr>\n",
       "      <th>2019-06-30 23:45:00</th>\n",
       "      <td>10818.0</td>\n",
       "    </tr>\n",
       "    <tr>\n",
       "      <th>2019-06-30 23:46:00</th>\n",
       "      <td>10752.5</td>\n",
       "    </tr>\n",
       "    <tr>\n",
       "      <th>2019-06-30 23:47:00</th>\n",
       "      <td>10743.5</td>\n",
       "    </tr>\n",
       "    <tr>\n",
       "      <th>2019-06-30 23:48:00</th>\n",
       "      <td>10750.5</td>\n",
       "    </tr>\n",
       "    <tr>\n",
       "      <th>2019-06-30 23:49:00</th>\n",
       "      <td>10776.0</td>\n",
       "    </tr>\n",
       "    <tr>\n",
       "      <th>2019-06-30 23:50:00</th>\n",
       "      <td>10778.5</td>\n",
       "    </tr>\n",
       "    <tr>\n",
       "      <th>2019-06-30 23:51:00</th>\n",
       "      <td>10736.5</td>\n",
       "    </tr>\n",
       "    <tr>\n",
       "      <th>2019-06-30 23:52:00</th>\n",
       "      <td>10730.0</td>\n",
       "    </tr>\n",
       "    <tr>\n",
       "      <th>2019-06-30 23:53:00</th>\n",
       "      <td>10667.0</td>\n",
       "    </tr>\n",
       "    <tr>\n",
       "      <th>2019-06-30 23:54:00</th>\n",
       "      <td>10693.0</td>\n",
       "    </tr>\n",
       "    <tr>\n",
       "      <th>2019-06-30 23:55:00</th>\n",
       "      <td>10674.0</td>\n",
       "    </tr>\n",
       "    <tr>\n",
       "      <th>2019-06-30 23:56:00</th>\n",
       "      <td>10714.0</td>\n",
       "    </tr>\n",
       "    <tr>\n",
       "      <th>2019-06-30 23:57:00</th>\n",
       "      <td>10706.5</td>\n",
       "    </tr>\n",
       "    <tr>\n",
       "      <th>2019-06-30 23:58:00</th>\n",
       "      <td>10761.0</td>\n",
       "    </tr>\n",
       "  </tbody>\n",
       "</table>\n",
       "<p>43198 rows × 1 columns</p>\n",
       "</div>"
      ],
      "text/plain": [
       "                      target\n",
       "timestamp                   \n",
       "2019-06-01 00:00:00   8557.0\n",
       "2019-06-01 00:01:00   8565.5\n",
       "2019-06-01 00:02:00   8562.5\n",
       "2019-06-01 00:03:00   8556.5\n",
       "2019-06-01 00:04:00   8553.0\n",
       "2019-06-01 00:05:00   8547.5\n",
       "2019-06-01 00:06:00   8535.5\n",
       "2019-06-01 00:07:00   8535.0\n",
       "2019-06-01 00:08:00   8530.5\n",
       "2019-06-01 00:09:00   8532.0\n",
       "2019-06-01 00:10:00   8529.0\n",
       "2019-06-01 00:11:00   8531.0\n",
       "2019-06-01 00:12:00   8539.0\n",
       "2019-06-01 00:13:00   8540.5\n",
       "2019-06-01 00:14:00   8535.0\n",
       "2019-06-01 00:15:00   8528.0\n",
       "2019-06-01 00:16:00   8535.5\n",
       "2019-06-01 00:17:00   8530.0\n",
       "2019-06-01 00:18:00   8527.5\n",
       "2019-06-01 00:19:00   8521.5\n",
       "2019-06-01 00:20:00   8523.5\n",
       "2019-06-01 00:21:00   8512.0\n",
       "2019-06-01 00:22:00   8509.5\n",
       "2019-06-01 00:23:00   8509.5\n",
       "2019-06-01 00:24:00   8510.0\n",
       "2019-06-01 00:25:00   8513.5\n",
       "2019-06-01 00:26:00   8509.0\n",
       "2019-06-01 00:27:00   8514.5\n",
       "2019-06-01 00:28:00   8514.5\n",
       "2019-06-01 00:29:00   8520.0\n",
       "...                      ...\n",
       "2019-06-30 23:29:00  10916.0\n",
       "2019-06-30 23:30:00  10920.0\n",
       "2019-06-30 23:31:00  10927.0\n",
       "2019-06-30 23:32:00  10933.0\n",
       "2019-06-30 23:33:00  10963.0\n",
       "2019-06-30 23:34:00  10950.5\n",
       "2019-06-30 23:35:00  10941.5\n",
       "2019-06-30 23:36:00  10950.0\n",
       "2019-06-30 23:37:00  10982.0\n",
       "2019-06-30 23:38:00  10963.0\n",
       "2019-06-30 23:39:00  10960.5\n",
       "2019-06-30 23:40:00  10934.5\n",
       "2019-06-30 23:41:00  10914.5\n",
       "2019-06-30 23:42:00  10914.0\n",
       "2019-06-30 23:43:00  10932.5\n",
       "2019-06-30 23:44:00  10905.0\n",
       "2019-06-30 23:45:00  10818.0\n",
       "2019-06-30 23:46:00  10752.5\n",
       "2019-06-30 23:47:00  10743.5\n",
       "2019-06-30 23:48:00  10750.5\n",
       "2019-06-30 23:49:00  10776.0\n",
       "2019-06-30 23:50:00  10778.5\n",
       "2019-06-30 23:51:00  10736.5\n",
       "2019-06-30 23:52:00  10730.0\n",
       "2019-06-30 23:53:00  10667.0\n",
       "2019-06-30 23:54:00  10693.0\n",
       "2019-06-30 23:55:00  10674.0\n",
       "2019-06-30 23:56:00  10714.0\n",
       "2019-06-30 23:57:00  10706.5\n",
       "2019-06-30 23:58:00  10761.0\n",
       "\n",
       "[43198 rows x 1 columns]"
      ]
     },
     "execution_count": 56,
     "metadata": {},
     "output_type": "execute_result"
    }
   ],
   "source": [
    "y"
   ]
  },
  {
   "cell_type": "code",
   "execution_count": 57,
   "metadata": {},
   "outputs": [],
   "source": [
    "def convertToFloat(x, y):\n",
    "    for column in x.columns:\n",
    "        x[column] = x[column].astype(np.float64)\n",
    "    for column in y.columns:\n",
    "        y[column] = y[column].astype(np.float64)"
   ]
  },
  {
   "cell_type": "code",
   "execution_count": 58,
   "metadata": {},
   "outputs": [],
   "source": [
    "convertToFloat(x,y)"
   ]
  },
  {
   "cell_type": "code",
   "execution_count": 59,
   "metadata": {},
   "outputs": [],
   "source": [
    "scaler = StandardScaler()\n",
    "transX = scaler.fit_transform(x)\n",
    "transY = scaler.fit_transform(y)"
   ]
  },
  {
   "cell_type": "code",
   "execution_count": 60,
   "metadata": {},
   "outputs": [],
   "source": [
    "xTrain, xTest, yTrain, yTest = train_test_split(transX, transY, test_size=0.2)"
   ]
  },
  {
   "cell_type": "code",
   "execution_count": 61,
   "metadata": {},
   "outputs": [
    {
     "name": "stdout",
     "output_type": "stream",
     "text": [
      "{'max_depth': 6}\n"
     ]
    },
    {
     "data": {
      "text/plain": [
       "0.9998379517095843"
      ]
     },
     "execution_count": 61,
     "metadata": {},
     "output_type": "execute_result"
    }
   ],
   "source": [
    "new_model = xgb.XGBRegressor()\n",
    "\n",
    "test_params = {\n",
    " 'max_depth':[2,4,6]\n",
    "}\n",
    "\n",
    "new_model = GridSearchCV(estimator = new_model,param_grid = test_params, cv=5)\n",
    "new_model.fit(xTrain, yTrain)\n",
    "print(new_model.best_params_)\n",
    "new_model.score(xTest, yTest)"
   ]
  },
  {
   "cell_type": "code",
   "execution_count": 62,
   "metadata": {},
   "outputs": [],
   "source": [
    "data_source = './original_data/test.csv'\n",
    "df = pd.read_csv(data_source)"
   ]
  },
  {
   "cell_type": "code",
   "execution_count": 63,
   "metadata": {},
   "outputs": [
    {
     "data": {
      "text/html": [
       "<div>\n",
       "<style scoped>\n",
       "    .dataframe tbody tr th:only-of-type {\n",
       "        vertical-align: middle;\n",
       "    }\n",
       "\n",
       "    .dataframe tbody tr th {\n",
       "        vertical-align: top;\n",
       "    }\n",
       "\n",
       "    .dataframe thead th {\n",
       "        text-align: right;\n",
       "    }\n",
       "</style>\n",
       "<table border=\"1\" class=\"dataframe\">\n",
       "  <thead>\n",
       "    <tr style=\"text-align: right;\">\n",
       "      <th></th>\n",
       "      <th>Unnamed: 0</th>\n",
       "      <th>timestamp</th>\n",
       "      <th>open</th>\n",
       "      <th>close</th>\n",
       "      <th>high</th>\n",
       "      <th>low</th>\n",
       "      <th>volume</th>\n",
       "      <th>buy_volume</th>\n",
       "      <th>sell_volume</th>\n",
       "      <th>max_buy</th>\n",
       "      <th>...</th>\n",
       "      <th>buy_50</th>\n",
       "      <th>buy_100</th>\n",
       "      <th>buy_500</th>\n",
       "      <th>buy_1000</th>\n",
       "      <th>buy_10000</th>\n",
       "      <th>buy_100000</th>\n",
       "      <th>buy_200000</th>\n",
       "      <th>buy_count</th>\n",
       "      <th>sell_count</th>\n",
       "      <th>avg_volume</th>\n",
       "    </tr>\n",
       "  </thead>\n",
       "  <tbody>\n",
       "    <tr>\n",
       "      <th>0</th>\n",
       "      <td>0</td>\n",
       "      <td>2019-08-01 00:00:00</td>\n",
       "      <td>10088.5</td>\n",
       "      <td>10108.0</td>\n",
       "      <td>10108.5</td>\n",
       "      <td>10088.5</td>\n",
       "      <td>5189557</td>\n",
       "      <td>3859798</td>\n",
       "      <td>1329759</td>\n",
       "      <td>466922.0</td>\n",
       "      <td>...</td>\n",
       "      <td>748</td>\n",
       "      <td>622</td>\n",
       "      <td>380</td>\n",
       "      <td>296</td>\n",
       "      <td>85.0</td>\n",
       "      <td>2.0</td>\n",
       "      <td>1.0</td>\n",
       "      <td>1053</td>\n",
       "      <td>297</td>\n",
       "      <td>3844.116296</td>\n",
       "    </tr>\n",
       "    <tr>\n",
       "      <th>1</th>\n",
       "      <td>1</td>\n",
       "      <td>2019-08-01 00:01:00</td>\n",
       "      <td>10107.5</td>\n",
       "      <td>10109.0</td>\n",
       "      <td>10120.0</td>\n",
       "      <td>10100.0</td>\n",
       "      <td>5792264</td>\n",
       "      <td>4627428</td>\n",
       "      <td>1164836</td>\n",
       "      <td>250962.0</td>\n",
       "      <td>...</td>\n",
       "      <td>890</td>\n",
       "      <td>778</td>\n",
       "      <td>471</td>\n",
       "      <td>357</td>\n",
       "      <td>99.0</td>\n",
       "      <td>6.0</td>\n",
       "      <td>1.0</td>\n",
       "      <td>1166</td>\n",
       "      <td>512</td>\n",
       "      <td>3451.885578</td>\n",
       "    </tr>\n",
       "    <tr>\n",
       "      <th>2</th>\n",
       "      <td>2</td>\n",
       "      <td>2019-08-01 00:02:00</td>\n",
       "      <td>10108.5</td>\n",
       "      <td>10093.0</td>\n",
       "      <td>10109.0</td>\n",
       "      <td>10088.5</td>\n",
       "      <td>4974185</td>\n",
       "      <td>1213736</td>\n",
       "      <td>3760449</td>\n",
       "      <td>100000.0</td>\n",
       "      <td>...</td>\n",
       "      <td>217</td>\n",
       "      <td>194</td>\n",
       "      <td>152</td>\n",
       "      <td>127</td>\n",
       "      <td>32.0</td>\n",
       "      <td>0.0</td>\n",
       "      <td>0.0</td>\n",
       "      <td>297</td>\n",
       "      <td>707</td>\n",
       "      <td>4954.367530</td>\n",
       "    </tr>\n",
       "    <tr>\n",
       "      <th>3</th>\n",
       "      <td>3</td>\n",
       "      <td>2019-08-01 00:03:00</td>\n",
       "      <td>10093.0</td>\n",
       "      <td>10111.5</td>\n",
       "      <td>10111.5</td>\n",
       "      <td>10093.0</td>\n",
       "      <td>1863787</td>\n",
       "      <td>1436924</td>\n",
       "      <td>426863</td>\n",
       "      <td>100000.0</td>\n",
       "      <td>...</td>\n",
       "      <td>346</td>\n",
       "      <td>298</td>\n",
       "      <td>188</td>\n",
       "      <td>146</td>\n",
       "      <td>36.0</td>\n",
       "      <td>0.0</td>\n",
       "      <td>0.0</td>\n",
       "      <td>559</td>\n",
       "      <td>88</td>\n",
       "      <td>2880.659969</td>\n",
       "    </tr>\n",
       "    <tr>\n",
       "      <th>4</th>\n",
       "      <td>4</td>\n",
       "      <td>2019-08-01 00:04:00</td>\n",
       "      <td>10111.0</td>\n",
       "      <td>10106.0</td>\n",
       "      <td>10120.5</td>\n",
       "      <td>10105.0</td>\n",
       "      <td>3785526</td>\n",
       "      <td>2517687</td>\n",
       "      <td>1267839</td>\n",
       "      <td>212011.0</td>\n",
       "      <td>...</td>\n",
       "      <td>393</td>\n",
       "      <td>334</td>\n",
       "      <td>211</td>\n",
       "      <td>164</td>\n",
       "      <td>55.0</td>\n",
       "      <td>4.0</td>\n",
       "      <td>1.0</td>\n",
       "      <td>579</td>\n",
       "      <td>450</td>\n",
       "      <td>3678.839650</td>\n",
       "    </tr>\n",
       "  </tbody>\n",
       "</table>\n",
       "<p>5 rows × 28 columns</p>\n",
       "</div>"
      ],
      "text/plain": [
       "   Unnamed: 0            timestamp     open    close     high      low  \\\n",
       "0           0  2019-08-01 00:00:00  10088.5  10108.0  10108.5  10088.5   \n",
       "1           1  2019-08-01 00:01:00  10107.5  10109.0  10120.0  10100.0   \n",
       "2           2  2019-08-01 00:02:00  10108.5  10093.0  10109.0  10088.5   \n",
       "3           3  2019-08-01 00:03:00  10093.0  10111.5  10111.5  10093.0   \n",
       "4           4  2019-08-01 00:04:00  10111.0  10106.0  10120.5  10105.0   \n",
       "\n",
       "    volume  buy_volume  sell_volume   max_buy     ...       buy_50  buy_100  \\\n",
       "0  5189557     3859798      1329759  466922.0     ...          748      622   \n",
       "1  5792264     4627428      1164836  250962.0     ...          890      778   \n",
       "2  4974185     1213736      3760449  100000.0     ...          217      194   \n",
       "3  1863787     1436924       426863  100000.0     ...          346      298   \n",
       "4  3785526     2517687      1267839  212011.0     ...          393      334   \n",
       "\n",
       "   buy_500  buy_1000  buy_10000  buy_100000  buy_200000  buy_count  \\\n",
       "0      380       296       85.0         2.0         1.0       1053   \n",
       "1      471       357       99.0         6.0         1.0       1166   \n",
       "2      152       127       32.0         0.0         0.0        297   \n",
       "3      188       146       36.0         0.0         0.0        559   \n",
       "4      211       164       55.0         4.0         1.0        579   \n",
       "\n",
       "   sell_count   avg_volume  \n",
       "0         297  3844.116296  \n",
       "1         512  3451.885578  \n",
       "2         707  4954.367530  \n",
       "3          88  2880.659969  \n",
       "4         450  3678.839650  \n",
       "\n",
       "[5 rows x 28 columns]"
      ]
     },
     "execution_count": 63,
     "metadata": {},
     "output_type": "execute_result"
    }
   ],
   "source": [
    "df.head()"
   ]
  },
  {
   "cell_type": "code",
   "execution_count": 64,
   "metadata": {},
   "outputs": [
    {
     "data": {
      "text/plain": [
       "Index(['Unnamed: 0', 'timestamp', 'open', 'close', 'high', 'low', 'volume',\n",
       "       'buy_volume', 'sell_volume', 'max_buy', 'max_sell', 'sell_50',\n",
       "       'sell_100', 'sell_500', 'sell_1000', 'sell_10000', 'sell_100000',\n",
       "       'sell_200000', 'buy_50', 'buy_100', 'buy_500', 'buy_1000', 'buy_10000',\n",
       "       'buy_100000', 'buy_200000', 'buy_count', 'sell_count', 'avg_volume'],\n",
       "      dtype='object')"
      ]
     },
     "execution_count": 64,
     "metadata": {},
     "output_type": "execute_result"
    }
   ],
   "source": [
    "df.columns"
   ]
  },
  {
   "cell_type": "code",
   "execution_count": 65,
   "metadata": {},
   "outputs": [],
   "source": [
    "del df['Unnamed: 0']"
   ]
  },
  {
   "cell_type": "code",
   "execution_count": 66,
   "metadata": {},
   "outputs": [
    {
     "data": {
      "text/html": [
       "<div>\n",
       "<style scoped>\n",
       "    .dataframe tbody tr th:only-of-type {\n",
       "        vertical-align: middle;\n",
       "    }\n",
       "\n",
       "    .dataframe tbody tr th {\n",
       "        vertical-align: top;\n",
       "    }\n",
       "\n",
       "    .dataframe thead th {\n",
       "        text-align: right;\n",
       "    }\n",
       "</style>\n",
       "<table border=\"1\" class=\"dataframe\">\n",
       "  <thead>\n",
       "    <tr style=\"text-align: right;\">\n",
       "      <th></th>\n",
       "      <th>timestamp</th>\n",
       "      <th>open</th>\n",
       "      <th>close</th>\n",
       "      <th>high</th>\n",
       "      <th>low</th>\n",
       "      <th>volume</th>\n",
       "      <th>buy_volume</th>\n",
       "      <th>sell_volume</th>\n",
       "      <th>max_buy</th>\n",
       "      <th>max_sell</th>\n",
       "      <th>...</th>\n",
       "      <th>buy_50</th>\n",
       "      <th>buy_100</th>\n",
       "      <th>buy_500</th>\n",
       "      <th>buy_1000</th>\n",
       "      <th>buy_10000</th>\n",
       "      <th>buy_100000</th>\n",
       "      <th>buy_200000</th>\n",
       "      <th>buy_count</th>\n",
       "      <th>sell_count</th>\n",
       "      <th>avg_volume</th>\n",
       "    </tr>\n",
       "  </thead>\n",
       "  <tbody>\n",
       "    <tr>\n",
       "      <th>0</th>\n",
       "      <td>2019-08-01 00:00:00</td>\n",
       "      <td>10088.5</td>\n",
       "      <td>10108.0</td>\n",
       "      <td>10108.5</td>\n",
       "      <td>10088.5</td>\n",
       "      <td>5189557</td>\n",
       "      <td>3859798</td>\n",
       "      <td>1329759</td>\n",
       "      <td>466922.0</td>\n",
       "      <td>198900.0</td>\n",
       "      <td>...</td>\n",
       "      <td>748</td>\n",
       "      <td>622</td>\n",
       "      <td>380</td>\n",
       "      <td>296</td>\n",
       "      <td>85.0</td>\n",
       "      <td>2.0</td>\n",
       "      <td>1.0</td>\n",
       "      <td>1053</td>\n",
       "      <td>297</td>\n",
       "      <td>3844.116296</td>\n",
       "    </tr>\n",
       "    <tr>\n",
       "      <th>1</th>\n",
       "      <td>2019-08-01 00:01:00</td>\n",
       "      <td>10107.5</td>\n",
       "      <td>10109.0</td>\n",
       "      <td>10120.0</td>\n",
       "      <td>10100.0</td>\n",
       "      <td>5792264</td>\n",
       "      <td>4627428</td>\n",
       "      <td>1164836</td>\n",
       "      <td>250962.0</td>\n",
       "      <td>116009.0</td>\n",
       "      <td>...</td>\n",
       "      <td>890</td>\n",
       "      <td>778</td>\n",
       "      <td>471</td>\n",
       "      <td>357</td>\n",
       "      <td>99.0</td>\n",
       "      <td>6.0</td>\n",
       "      <td>1.0</td>\n",
       "      <td>1166</td>\n",
       "      <td>512</td>\n",
       "      <td>3451.885578</td>\n",
       "    </tr>\n",
       "    <tr>\n",
       "      <th>2</th>\n",
       "      <td>2019-08-01 00:02:00</td>\n",
       "      <td>10108.5</td>\n",
       "      <td>10093.0</td>\n",
       "      <td>10109.0</td>\n",
       "      <td>10088.5</td>\n",
       "      <td>4974185</td>\n",
       "      <td>1213736</td>\n",
       "      <td>3760449</td>\n",
       "      <td>100000.0</td>\n",
       "      <td>218000.0</td>\n",
       "      <td>...</td>\n",
       "      <td>217</td>\n",
       "      <td>194</td>\n",
       "      <td>152</td>\n",
       "      <td>127</td>\n",
       "      <td>32.0</td>\n",
       "      <td>0.0</td>\n",
       "      <td>0.0</td>\n",
       "      <td>297</td>\n",
       "      <td>707</td>\n",
       "      <td>4954.367530</td>\n",
       "    </tr>\n",
       "    <tr>\n",
       "      <th>3</th>\n",
       "      <td>2019-08-01 00:03:00</td>\n",
       "      <td>10093.0</td>\n",
       "      <td>10111.5</td>\n",
       "      <td>10111.5</td>\n",
       "      <td>10093.0</td>\n",
       "      <td>1863787</td>\n",
       "      <td>1436924</td>\n",
       "      <td>426863</td>\n",
       "      <td>100000.0</td>\n",
       "      <td>100000.0</td>\n",
       "      <td>...</td>\n",
       "      <td>346</td>\n",
       "      <td>298</td>\n",
       "      <td>188</td>\n",
       "      <td>146</td>\n",
       "      <td>36.0</td>\n",
       "      <td>0.0</td>\n",
       "      <td>0.0</td>\n",
       "      <td>559</td>\n",
       "      <td>88</td>\n",
       "      <td>2880.659969</td>\n",
       "    </tr>\n",
       "    <tr>\n",
       "      <th>4</th>\n",
       "      <td>2019-08-01 00:04:00</td>\n",
       "      <td>10111.0</td>\n",
       "      <td>10106.0</td>\n",
       "      <td>10120.5</td>\n",
       "      <td>10105.0</td>\n",
       "      <td>3785526</td>\n",
       "      <td>2517687</td>\n",
       "      <td>1267839</td>\n",
       "      <td>212011.0</td>\n",
       "      <td>187830.0</td>\n",
       "      <td>...</td>\n",
       "      <td>393</td>\n",
       "      <td>334</td>\n",
       "      <td>211</td>\n",
       "      <td>164</td>\n",
       "      <td>55.0</td>\n",
       "      <td>4.0</td>\n",
       "      <td>1.0</td>\n",
       "      <td>579</td>\n",
       "      <td>450</td>\n",
       "      <td>3678.839650</td>\n",
       "    </tr>\n",
       "  </tbody>\n",
       "</table>\n",
       "<p>5 rows × 27 columns</p>\n",
       "</div>"
      ],
      "text/plain": [
       "             timestamp     open    close     high      low   volume  \\\n",
       "0  2019-08-01 00:00:00  10088.5  10108.0  10108.5  10088.5  5189557   \n",
       "1  2019-08-01 00:01:00  10107.5  10109.0  10120.0  10100.0  5792264   \n",
       "2  2019-08-01 00:02:00  10108.5  10093.0  10109.0  10088.5  4974185   \n",
       "3  2019-08-01 00:03:00  10093.0  10111.5  10111.5  10093.0  1863787   \n",
       "4  2019-08-01 00:04:00  10111.0  10106.0  10120.5  10105.0  3785526   \n",
       "\n",
       "   buy_volume  sell_volume   max_buy  max_sell     ...       buy_50  buy_100  \\\n",
       "0     3859798      1329759  466922.0  198900.0     ...          748      622   \n",
       "1     4627428      1164836  250962.0  116009.0     ...          890      778   \n",
       "2     1213736      3760449  100000.0  218000.0     ...          217      194   \n",
       "3     1436924       426863  100000.0  100000.0     ...          346      298   \n",
       "4     2517687      1267839  212011.0  187830.0     ...          393      334   \n",
       "\n",
       "   buy_500  buy_1000  buy_10000  buy_100000  buy_200000  buy_count  \\\n",
       "0      380       296       85.0         2.0         1.0       1053   \n",
       "1      471       357       99.0         6.0         1.0       1166   \n",
       "2      152       127       32.0         0.0         0.0        297   \n",
       "3      188       146       36.0         0.0         0.0        559   \n",
       "4      211       164       55.0         4.0         1.0        579   \n",
       "\n",
       "   sell_count   avg_volume  \n",
       "0         297  3844.116296  \n",
       "1         512  3451.885578  \n",
       "2         707  4954.367530  \n",
       "3          88  2880.659969  \n",
       "4         450  3678.839650  \n",
       "\n",
       "[5 rows x 27 columns]"
      ]
     },
     "execution_count": 66,
     "metadata": {},
     "output_type": "execute_result"
    }
   ],
   "source": [
    "df.head()"
   ]
  },
  {
   "cell_type": "code",
   "execution_count": 67,
   "metadata": {},
   "outputs": [],
   "source": [
    "df.timestamp = pd.to_datetime(df.timestamp)"
   ]
  },
  {
   "cell_type": "code",
   "execution_count": 68,
   "metadata": {},
   "outputs": [],
   "source": [
    "df.set_index('timestamp',inplace=True)"
   ]
  },
  {
   "cell_type": "code",
   "execution_count": 69,
   "metadata": {},
   "outputs": [],
   "source": [
    "df.sort_index(inplace=True)"
   ]
  },
  {
   "cell_type": "code",
   "execution_count": 70,
   "metadata": {},
   "outputs": [
    {
     "data": {
      "text/plain": [
       "open           False\n",
       "close          False\n",
       "high           False\n",
       "low            False\n",
       "volume         False\n",
       "buy_volume     False\n",
       "sell_volume    False\n",
       "max_buy         True\n",
       "max_sell        True\n",
       "sell_50        False\n",
       "sell_100       False\n",
       "sell_500       False\n",
       "sell_1000      False\n",
       "sell_10000      True\n",
       "sell_100000     True\n",
       "sell_200000     True\n",
       "buy_50         False\n",
       "buy_100        False\n",
       "buy_500        False\n",
       "buy_1000       False\n",
       "buy_10000       True\n",
       "buy_100000      True\n",
       "buy_200000      True\n",
       "buy_count      False\n",
       "sell_count     False\n",
       "avg_volume     False\n",
       "dtype: bool"
      ]
     },
     "execution_count": 70,
     "metadata": {},
     "output_type": "execute_result"
    }
   ],
   "source": [
    "df.isna().any()"
   ]
  },
  {
   "cell_type": "code",
   "execution_count": 71,
   "metadata": {},
   "outputs": [],
   "source": [
    "df.fillna(value=0, inplace=True)"
   ]
  },
  {
   "cell_type": "code",
   "execution_count": 72,
   "metadata": {},
   "outputs": [],
   "source": [
    "for i, row in df.iterrows():\n",
    "    try:\n",
    "        df.at[i, 'target'] = df.loc[i+datetime.timedelta(minutes=1), 'close']\n",
    "    except KeyError as e:\n",
    "        pass"
   ]
  },
  {
   "cell_type": "code",
   "execution_count": 73,
   "metadata": {},
   "outputs": [
    {
     "data": {
      "text/html": [
       "<div>\n",
       "<style scoped>\n",
       "    .dataframe tbody tr th:only-of-type {\n",
       "        vertical-align: middle;\n",
       "    }\n",
       "\n",
       "    .dataframe tbody tr th {\n",
       "        vertical-align: top;\n",
       "    }\n",
       "\n",
       "    .dataframe thead th {\n",
       "        text-align: right;\n",
       "    }\n",
       "</style>\n",
       "<table border=\"1\" class=\"dataframe\">\n",
       "  <thead>\n",
       "    <tr style=\"text-align: right;\">\n",
       "      <th></th>\n",
       "      <th>open</th>\n",
       "      <th>close</th>\n",
       "      <th>high</th>\n",
       "      <th>low</th>\n",
       "      <th>volume</th>\n",
       "      <th>buy_volume</th>\n",
       "      <th>sell_volume</th>\n",
       "      <th>max_buy</th>\n",
       "      <th>max_sell</th>\n",
       "      <th>sell_50</th>\n",
       "      <th>...</th>\n",
       "      <th>buy_100</th>\n",
       "      <th>buy_500</th>\n",
       "      <th>buy_1000</th>\n",
       "      <th>buy_10000</th>\n",
       "      <th>buy_100000</th>\n",
       "      <th>buy_200000</th>\n",
       "      <th>buy_count</th>\n",
       "      <th>sell_count</th>\n",
       "      <th>avg_volume</th>\n",
       "      <th>target</th>\n",
       "    </tr>\n",
       "    <tr>\n",
       "      <th>timestamp</th>\n",
       "      <th></th>\n",
       "      <th></th>\n",
       "      <th></th>\n",
       "      <th></th>\n",
       "      <th></th>\n",
       "      <th></th>\n",
       "      <th></th>\n",
       "      <th></th>\n",
       "      <th></th>\n",
       "      <th></th>\n",
       "      <th></th>\n",
       "      <th></th>\n",
       "      <th></th>\n",
       "      <th></th>\n",
       "      <th></th>\n",
       "      <th></th>\n",
       "      <th></th>\n",
       "      <th></th>\n",
       "      <th></th>\n",
       "      <th></th>\n",
       "      <th></th>\n",
       "    </tr>\n",
       "  </thead>\n",
       "  <tbody>\n",
       "    <tr>\n",
       "      <th>2019-08-31 23:55:00</th>\n",
       "      <td>9605.5</td>\n",
       "      <td>9603.0</td>\n",
       "      <td>9605.5</td>\n",
       "      <td>9602.5</td>\n",
       "      <td>444635</td>\n",
       "      <td>1329</td>\n",
       "      <td>443306</td>\n",
       "      <td>1000.0</td>\n",
       "      <td>137727.0</td>\n",
       "      <td>133</td>\n",
       "      <td>...</td>\n",
       "      <td>1</td>\n",
       "      <td>1</td>\n",
       "      <td>0</td>\n",
       "      <td>0.0</td>\n",
       "      <td>0.0</td>\n",
       "      <td>0.0</td>\n",
       "      <td>69</td>\n",
       "      <td>425</td>\n",
       "      <td>900.070850</td>\n",
       "      <td>9603.0</td>\n",
       "    </tr>\n",
       "    <tr>\n",
       "      <th>2019-08-31 23:56:00</th>\n",
       "      <td>9602.5</td>\n",
       "      <td>9603.0</td>\n",
       "      <td>9603.0</td>\n",
       "      <td>9602.5</td>\n",
       "      <td>87349</td>\n",
       "      <td>31054</td>\n",
       "      <td>56295</td>\n",
       "      <td>10000.0</td>\n",
       "      <td>25000.0</td>\n",
       "      <td>14</td>\n",
       "      <td>...</td>\n",
       "      <td>10</td>\n",
       "      <td>9</td>\n",
       "      <td>6</td>\n",
       "      <td>0.0</td>\n",
       "      <td>0.0</td>\n",
       "      <td>0.0</td>\n",
       "      <td>76</td>\n",
       "      <td>19</td>\n",
       "      <td>919.463158</td>\n",
       "      <td>9603.0</td>\n",
       "    </tr>\n",
       "    <tr>\n",
       "      <th>2019-08-31 23:57:00</th>\n",
       "      <td>9603.0</td>\n",
       "      <td>9603.0</td>\n",
       "      <td>9603.0</td>\n",
       "      <td>9602.5</td>\n",
       "      <td>363048</td>\n",
       "      <td>263903</td>\n",
       "      <td>99145</td>\n",
       "      <td>68902.0</td>\n",
       "      <td>36216.0</td>\n",
       "      <td>25</td>\n",
       "      <td>...</td>\n",
       "      <td>36</td>\n",
       "      <td>30</td>\n",
       "      <td>25</td>\n",
       "      <td>5.0</td>\n",
       "      <td>0.0</td>\n",
       "      <td>0.0</td>\n",
       "      <td>116</td>\n",
       "      <td>40</td>\n",
       "      <td>2327.230769</td>\n",
       "      <td>9603.0</td>\n",
       "    </tr>\n",
       "    <tr>\n",
       "      <th>2019-08-31 23:58:00</th>\n",
       "      <td>9602.5</td>\n",
       "      <td>9603.0</td>\n",
       "      <td>9603.0</td>\n",
       "      <td>9602.5</td>\n",
       "      <td>151053</td>\n",
       "      <td>97864</td>\n",
       "      <td>53189</td>\n",
       "      <td>35360.0</td>\n",
       "      <td>30000.0</td>\n",
       "      <td>4</td>\n",
       "      <td>...</td>\n",
       "      <td>22</td>\n",
       "      <td>19</td>\n",
       "      <td>10</td>\n",
       "      <td>2.0</td>\n",
       "      <td>0.0</td>\n",
       "      <td>0.0</td>\n",
       "      <td>70</td>\n",
       "      <td>9</td>\n",
       "      <td>1912.063291</td>\n",
       "      <td>9602.5</td>\n",
       "    </tr>\n",
       "    <tr>\n",
       "      <th>2019-08-31 23:59:00</th>\n",
       "      <td>9603.0</td>\n",
       "      <td>9602.5</td>\n",
       "      <td>9603.0</td>\n",
       "      <td>9602.5</td>\n",
       "      <td>320935</td>\n",
       "      <td>300921</td>\n",
       "      <td>20014</td>\n",
       "      <td>67619.0</td>\n",
       "      <td>10000.0</td>\n",
       "      <td>11</td>\n",
       "      <td>...</td>\n",
       "      <td>38</td>\n",
       "      <td>32</td>\n",
       "      <td>27</td>\n",
       "      <td>6.0</td>\n",
       "      <td>0.0</td>\n",
       "      <td>0.0</td>\n",
       "      <td>75</td>\n",
       "      <td>66</td>\n",
       "      <td>2276.134752</td>\n",
       "      <td>NaN</td>\n",
       "    </tr>\n",
       "  </tbody>\n",
       "</table>\n",
       "<p>5 rows × 27 columns</p>\n",
       "</div>"
      ],
      "text/plain": [
       "                       open   close    high     low  volume  buy_volume  \\\n",
       "timestamp                                                                 \n",
       "2019-08-31 23:55:00  9605.5  9603.0  9605.5  9602.5  444635        1329   \n",
       "2019-08-31 23:56:00  9602.5  9603.0  9603.0  9602.5   87349       31054   \n",
       "2019-08-31 23:57:00  9603.0  9603.0  9603.0  9602.5  363048      263903   \n",
       "2019-08-31 23:58:00  9602.5  9603.0  9603.0  9602.5  151053       97864   \n",
       "2019-08-31 23:59:00  9603.0  9602.5  9603.0  9602.5  320935      300921   \n",
       "\n",
       "                     sell_volume  max_buy  max_sell  sell_50   ...    buy_100  \\\n",
       "timestamp                                                      ...              \n",
       "2019-08-31 23:55:00       443306   1000.0  137727.0      133   ...          1   \n",
       "2019-08-31 23:56:00        56295  10000.0   25000.0       14   ...         10   \n",
       "2019-08-31 23:57:00        99145  68902.0   36216.0       25   ...         36   \n",
       "2019-08-31 23:58:00        53189  35360.0   30000.0        4   ...         22   \n",
       "2019-08-31 23:59:00        20014  67619.0   10000.0       11   ...         38   \n",
       "\n",
       "                     buy_500  buy_1000  buy_10000  buy_100000  buy_200000  \\\n",
       "timestamp                                                                   \n",
       "2019-08-31 23:55:00        1         0        0.0         0.0         0.0   \n",
       "2019-08-31 23:56:00        9         6        0.0         0.0         0.0   \n",
       "2019-08-31 23:57:00       30        25        5.0         0.0         0.0   \n",
       "2019-08-31 23:58:00       19        10        2.0         0.0         0.0   \n",
       "2019-08-31 23:59:00       32        27        6.0         0.0         0.0   \n",
       "\n",
       "                     buy_count  sell_count   avg_volume  target  \n",
       "timestamp                                                        \n",
       "2019-08-31 23:55:00         69         425   900.070850  9603.0  \n",
       "2019-08-31 23:56:00         76          19   919.463158  9603.0  \n",
       "2019-08-31 23:57:00        116          40  2327.230769  9603.0  \n",
       "2019-08-31 23:58:00         70           9  1912.063291  9602.5  \n",
       "2019-08-31 23:59:00         75          66  2276.134752     NaN  \n",
       "\n",
       "[5 rows x 27 columns]"
      ]
     },
     "execution_count": 73,
     "metadata": {},
     "output_type": "execute_result"
    }
   ],
   "source": [
    "df.tail()"
   ]
  },
  {
   "cell_type": "code",
   "execution_count": 74,
   "metadata": {},
   "outputs": [],
   "source": [
    "df.drop(df.index[-1],inplace=True)\n",
    "y = df.target\n",
    "del df['target']\n",
    "x = df.copy()\n",
    "y = pd.DataFrame(y)"
   ]
  },
  {
   "cell_type": "code",
   "execution_count": 75,
   "metadata": {},
   "outputs": [
    {
     "data": {
      "text/html": [
       "<div>\n",
       "<style scoped>\n",
       "    .dataframe tbody tr th:only-of-type {\n",
       "        vertical-align: middle;\n",
       "    }\n",
       "\n",
       "    .dataframe tbody tr th {\n",
       "        vertical-align: top;\n",
       "    }\n",
       "\n",
       "    .dataframe thead th {\n",
       "        text-align: right;\n",
       "    }\n",
       "</style>\n",
       "<table border=\"1\" class=\"dataframe\">\n",
       "  <thead>\n",
       "    <tr style=\"text-align: right;\">\n",
       "      <th></th>\n",
       "      <th>target</th>\n",
       "    </tr>\n",
       "    <tr>\n",
       "      <th>timestamp</th>\n",
       "      <th></th>\n",
       "    </tr>\n",
       "  </thead>\n",
       "  <tbody>\n",
       "    <tr>\n",
       "      <th>2019-08-01 00:00:00</th>\n",
       "      <td>10109.0</td>\n",
       "    </tr>\n",
       "    <tr>\n",
       "      <th>2019-08-01 00:01:00</th>\n",
       "      <td>10093.0</td>\n",
       "    </tr>\n",
       "    <tr>\n",
       "      <th>2019-08-01 00:02:00</th>\n",
       "      <td>10111.5</td>\n",
       "    </tr>\n",
       "    <tr>\n",
       "      <th>2019-08-01 00:03:00</th>\n",
       "      <td>10106.0</td>\n",
       "    </tr>\n",
       "    <tr>\n",
       "      <th>2019-08-01 00:04:00</th>\n",
       "      <td>10112.5</td>\n",
       "    </tr>\n",
       "  </tbody>\n",
       "</table>\n",
       "</div>"
      ],
      "text/plain": [
       "                      target\n",
       "timestamp                   \n",
       "2019-08-01 00:00:00  10109.0\n",
       "2019-08-01 00:01:00  10093.0\n",
       "2019-08-01 00:02:00  10111.5\n",
       "2019-08-01 00:03:00  10106.0\n",
       "2019-08-01 00:04:00  10112.5"
      ]
     },
     "execution_count": 75,
     "metadata": {},
     "output_type": "execute_result"
    }
   ],
   "source": [
    "y.head()"
   ]
  },
  {
   "cell_type": "code",
   "execution_count": 76,
   "metadata": {},
   "outputs": [],
   "source": [
    "convertToFloat(x,y)"
   ]
  },
  {
   "cell_type": "code",
   "execution_count": 77,
   "metadata": {},
   "outputs": [],
   "source": [
    "scaler = StandardScaler()\n",
    "transXTestData = scaler.fit_transform(x)\n",
    "transYTestData = scaler.fit_transform(y)"
   ]
  },
  {
   "cell_type": "code",
   "execution_count": 78,
   "metadata": {},
   "outputs": [],
   "source": [
    "xTrain_t, xTest_t, yTrain_t, yTest_t = train_test_split(transXTestData, transYTestData, test_size=0.2)"
   ]
  },
  {
   "cell_type": "code",
   "execution_count": 79,
   "metadata": {},
   "outputs": [
    {
     "data": {
      "text/plain": [
       "0.9905112065630044"
      ]
     },
     "execution_count": 79,
     "metadata": {},
     "output_type": "execute_result"
    }
   ],
   "source": [
    "new_model.score(xTrain_t, yTrain_t)"
   ]
  },
  {
   "cell_type": "code",
   "execution_count": 80,
   "metadata": {},
   "outputs": [
    {
     "data": {
      "text/plain": [
       "0.9998384366858054"
      ]
     },
     "execution_count": 80,
     "metadata": {},
     "output_type": "execute_result"
    }
   ],
   "source": [
    "new_model = xgb.XGBRegressor(max_depth=4)\n",
    "new_model.fit(xTrain, yTrain)\n",
    "new_model.score(xTest, yTest)"
   ]
  },
  {
   "cell_type": "code",
   "execution_count": 81,
   "metadata": {},
   "outputs": [
    {
     "data": {
      "image/png": "[encoded data removed]",
      "text/plain": [
       "<Figure size 720x432 with 1 Axes>"
      ]
     },
     "metadata": {
      "needs_background": "light"
     },
     "output_type": "display_data"
    }
   ],
   "source": [
    "features = x.columns\n",
    "importances = new_model.feature_importances_\n",
    "indices = np.argsort(importances)[::-1]\n",
    "\n",
    "fig, ax = plt.subplots(figsize=(10,6))\n",
    "ax.bar(range(xTrain.shape[1])[:10], importances[indices[:10]])\n",
    "plt.title('Feature Importances')\n",
    "plt.xticks(range(xTrain.shape[1])[:10], [features[i] for i in indices], rotation='vertical')\n",
    "ax.set_xlabel('Features')\n",
    "ax.set_ylabel('Variable Importance')\n",
    "plt.show()"
   ]
  },
  {
   "cell_type": "markdown",
   "metadata": {},
   "source": [
    "# Classification"
   ]
  },
  {
   "cell_type": "code",
   "execution_count": 82,
   "metadata": {},
   "outputs": [
    {
     "data": {
      "text/html": [
       "<div>\n",
       "<style scoped>\n",
       "    .dataframe tbody tr th:only-of-type {\n",
       "        vertical-align: middle;\n",
       "    }\n",
       "\n",
       "    .dataframe tbody tr th {\n",
       "        vertical-align: top;\n",
       "    }\n",
       "\n",
       "    .dataframe thead th {\n",
       "        text-align: right;\n",
       "    }\n",
       "</style>\n",
       "<table border=\"1\" class=\"dataframe\">\n",
       "  <thead>\n",
       "    <tr style=\"text-align: right;\">\n",
       "      <th></th>\n",
       "      <th>target</th>\n",
       "    </tr>\n",
       "    <tr>\n",
       "      <th>timestamp</th>\n",
       "      <th></th>\n",
       "    </tr>\n",
       "  </thead>\n",
       "  <tbody>\n",
       "    <tr>\n",
       "      <th>2019-08-01 00:00:00</th>\n",
       "      <td>10109.0</td>\n",
       "    </tr>\n",
       "    <tr>\n",
       "      <th>2019-08-01 00:01:00</th>\n",
       "      <td>10093.0</td>\n",
       "    </tr>\n",
       "    <tr>\n",
       "      <th>2019-08-01 00:02:00</th>\n",
       "      <td>10111.5</td>\n",
       "    </tr>\n",
       "    <tr>\n",
       "      <th>2019-08-01 00:03:00</th>\n",
       "      <td>10106.0</td>\n",
       "    </tr>\n",
       "    <tr>\n",
       "      <th>2019-08-01 00:04:00</th>\n",
       "      <td>10112.5</td>\n",
       "    </tr>\n",
       "  </tbody>\n",
       "</table>\n",
       "</div>"
      ],
      "text/plain": [
       "                      target\n",
       "timestamp                   \n",
       "2019-08-01 00:00:00  10109.0\n",
       "2019-08-01 00:01:00  10093.0\n",
       "2019-08-01 00:02:00  10111.5\n",
       "2019-08-01 00:03:00  10106.0\n",
       "2019-08-01 00:04:00  10112.5"
      ]
     },
     "execution_count": 82,
     "metadata": {},
     "output_type": "execute_result"
    }
   ],
   "source": [
    "y.head()"
   ]
  },
  {
   "cell_type": "code",
   "execution_count": 83,
   "metadata": {},
   "outputs": [],
   "source": [
    "for i, row in x.iterrows():\n",
    "    if y.loc[i,'target'] <= x.loc[i,'close']:\n",
    "        y.at[i,'target'] = -1\n",
    "    else:\n",
    "        y.at[i,'target'] = 1"
   ]
  },
  {
   "cell_type": "code",
   "execution_count": 84,
   "metadata": {},
   "outputs": [
    {
     "name": "stdout",
     "output_type": "stream",
     "text": [
      "<class 'pandas.core.frame.DataFrame'>\n",
      "DatetimeIndex: 44639 entries, 2019-08-01 00:00:00 to 2019-08-31 23:58:00\n",
      "Data columns (total 1 columns):\n",
      "target    44639 non-null float64\n",
      "dtypes: float64(1)\n",
      "memory usage: 1.9 MB\n"
     ]
    }
   ],
   "source": [
    "y.info()"
   ]
  },
  {
   "cell_type": "code",
   "execution_count": 85,
   "metadata": {},
   "outputs": [],
   "source": [
    "y['target'] = y['target'].astype(np.int64)"
   ]
  },
  {
   "cell_type": "code",
   "execution_count": 86,
   "metadata": {},
   "outputs": [
    {
     "data": {
      "text/html": [
       "<div>\n",
       "<style scoped>\n",
       "    .dataframe tbody tr th:only-of-type {\n",
       "        vertical-align: middle;\n",
       "    }\n",
       "\n",
       "    .dataframe tbody tr th {\n",
       "        vertical-align: top;\n",
       "    }\n",
       "\n",
       "    .dataframe thead th {\n",
       "        text-align: right;\n",
       "    }\n",
       "</style>\n",
       "<table border=\"1\" class=\"dataframe\">\n",
       "  <thead>\n",
       "    <tr style=\"text-align: right;\">\n",
       "      <th></th>\n",
       "      <th>target</th>\n",
       "    </tr>\n",
       "    <tr>\n",
       "      <th>timestamp</th>\n",
       "      <th></th>\n",
       "    </tr>\n",
       "  </thead>\n",
       "  <tbody>\n",
       "    <tr>\n",
       "      <th>2019-08-01 00:00:00</th>\n",
       "      <td>1</td>\n",
       "    </tr>\n",
       "    <tr>\n",
       "      <th>2019-08-01 00:01:00</th>\n",
       "      <td>-1</td>\n",
       "    </tr>\n",
       "    <tr>\n",
       "      <th>2019-08-01 00:02:00</th>\n",
       "      <td>1</td>\n",
       "    </tr>\n",
       "    <tr>\n",
       "      <th>2019-08-01 00:03:00</th>\n",
       "      <td>-1</td>\n",
       "    </tr>\n",
       "    <tr>\n",
       "      <th>2019-08-01 00:04:00</th>\n",
       "      <td>1</td>\n",
       "    </tr>\n",
       "  </tbody>\n",
       "</table>\n",
       "</div>"
      ],
      "text/plain": [
       "                     target\n",
       "timestamp                  \n",
       "2019-08-01 00:00:00       1\n",
       "2019-08-01 00:01:00      -1\n",
       "2019-08-01 00:02:00       1\n",
       "2019-08-01 00:03:00      -1\n",
       "2019-08-01 00:04:00       1"
      ]
     },
     "execution_count": 86,
     "metadata": {},
     "output_type": "execute_result"
    }
   ],
   "source": [
    "y.head()"
   ]
  },
  {
   "cell_type": "code",
   "execution_count": 87,
   "metadata": {},
   "outputs": [],
   "source": [
    "xTrain, xTest, yTrain, yTest = train_test_split(x, y, test_size=0.2)"
   ]
  },
  {
   "cell_type": "code",
   "execution_count": 88,
   "metadata": {},
   "outputs": [],
   "source": [
    "from sklearn.ensemble import RandomForestClassifier\n",
    "from sklearn.model_selection import GridSearchCV"
   ]
  },
  {
   "cell_type": "code",
   "execution_count": 89,
   "metadata": {
    "scrolled": true
   },
   "outputs": [
    {
     "name": "stdout",
     "output_type": "stream",
     "text": [
      "{'max_depth': 4, 'n_estimators': 10}\n"
     ]
    }
   ],
   "source": [
    "clf = RandomForestClassifier()\n",
    "\n",
    "test_params = {\n",
    " 'max_depth':[2,4,6],\n",
    " 'n_estimators':[10,100]\n",
    "}\n",
    "\n",
    "clf = GridSearchCV(estimator = clf,param_grid = test_params, cv=5)\n",
    "clf.fit(xTrain, yTrain.values.ravel())\n",
    "print(clf.best_params_)"
   ]
  },
  {
   "cell_type": "code",
   "execution_count": 90,
   "metadata": {},
   "outputs": [
    {
     "data": {
      "text/plain": [
       "RandomForestClassifier(bootstrap=True, class_weight=None, criterion='gini',\n",
       "            max_depth=4, max_features='auto', max_leaf_nodes=None,\n",
       "            min_impurity_decrease=0.0, min_impurity_split=None,\n",
       "            min_samples_leaf=1, min_samples_split=2,\n",
       "            min_weight_fraction_leaf=0.0, n_estimators=100, n_jobs=None,\n",
       "            oob_score=False, random_state=None, verbose=0,\n",
       "            warm_start=False)"
      ]
     },
     "execution_count": 90,
     "metadata": {},
     "output_type": "execute_result"
    }
   ],
   "source": [
    "clf = RandomForestClassifier(max_depth=4, n_estimators=100)\n",
    "clf.fit(xTrain, yTrain.values.ravel())"
   ]
  },
  {
   "cell_type": "code",
   "execution_count": 91,
   "metadata": {},
   "outputs": [],
   "source": [
    "from sklearn.metrics import f1_score, confusion_matrix, accuracy_score, balanced_accuracy_score\n",
    "from sklearn.preprocessing import StandardScaler"
   ]
  },
  {
   "cell_type": "code",
   "execution_count": 92,
   "metadata": {},
   "outputs": [],
   "source": [
    "y_pred = clf.predict(xTrain)"
   ]
  },
  {
   "cell_type": "code",
   "execution_count": 93,
   "metadata": {},
   "outputs": [
    {
     "name": "stdout",
     "output_type": "stream",
     "text": [
      "0.3461158509205209\n",
      "[[17295  2973]\n",
      " [11589  3854]]\n"
     ]
    }
   ],
   "source": [
    "print(f1_score(yTrain, y_pred))\n",
    "print(confusion_matrix(yTrain, y_pred))"
   ]
  },
  {
   "cell_type": "code",
   "execution_count": 94,
   "metadata": {},
   "outputs": [],
   "source": [
    "scaler = StandardScaler()\n",
    "transXTrain = scaler.fit_transform(xTrain)"
   ]
  },
  {
   "cell_type": "code",
   "execution_count": 95,
   "metadata": {},
   "outputs": [
    {
     "data": {
      "text/plain": [
       "35711"
      ]
     },
     "execution_count": 95,
     "metadata": {},
     "output_type": "execute_result"
    }
   ],
   "source": [
    "len(xTrain)"
   ]
  },
  {
   "cell_type": "code",
   "execution_count": 96,
   "metadata": {
    "scrolled": true
   },
   "outputs": [
    {
     "name": "stdout",
     "output_type": "stream",
     "text": [
      "{'max_depth': 6, 'n_estimators': 10}\n"
     ]
    }
   ],
   "source": [
    "clf = RandomForestClassifier()\n",
    "\n",
    "test_params = {\n",
    " 'max_depth':[2,4,6],\n",
    " 'n_estimators':[10,100]\n",
    "}\n",
    "\n",
    "clf = GridSearchCV(estimator = clf,param_grid = test_params, cv=5)\n",
    "clf.fit(transXTrain, yTrain.values.ravel())\n",
    "print(clf.best_params_)"
   ]
  },
  {
   "cell_type": "code",
   "execution_count": 97,
   "metadata": {},
   "outputs": [
    {
     "data": {
      "text/plain": [
       "RandomForestClassifier(bootstrap=True, class_weight=None, criterion='gini',\n",
       "            max_depth=6, max_features='auto', max_leaf_nodes=None,\n",
       "            min_impurity_decrease=0.0, min_impurity_split=None,\n",
       "            min_samples_leaf=1, min_samples_split=2,\n",
       "            min_weight_fraction_leaf=0.0, n_estimators=100, n_jobs=None,\n",
       "            oob_score=False, random_state=None, verbose=0,\n",
       "            warm_start=False)"
      ]
     },
     "execution_count": 97,
     "metadata": {},
     "output_type": "execute_result"
    }
   ],
   "source": [
    "clf = RandomForestClassifier(max_depth=6, n_estimators=100)\n",
    "clf.fit(transXTrain, yTrain.values.ravel())"
   ]
  },
  {
   "cell_type": "code",
   "execution_count": 98,
   "metadata": {},
   "outputs": [
    {
     "name": "stdout",
     "output_type": "stream",
     "text": [
      "0.38871199895319924\n",
      "0.569573452957591\n",
      "0.6075438940382515\n",
      "[[17240  3028]\n",
      " [10987  4456]]\n"
     ]
    }
   ],
   "source": [
    "y_pred = clf.predict(transXTrain)\n",
    "print(f1_score(yTrain, y_pred))\n",
    "print(balanced_accuracy_score(yTrain, y_pred))\n",
    "print(accuracy_score(yTrain, y_pred))\n",
    "print(confusion_matrix(yTrain, y_pred))"
   ]
  },
  {
   "cell_type": "code",
   "execution_count": 99,
   "metadata": {},
   "outputs": [],
   "source": [
    "transXTest = scaler.fit_transform(xTest)"
   ]
  },
  {
   "cell_type": "code",
   "execution_count": 100,
   "metadata": {},
   "outputs": [
    {
     "name": "stdout",
     "output_type": "stream",
     "text": [
      "0.5539385783198794\n",
      "[[4051  991]\n",
      " [2703 1183]]\n"
     ]
    }
   ],
   "source": [
    "y_pred = clf.predict(transXTest)\n",
    "print(balanced_accuracy_score(yTest, y_pred))\n",
    "print(confusion_matrix(yTest, y_pred))"
   ]
  },
  {
   "cell_type": "code",
   "execution_count": 101,
   "metadata": {},
   "outputs": [],
   "source": [
    "np.random.seed(1)\n",
    "benchmark = np.random.randint(low=0,high=2,size=len(transXTest))"
   ]
  },
  {
   "cell_type": "code",
   "execution_count": 102,
   "metadata": {},
   "outputs": [],
   "source": [
    "benchmark = [-1 if x == 0 else 1 for x in benchmark]"
   ]
  },
  {
   "cell_type": "code",
   "execution_count": 103,
   "metadata": {},
   "outputs": [
    {
     "data": {
      "text/plain": [
       "0.49731182795698925"
      ]
     },
     "execution_count": 103,
     "metadata": {},
     "output_type": "execute_result"
    }
   ],
   "source": [
    "accuracy_score(yTest, benchmark)"
   ]
  },
  {
   "cell_type": "markdown",
   "metadata": {},
   "source": [
    "Our randomforest model performs worse at classifying whether or not the next tick will be higher/lower from where we are currently than a random guess. :("
   ]
  },
  {
   "cell_type": "code",
   "execution_count": 104,
   "metadata": {},
   "outputs": [],
   "source": [
    "import xgboost as xgb"
   ]
  },
  {
   "cell_type": "code",
   "execution_count": 105,
   "metadata": {
    "scrolled": true
   },
   "outputs": [
    {
     "name": "stdout",
     "output_type": "stream",
     "text": [
      "{'max_depth': 2}\n"
     ]
    }
   ],
   "source": [
    "new_model = xgb.XGBClassifier()\n",
    "\n",
    "test_params = {\n",
    " 'max_depth':[2,4,6]\n",
    "}\n",
    "\n",
    "new_model = GridSearchCV(estimator = new_model,param_grid = test_params, cv=5)\n",
    "new_model.fit(transXTrain, yTrain.values.ravel())\n",
    "print(new_model.best_params_)"
   ]
  },
  {
   "cell_type": "code",
   "execution_count": 106,
   "metadata": {},
   "outputs": [
    {
     "data": {
      "text/plain": [
       "XGBClassifier(base_score=0.5, booster='gbtree', colsample_bylevel=1,\n",
       "       colsample_bytree=1, gamma=0, learning_rate=0.1, max_delta_step=0,\n",
       "       max_depth=2, min_child_weight=1, missing=None, n_estimators=100,\n",
       "       n_jobs=1, nthread=None, objective='binary:logistic', random_state=0,\n",
       "       reg_alpha=0, reg_lambda=1, scale_pos_weight=1, seed=None,\n",
       "       silent=True, subsample=1)"
      ]
     },
     "execution_count": 106,
     "metadata": {},
     "output_type": "execute_result"
    }
   ],
   "source": [
    "new_model = xgb.XGBClassifier(max_depth=2)\n",
    "new_model.fit(transXTrain, yTrain.values.ravel())"
   ]
  },
  {
   "cell_type": "code",
   "execution_count": 107,
   "metadata": {},
   "outputs": [
    {
     "name": "stdout",
     "output_type": "stream",
     "text": [
      "0.4212173368799875\n",
      "0.5582512453802878\n",
      "0.5856854838709677\n",
      "[[3883 1159]\n",
      " [2540 1346]]\n"
     ]
    }
   ],
   "source": [
    "y_pred = new_model.predict(transXTest)\n",
    "print(f1_score(yTest, y_pred))\n",
    "print(balanced_accuracy_score(yTest, y_pred))\n",
    "print(accuracy_score(yTest, y_pred))\n",
    "print(confusion_matrix(yTest, y_pred))"
   ]
  },
  {
   "cell_type": "markdown",
   "metadata": {},
   "source": [
    "Bechmark Scores:"
   ]
  },
  {
   "cell_type": "code",
   "execution_count": 108,
   "metadata": {},
   "outputs": [
    {
     "name": "stdout",
     "output_type": "stream",
     "text": [
      "0.4612244897959184\n",
      "0.49731182795698925\n",
      "0.4969709917904221\n",
      "[[2519 2523]\n",
      " [1965 1921]]\n"
     ]
    }
   ],
   "source": [
    "print(f1_score(yTest, benchmark))\n",
    "print(accuracy_score(yTest, benchmark))\n",
    "print(balanced_accuracy_score(yTest, benchmark))\n",
    "print(confusion_matrix(yTest, benchmark))"
   ]
  },
  {
   "cell_type": "markdown",
   "metadata": {},
   "source": [
    "I've found that we can consistenly get above 50% (~56%) predictive power from the xgboostclassifier model (about the same as with randomforest) on the negative class (predicting that the next tick will be below where we are currently). We lack in predictive power ~45% on the positive class (predicting that the next tick will be above where we currently are, and that is what brings down our total f1_score). We need to figure out how to get the positive class prediction power above 50%."
   ]
  },
  {
   "cell_type": "code",
   "execution_count": 109,
   "metadata": {},
   "outputs": [
    {
     "data": {
      "text/html": [
       "<div>\n",
       "<style scoped>\n",
       "    .dataframe tbody tr th:only-of-type {\n",
       "        vertical-align: middle;\n",
       "    }\n",
       "\n",
       "    .dataframe tbody tr th {\n",
       "        vertical-align: top;\n",
       "    }\n",
       "\n",
       "    .dataframe thead th {\n",
       "        text-align: right;\n",
       "    }\n",
       "</style>\n",
       "<table border=\"1\" class=\"dataframe\">\n",
       "  <thead>\n",
       "    <tr style=\"text-align: right;\">\n",
       "      <th></th>\n",
       "      <th>0</th>\n",
       "      <th>1</th>\n",
       "    </tr>\n",
       "  </thead>\n",
       "  <tbody>\n",
       "    <tr>\n",
       "      <th>count</th>\n",
       "      <td>8928.000000</td>\n",
       "      <td>8928.000000</td>\n",
       "    </tr>\n",
       "    <tr>\n",
       "      <th>mean</th>\n",
       "      <td>0.541057</td>\n",
       "      <td>0.458943</td>\n",
       "    </tr>\n",
       "    <tr>\n",
       "      <th>std</th>\n",
       "      <td>0.101462</td>\n",
       "      <td>0.101462</td>\n",
       "    </tr>\n",
       "    <tr>\n",
       "      <th>min</th>\n",
       "      <td>0.228802</td>\n",
       "      <td>0.222900</td>\n",
       "    </tr>\n",
       "    <tr>\n",
       "      <th>25%</th>\n",
       "      <td>0.493226</td>\n",
       "      <td>0.402296</td>\n",
       "    </tr>\n",
       "    <tr>\n",
       "      <th>50%</th>\n",
       "      <td>0.546026</td>\n",
       "      <td>0.453974</td>\n",
       "    </tr>\n",
       "    <tr>\n",
       "      <th>75%</th>\n",
       "      <td>0.597704</td>\n",
       "      <td>0.506774</td>\n",
       "    </tr>\n",
       "    <tr>\n",
       "      <th>max</th>\n",
       "      <td>0.777100</td>\n",
       "      <td>0.771198</td>\n",
       "    </tr>\n",
       "  </tbody>\n",
       "</table>\n",
       "</div>"
      ],
      "text/plain": [
       "                 0            1\n",
       "count  8928.000000  8928.000000\n",
       "mean      0.541057     0.458943\n",
       "std       0.101462     0.101462\n",
       "min       0.228802     0.222900\n",
       "25%       0.493226     0.402296\n",
       "50%       0.546026     0.453974\n",
       "75%       0.597704     0.506774\n",
       "max       0.777100     0.771198"
      ]
     },
     "execution_count": 109,
     "metadata": {},
     "output_type": "execute_result"
    }
   ],
   "source": [
    "probabilities = pd.DataFrame(new_model.predict_proba(transXTest))\n",
    "probabilities.describe()"
   ]
  },
  {
   "cell_type": "code",
   "execution_count": 110,
   "metadata": {},
   "outputs": [],
   "source": [
    "probabilities.columns = ['prob_below', 'prob_above']"
   ]
  },
  {
   "cell_type": "code",
   "execution_count": 111,
   "metadata": {
    "scrolled": true
   },
   "outputs": [],
   "source": [
    "# 50 and 75 percentile thresholds for the probability\n",
    "fifty_above = np.percentile(probabilities['prob_above'],50)\n",
    "seventyfive_above = np.percentile(probabilities['prob_above'],75)\n",
    "fifty_below = np.percentile(probabilities['prob_below'],50)\n",
    "seventyfive_below = np.percentile(probabilities['prob_below'],75)\n",
    "\n",
    "# probabilities.loc[probabilities[1] > seventyfive, 1].median()"
   ]
  },
  {
   "cell_type": "code",
   "execution_count": 112,
   "metadata": {},
   "outputs": [
    {
     "data": {
      "text/html": [
       "<div>\n",
       "<style scoped>\n",
       "    .dataframe tbody tr th:only-of-type {\n",
       "        vertical-align: middle;\n",
       "    }\n",
       "\n",
       "    .dataframe tbody tr th {\n",
       "        vertical-align: top;\n",
       "    }\n",
       "\n",
       "    .dataframe thead th {\n",
       "        text-align: right;\n",
       "    }\n",
       "</style>\n",
       "<table border=\"1\" class=\"dataframe\">\n",
       "  <thead>\n",
       "    <tr style=\"text-align: right;\">\n",
       "      <th></th>\n",
       "      <th>prob_below</th>\n",
       "      <th>prob_above</th>\n",
       "    </tr>\n",
       "  </thead>\n",
       "  <tbody>\n",
       "    <tr>\n",
       "      <th>0</th>\n",
       "      <td>0.602590</td>\n",
       "      <td>0.397410</td>\n",
       "    </tr>\n",
       "    <tr>\n",
       "      <th>1</th>\n",
       "      <td>0.485386</td>\n",
       "      <td>0.514614</td>\n",
       "    </tr>\n",
       "    <tr>\n",
       "      <th>2</th>\n",
       "      <td>0.559065</td>\n",
       "      <td>0.440935</td>\n",
       "    </tr>\n",
       "    <tr>\n",
       "      <th>3</th>\n",
       "      <td>0.577572</td>\n",
       "      <td>0.422428</td>\n",
       "    </tr>\n",
       "    <tr>\n",
       "      <th>4</th>\n",
       "      <td>0.404286</td>\n",
       "      <td>0.595714</td>\n",
       "    </tr>\n",
       "  </tbody>\n",
       "</table>\n",
       "</div>"
      ],
      "text/plain": [
       "   prob_below  prob_above\n",
       "0    0.602590    0.397410\n",
       "1    0.485386    0.514614\n",
       "2    0.559065    0.440935\n",
       "3    0.577572    0.422428\n",
       "4    0.404286    0.595714"
      ]
     },
     "execution_count": 112,
     "metadata": {},
     "output_type": "execute_result"
    }
   ],
   "source": [
    "probabilities.head()"
   ]
  },
  {
   "cell_type": "code",
   "execution_count": 113,
   "metadata": {},
   "outputs": [
    {
     "data": {
      "text/html": [
       "<div>\n",
       "<style scoped>\n",
       "    .dataframe tbody tr th:only-of-type {\n",
       "        vertical-align: middle;\n",
       "    }\n",
       "\n",
       "    .dataframe tbody tr th {\n",
       "        vertical-align: top;\n",
       "    }\n",
       "\n",
       "    .dataframe thead th {\n",
       "        text-align: right;\n",
       "    }\n",
       "</style>\n",
       "<table border=\"1\" class=\"dataframe\">\n",
       "  <thead>\n",
       "    <tr style=\"text-align: right;\">\n",
       "      <th></th>\n",
       "      <th>prob_below</th>\n",
       "      <th>prob_above</th>\n",
       "      <th>prediction</th>\n",
       "      <th>actual</th>\n",
       "    </tr>\n",
       "  </thead>\n",
       "  <tbody>\n",
       "    <tr>\n",
       "      <th>0</th>\n",
       "      <td>0.602590</td>\n",
       "      <td>0.397410</td>\n",
       "      <td>-1</td>\n",
       "      <td>1</td>\n",
       "    </tr>\n",
       "    <tr>\n",
       "      <th>1</th>\n",
       "      <td>0.485386</td>\n",
       "      <td>0.514614</td>\n",
       "      <td>1</td>\n",
       "      <td>-1</td>\n",
       "    </tr>\n",
       "    <tr>\n",
       "      <th>2</th>\n",
       "      <td>0.559065</td>\n",
       "      <td>0.440935</td>\n",
       "      <td>-1</td>\n",
       "      <td>1</td>\n",
       "    </tr>\n",
       "    <tr>\n",
       "      <th>3</th>\n",
       "      <td>0.577572</td>\n",
       "      <td>0.422428</td>\n",
       "      <td>-1</td>\n",
       "      <td>1</td>\n",
       "    </tr>\n",
       "    <tr>\n",
       "      <th>4</th>\n",
       "      <td>0.404286</td>\n",
       "      <td>0.595714</td>\n",
       "      <td>1</td>\n",
       "      <td>-1</td>\n",
       "    </tr>\n",
       "  </tbody>\n",
       "</table>\n",
       "</div>"
      ],
      "text/plain": [
       "   prob_below  prob_above  prediction  actual\n",
       "0    0.602590    0.397410          -1       1\n",
       "1    0.485386    0.514614           1      -1\n",
       "2    0.559065    0.440935          -1       1\n",
       "3    0.577572    0.422428          -1       1\n",
       "4    0.404286    0.595714           1      -1"
      ]
     },
     "execution_count": 113,
     "metadata": {},
     "output_type": "execute_result"
    }
   ],
   "source": [
    "results = probabilities.copy()\n",
    "results['prediction'] = new_model.predict(transXTest)\n",
    "results['actual'] = yTest['target'].reset_index(drop=True)\n",
    "results.head()"
   ]
  },
  {
   "cell_type": "code",
   "execution_count": 114,
   "metadata": {},
   "outputs": [
    {
     "name": "stdout",
     "output_type": "stream",
     "text": [
      "-- balanced_accuracy_score only longing values with probability above median probability for pos class --\n",
      "0.5383723955301359\n",
      "\n",
      "-- balanced_accuracy_score only longing values with probability above 75 percentile probability for pos class --\n",
      "0.5\n"
     ]
    }
   ],
   "source": [
    "fifty_above_results = results.loc[results.prob_above > fifty_above, ['prediction','actual']].copy()\n",
    "seventyfive_above_results = results.loc[results.prob_above > seventyfive_above, ['prediction','actual']].copy()\n",
    "print('-- balanced_accuracy_score only longing values with probability above median probability for pos class --')\n",
    "print(balanced_accuracy_score(fifty_above_results['actual'], fifty_above_results['prediction']))\n",
    "print('')\n",
    "print('-- balanced_accuracy_score only longing values with probability above 75 percentile probability for pos class --')\n",
    "print(balanced_accuracy_score(seventyfive_above_results['actual'], seventyfive_above_results['prediction']))"
   ]
  },
  {
   "cell_type": "code",
   "execution_count": 115,
   "metadata": {},
   "outputs": [
    {
     "data": {
      "text/plain": [
       "array([[1059, 1159],\n",
       "       [ 900, 1346]])"
      ]
     },
     "execution_count": 115,
     "metadata": {},
     "output_type": "execute_result"
    }
   ],
   "source": [
    "confusion_matrix(fifty_above_results['actual'], fifty_above_results['prediction'])"
   ]
  },
  {
   "cell_type": "code",
   "execution_count": 116,
   "metadata": {},
   "outputs": [
    {
     "name": "stdout",
     "output_type": "stream",
     "text": [
      "[[   0 1034]\n",
      " [   0 1197]]\n",
      "0.5365307037203048\n"
     ]
    }
   ],
   "source": [
    "print(confusion_matrix(seventyfive_above_results['actual'], seventyfive_above_results['prediction']))\n",
    "print(accuracy_score(seventyfive_above_results['actual'], seventyfive_above_results['prediction']))"
   ]
  },
  {
   "cell_type": "code",
   "execution_count": 117,
   "metadata": {},
   "outputs": [],
   "source": [
    "below_results = results.loc[results.prob_below > 0.5, :]\n",
    "above_results = results.loc[results.prob_above > 0.5, :]"
   ]
  },
  {
   "cell_type": "code",
   "execution_count": 118,
   "metadata": {},
   "outputs": [
    {
     "data": {
      "text/html": [
       "<div>\n",
       "<style scoped>\n",
       "    .dataframe tbody tr th:only-of-type {\n",
       "        vertical-align: middle;\n",
       "    }\n",
       "\n",
       "    .dataframe tbody tr th {\n",
       "        vertical-align: top;\n",
       "    }\n",
       "\n",
       "    .dataframe thead th {\n",
       "        text-align: right;\n",
       "    }\n",
       "</style>\n",
       "<table border=\"1\" class=\"dataframe\">\n",
       "  <thead>\n",
       "    <tr style=\"text-align: right;\">\n",
       "      <th></th>\n",
       "      <th>prob_below</th>\n",
       "      <th>prob_above</th>\n",
       "      <th>prediction</th>\n",
       "      <th>actual</th>\n",
       "    </tr>\n",
       "  </thead>\n",
       "  <tbody>\n",
       "    <tr>\n",
       "      <th>count</th>\n",
       "      <td>6423.000000</td>\n",
       "      <td>6423.000000</td>\n",
       "      <td>6423.0</td>\n",
       "      <td>6423.000000</td>\n",
       "    </tr>\n",
       "    <tr>\n",
       "      <th>mean</th>\n",
       "      <td>0.588556</td>\n",
       "      <td>0.411444</td>\n",
       "      <td>-1.0</td>\n",
       "      <td>-0.209092</td>\n",
       "    </tr>\n",
       "    <tr>\n",
       "      <th>std</th>\n",
       "      <td>0.066692</td>\n",
       "      <td>0.066692</td>\n",
       "      <td>0.0</td>\n",
       "      <td>0.977972</td>\n",
       "    </tr>\n",
       "    <tr>\n",
       "      <th>min</th>\n",
       "      <td>0.500019</td>\n",
       "      <td>0.222900</td>\n",
       "      <td>-1.0</td>\n",
       "      <td>-1.000000</td>\n",
       "    </tr>\n",
       "    <tr>\n",
       "      <th>25%</th>\n",
       "      <td>0.539199</td>\n",
       "      <td>0.366332</td>\n",
       "      <td>-1.0</td>\n",
       "      <td>-1.000000</td>\n",
       "    </tr>\n",
       "    <tr>\n",
       "      <th>50%</th>\n",
       "      <td>0.564704</td>\n",
       "      <td>0.435296</td>\n",
       "      <td>-1.0</td>\n",
       "      <td>-1.000000</td>\n",
       "    </tr>\n",
       "    <tr>\n",
       "      <th>75%</th>\n",
       "      <td>0.633668</td>\n",
       "      <td>0.460801</td>\n",
       "      <td>-1.0</td>\n",
       "      <td>1.000000</td>\n",
       "    </tr>\n",
       "    <tr>\n",
       "      <th>max</th>\n",
       "      <td>0.777100</td>\n",
       "      <td>0.499981</td>\n",
       "      <td>-1.0</td>\n",
       "      <td>1.000000</td>\n",
       "    </tr>\n",
       "  </tbody>\n",
       "</table>\n",
       "</div>"
      ],
      "text/plain": [
       "        prob_below   prob_above  prediction       actual\n",
       "count  6423.000000  6423.000000      6423.0  6423.000000\n",
       "mean      0.588556     0.411444        -1.0    -0.209092\n",
       "std       0.066692     0.066692         0.0     0.977972\n",
       "min       0.500019     0.222900        -1.0    -1.000000\n",
       "25%       0.539199     0.366332        -1.0    -1.000000\n",
       "50%       0.564704     0.435296        -1.0    -1.000000\n",
       "75%       0.633668     0.460801        -1.0     1.000000\n",
       "max       0.777100     0.499981        -1.0     1.000000"
      ]
     },
     "execution_count": 118,
     "metadata": {},
     "output_type": "execute_result"
    }
   ],
   "source": [
    "below_results.describe()"
   ]
  },
  {
   "cell_type": "markdown",
   "metadata": {},
   "source": [
    "## < 25 Percentile Bucket Shorts"
   ]
  },
  {
   "cell_type": "markdown",
   "metadata": {},
   "source": [
    "Accuracy_score makes more sense to use below than f1_score because we're only looking at one class"
   ]
  },
  {
   "cell_type": "code",
   "execution_count": 119,
   "metadata": {},
   "outputs": [
    {
     "name": "stdout",
     "output_type": "stream",
     "text": [
      "548\n",
      "[[271   0]\n",
      " [277   0]]\n",
      "0.49452554744525545\n"
     ]
    }
   ],
   "source": [
    "print(below_results.loc[below_results.prob_below < 0.515843,'actual'].count())\n",
    "print(confusion_matrix(below_results.loc[below_results.prob_below < 0.515843,'actual'], below_results.loc[below_results.prob_below < 0.515843,'prediction']))\n",
    "print(accuracy_score(below_results.loc[below_results.prob_below < 0.515843,'actual'], below_results.loc[below_results.prob_below < 0.515843,'prediction']))"
   ]
  },
  {
   "cell_type": "markdown",
   "metadata": {},
   "source": [
    "As you can see, the above bucket of shorts gets more wrong than it gets right ~48.1%"
   ]
  },
  {
   "cell_type": "markdown",
   "metadata": {},
   "source": [
    "## 25 to 50 Percentile Bucket Shorts"
   ]
  },
  {
   "cell_type": "code",
   "execution_count": 120,
   "metadata": {},
   "outputs": [
    {
     "name": "stdout",
     "output_type": "stream",
     "text": [
      "945\n",
      "[[537   0]\n",
      " [408   0]]\n",
      "0.5682539682539682\n"
     ]
    }
   ],
   "source": [
    "print(below_results.loc[(below_results.prob_below >= 0.515843) & (below_results.prob_below < 0.536436),'actual'].count())\n",
    "print(confusion_matrix(below_results.loc[(below_results.prob_below >= 0.515843) & (below_results.prob_below < 0.536436),'actual'], below_results.loc[(below_results.prob_below >= 0.515843) & (below_results.prob_below < 0.536436),'prediction']))\n",
    "print(accuracy_score(below_results.loc[(below_results.prob_below >= 0.515843) & (below_results.prob_below < 0.536436),'actual'], below_results.loc[(below_results.prob_below >= 0.515843) & (below_results.prob_below < 0.536436),'prediction']))"
   ]
  },
  {
   "cell_type": "markdown",
   "metadata": {},
   "source": [
    "## 50 to 75 Percentile Bucket Shorts"
   ]
  },
  {
   "cell_type": "code",
   "execution_count": 121,
   "metadata": {},
   "outputs": [
    {
     "name": "stdout",
     "output_type": "stream",
     "text": [
      "3156\n",
      "[[1819    0]\n",
      " [1337    0]]\n",
      "0.576362484157161\n"
     ]
    }
   ],
   "source": [
    "print(below_results.loc[(below_results.prob_below >= 0.536436) & (below_results.prob_below < 0.622083),'actual'].count())\n",
    "print(confusion_matrix(below_results.loc[(below_results.prob_below >= 0.536436) & (below_results.prob_below < 0.622083),'actual'], below_results.loc[(below_results.prob_below >= 0.536436) & (below_results.prob_below < 0.622083),'prediction']))\n",
    "print(accuracy_score(below_results.loc[(below_results.prob_below >= 0.536436) & (below_results.prob_below < 0.622083),'actual'], below_results.loc[(below_results.prob_below >= 0.536436) & (below_results.prob_below < 0.622083),'prediction']))"
   ]
  },
  {
   "cell_type": "markdown",
   "metadata": {},
   "source": [
    "## > 75 Percentile Bucket Shorts"
   ]
  },
  {
   "cell_type": "code",
   "execution_count": 122,
   "metadata": {},
   "outputs": [
    {
     "name": "stdout",
     "output_type": "stream",
     "text": [
      "1774\n",
      "[[1256    0]\n",
      " [ 518    0]]\n",
      "0.7080045095828635\n"
     ]
    }
   ],
   "source": [
    "print(below_results.loc[(below_results.prob_below >= 0.622083),'actual'].count())\n",
    "print(confusion_matrix(below_results.loc[(below_results.prob_below >= 0.622083),'actual'], below_results.loc[(below_results.prob_below >= 0.622083),'prediction']))\n",
    "print(accuracy_score(below_results.loc[(below_results.prob_below >= 0.622083),'actual'], below_results.loc[(below_results.prob_below >= 0.622083),'prediction']))"
   ]
  },
  {
   "cell_type": "code",
   "execution_count": 123,
   "metadata": {},
   "outputs": [
    {
     "data": {
      "text/html": [
       "<div>\n",
       "<style scoped>\n",
       "    .dataframe tbody tr th:only-of-type {\n",
       "        vertical-align: middle;\n",
       "    }\n",
       "\n",
       "    .dataframe tbody tr th {\n",
       "        vertical-align: top;\n",
       "    }\n",
       "\n",
       "    .dataframe thead th {\n",
       "        text-align: right;\n",
       "    }\n",
       "</style>\n",
       "<table border=\"1\" class=\"dataframe\">\n",
       "  <thead>\n",
       "    <tr style=\"text-align: right;\">\n",
       "      <th></th>\n",
       "      <th>prob_below</th>\n",
       "      <th>prob_above</th>\n",
       "      <th>prediction</th>\n",
       "      <th>actual</th>\n",
       "    </tr>\n",
       "  </thead>\n",
       "  <tbody>\n",
       "    <tr>\n",
       "      <th>count</th>\n",
       "      <td>6423.000000</td>\n",
       "      <td>6423.000000</td>\n",
       "      <td>6423.0</td>\n",
       "      <td>6423.000000</td>\n",
       "    </tr>\n",
       "    <tr>\n",
       "      <th>mean</th>\n",
       "      <td>0.588556</td>\n",
       "      <td>0.411444</td>\n",
       "      <td>-1.0</td>\n",
       "      <td>-0.209092</td>\n",
       "    </tr>\n",
       "    <tr>\n",
       "      <th>std</th>\n",
       "      <td>0.066692</td>\n",
       "      <td>0.066692</td>\n",
       "      <td>0.0</td>\n",
       "      <td>0.977972</td>\n",
       "    </tr>\n",
       "    <tr>\n",
       "      <th>min</th>\n",
       "      <td>0.500019</td>\n",
       "      <td>0.222900</td>\n",
       "      <td>-1.0</td>\n",
       "      <td>-1.000000</td>\n",
       "    </tr>\n",
       "    <tr>\n",
       "      <th>25%</th>\n",
       "      <td>0.539199</td>\n",
       "      <td>0.366332</td>\n",
       "      <td>-1.0</td>\n",
       "      <td>-1.000000</td>\n",
       "    </tr>\n",
       "    <tr>\n",
       "      <th>50%</th>\n",
       "      <td>0.564704</td>\n",
       "      <td>0.435296</td>\n",
       "      <td>-1.0</td>\n",
       "      <td>-1.000000</td>\n",
       "    </tr>\n",
       "    <tr>\n",
       "      <th>75%</th>\n",
       "      <td>0.633668</td>\n",
       "      <td>0.460801</td>\n",
       "      <td>-1.0</td>\n",
       "      <td>1.000000</td>\n",
       "    </tr>\n",
       "    <tr>\n",
       "      <th>max</th>\n",
       "      <td>0.777100</td>\n",
       "      <td>0.499981</td>\n",
       "      <td>-1.0</td>\n",
       "      <td>1.000000</td>\n",
       "    </tr>\n",
       "  </tbody>\n",
       "</table>\n",
       "</div>"
      ],
      "text/plain": [
       "        prob_below   prob_above  prediction       actual\n",
       "count  6423.000000  6423.000000      6423.0  6423.000000\n",
       "mean      0.588556     0.411444        -1.0    -0.209092\n",
       "std       0.066692     0.066692         0.0     0.977972\n",
       "min       0.500019     0.222900        -1.0    -1.000000\n",
       "25%       0.539199     0.366332        -1.0    -1.000000\n",
       "50%       0.564704     0.435296        -1.0    -1.000000\n",
       "75%       0.633668     0.460801        -1.0     1.000000\n",
       "max       0.777100     0.499981        -1.0     1.000000"
      ]
     },
     "execution_count": 123,
     "metadata": {},
     "output_type": "execute_result"
    }
   ],
   "source": [
    "below_results.describe()"
   ]
  },
  {
   "cell_type": "markdown",
   "metadata": {},
   "source": [
    "## ALL Shorts"
   ]
  },
  {
   "cell_type": "code",
   "execution_count": 124,
   "metadata": {},
   "outputs": [
    {
     "name": "stdout",
     "output_type": "stream",
     "text": [
      "6423\n",
      "[[3883    0]\n",
      " [2540    0]]\n",
      "0.6045461622294878\n"
     ]
    }
   ],
   "source": [
    "print(below_results.loc[:,'actual'].count())\n",
    "print(confusion_matrix(below_results.loc[:,'actual'], below_results.loc[:,'prediction']))\n",
    "print(accuracy_score(below_results.loc[:,'actual'], below_results.loc[:,'prediction']))"
   ]
  },
  {
   "cell_type": "markdown",
   "metadata": {},
   "source": [
    "## > 25 Percentile Shorts"
   ]
  },
  {
   "cell_type": "code",
   "execution_count": 125,
   "metadata": {},
   "outputs": [
    {
     "name": "stdout",
     "output_type": "stream",
     "text": [
      "4816\n",
      "[[3016    0]\n",
      " [1800    0]]\n",
      "0.6262458471760798\n"
     ]
    }
   ],
   "source": [
    "percentile = np.percentile(below_results.loc[:,'prob_below'],25)\n",
    "print(below_results.loc[below_results.prob_below > percentile,'actual'].count())\n",
    "print(confusion_matrix(below_results.loc[below_results.prob_below > percentile,'actual'], below_results.loc[below_results.prob_below > percentile,'prediction']))\n",
    "print(accuracy_score(below_results.loc[below_results.prob_below > percentile,'actual'], below_results.loc[below_results.prob_below > percentile,'prediction']))"
   ]
  },
  {
   "cell_type": "markdown",
   "metadata": {},
   "source": [
    "## > 50 Percentile Shorts"
   ]
  },
  {
   "cell_type": "code",
   "execution_count": 126,
   "metadata": {},
   "outputs": [
    {
     "name": "stdout",
     "output_type": "stream",
     "text": [
      "3211\n",
      "[[2119    0]\n",
      " [1092    0]]\n",
      "0.659919028340081\n"
     ]
    }
   ],
   "source": [
    "percentile = np.percentile(below_results.loc[:,'prob_below'],50)\n",
    "print(below_results.loc[below_results.prob_below > percentile,'actual'].count())\n",
    "print(confusion_matrix(below_results.loc[below_results.prob_below > percentile,'actual'], below_results.loc[below_results.prob_below > percentile,'prediction']))\n",
    "print(accuracy_score(below_results.loc[below_results.prob_below > percentile,'actual'], below_results.loc[below_results.prob_below > percentile,'prediction']))"
   ]
  },
  {
   "cell_type": "markdown",
   "metadata": {},
   "source": [
    "## > 75 Percentile Shorts"
   ]
  },
  {
   "cell_type": "code",
   "execution_count": 127,
   "metadata": {},
   "outputs": [
    {
     "name": "stdout",
     "output_type": "stream",
     "text": [
      "1606\n",
      "[[1135    0]\n",
      " [ 471    0]]\n",
      "0.7067247820672479\n"
     ]
    }
   ],
   "source": [
    "percentile = np.percentile(below_results.loc[:,'prob_below'],75)\n",
    "print(below_results.loc[below_results.prob_below > percentile,'actual'].count())\n",
    "print(confusion_matrix(below_results.loc[below_results.prob_below > percentile,'actual'], below_results.loc[below_results.prob_below > percentile,'prediction']))\n",
    "print(accuracy_score(below_results.loc[below_results.prob_below > percentile,'actual'], below_results.loc[below_results.prob_below > percentile,'prediction']))"
   ]
  },
  {
   "cell_type": "markdown",
   "metadata": {},
   "source": [
    "As expected, the predictions with higher probability have higher accuracy_scores. This means that a higher percentage of them are correctly classified. We don't want to just trade the ones with higher probabilities though because the number of trades would drastically decrease, but I wonder if a good strategy might be to lever up on the ones with higher probabilities."
   ]
  },
  {
   "cell_type": "markdown",
   "metadata": {},
   "source": [
    "## < 25 Percentile Bucket Longs"
   ]
  },
  {
   "cell_type": "code",
   "execution_count": 128,
   "metadata": {},
   "outputs": [
    {
     "data": {
      "text/html": [
       "<div>\n",
       "<style scoped>\n",
       "    .dataframe tbody tr th:only-of-type {\n",
       "        vertical-align: middle;\n",
       "    }\n",
       "\n",
       "    .dataframe tbody tr th {\n",
       "        vertical-align: top;\n",
       "    }\n",
       "\n",
       "    .dataframe thead th {\n",
       "        text-align: right;\n",
       "    }\n",
       "</style>\n",
       "<table border=\"1\" class=\"dataframe\">\n",
       "  <thead>\n",
       "    <tr style=\"text-align: right;\">\n",
       "      <th></th>\n",
       "      <th>prob_below</th>\n",
       "      <th>prob_above</th>\n",
       "      <th>prediction</th>\n",
       "      <th>actual</th>\n",
       "    </tr>\n",
       "  </thead>\n",
       "  <tbody>\n",
       "    <tr>\n",
       "      <th>1</th>\n",
       "      <td>0.485386</td>\n",
       "      <td>0.514614</td>\n",
       "      <td>1</td>\n",
       "      <td>-1</td>\n",
       "    </tr>\n",
       "    <tr>\n",
       "      <th>4</th>\n",
       "      <td>0.404286</td>\n",
       "      <td>0.595714</td>\n",
       "      <td>1</td>\n",
       "      <td>-1</td>\n",
       "    </tr>\n",
       "    <tr>\n",
       "      <th>5</th>\n",
       "      <td>0.456687</td>\n",
       "      <td>0.543313</td>\n",
       "      <td>1</td>\n",
       "      <td>1</td>\n",
       "    </tr>\n",
       "    <tr>\n",
       "      <th>10</th>\n",
       "      <td>0.469116</td>\n",
       "      <td>0.530884</td>\n",
       "      <td>1</td>\n",
       "      <td>1</td>\n",
       "    </tr>\n",
       "    <tr>\n",
       "      <th>13</th>\n",
       "      <td>0.411343</td>\n",
       "      <td>0.588657</td>\n",
       "      <td>1</td>\n",
       "      <td>-1</td>\n",
       "    </tr>\n",
       "  </tbody>\n",
       "</table>\n",
       "</div>"
      ],
      "text/plain": [
       "    prob_below  prob_above  prediction  actual\n",
       "1     0.485386    0.514614           1      -1\n",
       "4     0.404286    0.595714           1      -1\n",
       "5     0.456687    0.543313           1       1\n",
       "10    0.469116    0.530884           1       1\n",
       "13    0.411343    0.588657           1      -1"
      ]
     },
     "execution_count": 128,
     "metadata": {},
     "output_type": "execute_result"
    }
   ],
   "source": [
    "above_results.head()"
   ]
  },
  {
   "cell_type": "code",
   "execution_count": 129,
   "metadata": {},
   "outputs": [
    {
     "name": "stdout",
     "output_type": "stream",
     "text": [
      "626\n",
      "[[  0 282]\n",
      " [  0 344]]\n",
      "0.549520766773163\n"
     ]
    }
   ],
   "source": [
    "print(above_results.loc[above_results.prob_above < np.percentile(above_results.loc[:,'prob_above'],25),'actual'].count())\n",
    "print(confusion_matrix(above_results.loc[above_results.prob_above < np.percentile(above_results.loc[:,'prob_above'],25), 'actual'], above_results.loc[above_results.prob_above < np.percentile(above_results.loc[:,'prob_above'],25),'prediction']))\n",
    "print(accuracy_score(above_results.loc[above_results.prob_above < np.percentile(above_results.loc[:,'prob_above'],25),'actual'], above_results.loc[above_results.prob_above < np.percentile(above_results.loc[:,'prob_above'],25),'prediction']))"
   ]
  },
  {
   "cell_type": "markdown",
   "metadata": {},
   "source": [
    "## 25 Percentile to 50 Percentile"
   ]
  },
  {
   "cell_type": "code",
   "execution_count": 130,
   "metadata": {},
   "outputs": [
    {
     "name": "stdout",
     "output_type": "stream",
     "text": [
      "623\n",
      "[[  0 299]\n",
      " [  0 324]]\n",
      "0.5200642054574639\n"
     ]
    }
   ],
   "source": [
    "print(above_results.loc[(above_results.prob_above >= np.percentile(above_results.prob_above,25)) & (above_results.prob_above < np.percentile(above_results.prob_above,50)),'actual'].count())\n",
    "print(confusion_matrix(above_results.loc[(above_results.prob_above >= np.percentile(above_results.prob_above,25)) & (above_results.prob_above < np.percentile(above_results.prob_above,50)),'actual'], above_results.loc[(above_results.prob_above >= np.percentile(above_results.prob_above,25)) & (above_results.prob_above < np.percentile(above_results.prob_above,50)),'prediction']))\n",
    "print(accuracy_score(above_results.loc[(above_results.prob_above >= np.percentile(above_results.prob_above,25)) & (above_results.prob_above < np.percentile(above_results.prob_above,50)),'actual'], above_results.loc[(above_results.prob_above >= np.percentile(above_results.prob_above,25)) & (above_results.prob_above < np.percentile(above_results.prob_above,50)),'prediction']))"
   ]
  },
  {
   "cell_type": "markdown",
   "metadata": {},
   "source": [
    "This is interesting, the percentage of correctly labeled longs for longs with probabilities between the 25 and 50 percentiles is lower than that of longs with probabilities < the 25 percentile."
   ]
  },
  {
   "cell_type": "markdown",
   "metadata": {},
   "source": [
    "## 50 Percentile to 75 Percentile"
   ]
  },
  {
   "cell_type": "code",
   "execution_count": 131,
   "metadata": {},
   "outputs": [
    {
     "name": "stdout",
     "output_type": "stream",
     "text": [
      "629\n",
      "[[  0 291]\n",
      " [  0 338]]\n",
      "0.5373608903020668\n"
     ]
    }
   ],
   "source": [
    "print(above_results.loc[(above_results.prob_above >= np.percentile(above_results.prob_above,50)) & (above_results.prob_above < np.percentile(above_results.prob_above,75)),'actual'].count())\n",
    "print(confusion_matrix(above_results.loc[(above_results.prob_above >= np.percentile(above_results.prob_above,50)) & (above_results.prob_above < np.percentile(above_results.prob_above,75)),'actual'], above_results.loc[(above_results.prob_above >= np.percentile(above_results.prob_above,50)) & (above_results.prob_above < np.percentile(above_results.prob_above,75)),'prediction']))\n",
    "print(accuracy_score(above_results.loc[(above_results.prob_above >= np.percentile(above_results.prob_above,50)) & (above_results.prob_above < np.percentile(above_results.prob_above,75)),'actual'], above_results.loc[(above_results.prob_above >= np.percentile(above_results.prob_above,50)) & (above_results.prob_above < np.percentile(above_results.prob_above,75)),'prediction']))"
   ]
  },
  {
   "cell_type": "markdown",
   "metadata": {},
   "source": [
    "## > 75 Percentile"
   ]
  },
  {
   "cell_type": "code",
   "execution_count": 132,
   "metadata": {},
   "outputs": [
    {
     "name": "stdout",
     "output_type": "stream",
     "text": [
      "626\n",
      "[[  0 287]\n",
      " [  0 339]]\n",
      "0.5415335463258786\n"
     ]
    }
   ],
   "source": [
    "print(above_results.loc[above_results.prob_above > np.percentile(above_results.loc[:,'prob_above'],75),'actual'].count())\n",
    "print(confusion_matrix(above_results.loc[above_results.prob_above > np.percentile(above_results.loc[:,'prob_above'],75), 'actual'], above_results.loc[above_results.prob_above > np.percentile(above_results.loc[:,'prob_above'],75),'prediction']))\n",
    "print(accuracy_score(above_results.loc[above_results.prob_above > np.percentile(above_results.loc[:,'prob_above'],75),'actual'], above_results.loc[above_results.prob_above > np.percentile(above_results.loc[:,'prob_above'],75),'prediction']))"
   ]
  },
  {
   "cell_type": "markdown",
   "metadata": {},
   "source": [
    "It's interesting that the model predicts shorts with higher accuracy than it does longs, but that could be because the sample on which we trained the model had many fewer longs to learn from than the shorts"
   ]
  },
  {
   "cell_type": "markdown",
   "metadata": {},
   "source": [
    "## ALL LONGS"
   ]
  },
  {
   "cell_type": "code",
   "execution_count": 133,
   "metadata": {},
   "outputs": [
    {
     "name": "stdout",
     "output_type": "stream",
     "text": [
      "2505\n",
      "[[   0 1159]\n",
      " [   0 1346]]\n",
      "0.5373253493013972\n"
     ]
    }
   ],
   "source": [
    "print(above_results.loc[:,'actual'].count())\n",
    "print(confusion_matrix(above_results.loc[:, 'actual'], above_results.loc[:,'prediction']))\n",
    "print(accuracy_score(above_results.loc[:,'actual'], above_results.loc[:,'prediction']))"
   ]
  },
  {
   "cell_type": "markdown",
   "metadata": {},
   "source": [
    "## > 25 Percentile Longs"
   ]
  },
  {
   "cell_type": "code",
   "execution_count": 134,
   "metadata": {},
   "outputs": [
    {
     "name": "stdout",
     "output_type": "stream",
     "text": [
      "1876\n",
      "[[   0  875]\n",
      " [   0 1001]]\n",
      "0.5335820895522388\n"
     ]
    }
   ],
   "source": [
    "print(above_results.loc[above_results.prob_above > np.percentile(above_results.loc[:,'prob_above'],25),'actual'].count())\n",
    "print(confusion_matrix(above_results.loc[above_results.prob_above > np.percentile(above_results.loc[:,'prob_above'],25), 'actual'], above_results.loc[above_results.prob_above > np.percentile(above_results.loc[:,'prob_above'],25),'prediction']))\n",
    "print(accuracy_score(above_results.loc[above_results.prob_above > np.percentile(above_results.loc[:,'prob_above'],25),'actual'], above_results.loc[above_results.prob_above > np.percentile(above_results.loc[:,'prob_above'],25),'prediction']))"
   ]
  },
  {
   "cell_type": "markdown",
   "metadata": {},
   "source": [
    "## > 50 Percentile Longs"
   ]
  },
  {
   "cell_type": "code",
   "execution_count": 135,
   "metadata": {},
   "outputs": [
    {
     "name": "stdout",
     "output_type": "stream",
     "text": [
      "1252\n",
      "[[  0 578]\n",
      " [  0 674]]\n",
      "0.5383386581469649\n"
     ]
    }
   ],
   "source": [
    "print(above_results.loc[above_results.prob_above > np.percentile(above_results.loc[:,'prob_above'],50),'actual'].count())\n",
    "print(confusion_matrix(above_results.loc[above_results.prob_above > np.percentile(above_results.loc[:,'prob_above'],50), 'actual'], above_results.loc[above_results.prob_above > np.percentile(above_results.loc[:,'prob_above'],50),'prediction']))\n",
    "print(accuracy_score(above_results.loc[above_results.prob_above > np.percentile(above_results.loc[:,'prob_above'],50),'actual'], above_results.loc[above_results.prob_above > np.percentile(above_results.loc[:,'prob_above'],50),'prediction']))"
   ]
  },
  {
   "cell_type": "code",
   "execution_count": null,
   "metadata": {},
   "outputs": [],
   "source": []
  },
  {
   "cell_type": "code",
   "execution_count": null,
   "metadata": {},
   "outputs": [],
   "source": []
  },
  {
   "cell_type": "code",
   "execution_count": null,
   "metadata": {},
   "outputs": [],
   "source": []
  },
  {
   "cell_type": "code",
   "execution_count": null,
   "metadata": {},
   "outputs": [],
   "source": []
  },
  {
   "cell_type": "code",
   "execution_count": null,
   "metadata": {},
   "outputs": [],
   "source": []
  },
  {
   "cell_type": "code",
   "execution_count": null,
   "metadata": {},
   "outputs": [],
   "source": []
  },
  {
   "cell_type": "code",
   "execution_count": 136,
   "metadata": {},
   "outputs": [],
   "source": [
    "y_future = dict()"
   ]
  },
  {
   "cell_type": "code",
   "execution_count": 137,
   "metadata": {},
   "outputs": [],
   "source": [
    "import multiprocessing as mp"
   ]
  },
  {
   "cell_type": "code",
   "execution_count": 138,
   "metadata": {},
   "outputs": [],
   "source": [
    "def asyncFunction(x, minutesAhead):\n",
    "    x['target'] = 0\n",
    "    x['target'] = x['target'].astype(np.int64)\n",
    "    \n",
    "    for j, row in x.iterrows():\n",
    "        try:\n",
    "            if x.loc[j+datetime.timedelta(minutes=minutesAhead), 'close'] <= x.loc[j, 'close']:\n",
    "                x.at[j, 'target'] = -1\n",
    "            else:\n",
    "                x.at[j, 'target'] = 1\n",
    "        except KeyError as e:\n",
    "            pass\n",
    "        \n",
    "    return dict({minutesAhead: pd.DataFrame(x.target)})"
   ]
  },
  {
   "cell_type": "code",
   "execution_count": 139,
   "metadata": {},
   "outputs": [
    {
     "name": "stderr",
     "output_type": "stream",
     "text": [
      "Process ForkPoolWorker-4:\n",
      "Process ForkPoolWorker-2:\n",
      "Process ForkPoolWorker-3:\n",
      "Process ForkPoolWorker-1:\n",
      "Traceback (most recent call last):\n",
      "Traceback (most recent call last):\n",
      "Traceback (most recent call last):\n",
      "  File \"/opt/anaconda3/envs/ikigai-ml/lib/python3.5/multiprocessing/process.py\", line 252, in _bootstrap\n",
      "    self.run()\n",
      "  File \"/opt/anaconda3/envs/ikigai-ml/lib/python3.5/multiprocessing/process.py\", line 252, in _bootstrap\n",
      "    self.run()\n",
      "  File \"/opt/anaconda3/envs/ikigai-ml/lib/python3.5/multiprocessing/process.py\", line 252, in _bootstrap\n",
      "    self.run()\n",
      "  File \"/opt/anaconda3/envs/ikigai-ml/lib/python3.5/multiprocessing/process.py\", line 93, in run\n",
      "    self._target(*self._args, **self._kwargs)\n",
      "  File \"/opt/anaconda3/envs/ikigai-ml/lib/python3.5/multiprocessing/process.py\", line 93, in run\n",
      "    self._target(*self._args, **self._kwargs)\n",
      "  File \"/opt/anaconda3/envs/ikigai-ml/lib/python3.5/multiprocessing/process.py\", line 93, in run\n",
      "    self._target(*self._args, **self._kwargs)\n",
      "  File \"/opt/anaconda3/envs/ikigai-ml/lib/python3.5/multiprocessing/pool.py\", line 108, in worker\n",
      "    task = get()\n",
      "  File \"/opt/anaconda3/envs/ikigai-ml/lib/python3.5/multiprocessing/pool.py\", line 108, in worker\n",
      "    task = get()\n",
      "  File \"/opt/anaconda3/envs/ikigai-ml/lib/python3.5/multiprocessing/pool.py\", line 108, in worker\n",
      "    task = get()\n",
      "  File \"/opt/anaconda3/envs/ikigai-ml/lib/python3.5/multiprocessing/queues.py\", line 334, in get\n",
      "    with self._rlock:\n",
      "  File \"/opt/anaconda3/envs/ikigai-ml/lib/python3.5/multiprocessing/queues.py\", line 334, in get\n",
      "    with self._rlock:\n",
      "  File \"/opt/anaconda3/envs/ikigai-ml/lib/python3.5/multiprocessing/queues.py\", line 334, in get\n",
      "    with self._rlock:\n",
      "  File \"/opt/anaconda3/envs/ikigai-ml/lib/python3.5/multiprocessing/synchronize.py\", line 96, in __enter__\n",
      "    return self._semlock.__enter__()\n",
      "  File \"/opt/anaconda3/envs/ikigai-ml/lib/python3.5/multiprocessing/synchronize.py\", line 96, in __enter__\n",
      "    return self._semlock.__enter__()\n",
      "  File \"/opt/anaconda3/envs/ikigai-ml/lib/python3.5/multiprocessing/synchronize.py\", line 96, in __enter__\n",
      "    return self._semlock.__enter__()\n",
      "KeyboardInterrupt\n",
      "KeyboardInterrupt\n",
      "KeyboardInterrupt\n",
      "Traceback (most recent call last):\n",
      "  File \"/opt/anaconda3/envs/ikigai-ml/lib/python3.5/multiprocessing/process.py\", line 252, in _bootstrap\n",
      "    self.run()\n",
      "  File \"/opt/anaconda3/envs/ikigai-ml/lib/python3.5/multiprocessing/process.py\", line 93, in run\n",
      "    self._target(*self._args, **self._kwargs)\n",
      "  File \"/opt/anaconda3/envs/ikigai-ml/lib/python3.5/multiprocessing/pool.py\", line 108, in worker\n",
      "    task = get()\n",
      "  File \"/opt/anaconda3/envs/ikigai-ml/lib/python3.5/multiprocessing/queues.py\", line 335, in get\n",
      "    res = self._reader.recv_bytes()\n",
      "  File \"/opt/anaconda3/envs/ikigai-ml/lib/python3.5/multiprocessing/connection.py\", line 216, in recv_bytes\n",
      "    buf = self._recv_bytes(maxlength)\n",
      "  File \"/opt/anaconda3/envs/ikigai-ml/lib/python3.5/multiprocessing/connection.py\", line 407, in _recv_bytes\n",
      "    buf = self._recv(4)\n",
      "  File \"/opt/anaconda3/envs/ikigai-ml/lib/python3.5/multiprocessing/connection.py\", line 379, in _recv\n",
      "    chunk = read(handle, remaining)\n",
      "KeyboardInterrupt\n"
     ]
    }
   ],
   "source": [
    "pool = mp.Pool(processes=mp.cpu_count())\n",
    "results = [pool.apply_async(asyncFunction, args=(x.copy(), test,)) for test in range(1,11)]\n",
    "optimized_returns = [y_future.update(p.get()) for p in results]"
   ]
  },
  {
   "cell_type": "code",
   "execution_count": 140,
   "metadata": {},
   "outputs": [],
   "source": [
    "import sys"
   ]
  },
  {
   "cell_type": "code",
   "execution_count": 141,
   "metadata": {},
   "outputs": [],
   "source": [
    "def plotFunction(x, minutesAhead, metric):\n",
    "    values = np.zeros(10)\n",
    "    \n",
    "    for i in range(10):\n",
    "        xTrain, xTest, yTrain, yTest = train_test_split(x.drop(y_future[minutesAhead].index[y_future[minutesAhead]['target'] == 0]), y_future[minutesAhead].drop(y_future[minutesAhead].index[y_future[minutesAhead]['target'] == 0]), test_size=0.2)\n",
    "        xTrain = scaler.fit_transform(xTrain)\n",
    "        xTest = scaler.fit_transform(xTest)\n",
    "        new_model = xgb.XGBClassifier(max_depth=2)\n",
    "        new_model.fit(xTrain, yTrain.values.ravel())\n",
    "        y_pred = new_model.predict(xTest)\n",
    "        \n",
    "        if metric == 'f1':\n",
    "            values[i - 1] = f1_score(yTest, y_pred)\n",
    "        elif metric == 'accuracy':\n",
    "            values[i - 1] = balanced_accuracy_score(yTest, y_pred)\n",
    "    return dict({minutesAhead: values.mean()})"
   ]
  },
  {
   "cell_type": "code",
   "execution_count": 142,
   "metadata": {
    "scrolled": true
   },
   "outputs": [
    {
     "name": "stderr",
     "output_type": "stream",
     "text": [
      "Process ForkPoolWorker-8:\n",
      "Process ForkPoolWorker-7:\n",
      "Process ForkPoolWorker-6:\n",
      "Process ForkPoolWorker-5:\n",
      "Traceback (most recent call last):\n",
      "Traceback (most recent call last):\n",
      "Traceback (most recent call last):\n",
      "  File \"/opt/anaconda3/envs/ikigai-ml/lib/python3.5/multiprocessing/process.py\", line 252, in _bootstrap\n",
      "    self.run()\n",
      "  File \"/opt/anaconda3/envs/ikigai-ml/lib/python3.5/multiprocessing/process.py\", line 252, in _bootstrap\n",
      "    self.run()\n",
      "  File \"/opt/anaconda3/envs/ikigai-ml/lib/python3.5/multiprocessing/process.py\", line 252, in _bootstrap\n",
      "    self.run()\n",
      "  File \"/opt/anaconda3/envs/ikigai-ml/lib/python3.5/multiprocessing/process.py\", line 93, in run\n",
      "    self._target(*self._args, **self._kwargs)\n",
      "  File \"/opt/anaconda3/envs/ikigai-ml/lib/python3.5/multiprocessing/process.py\", line 93, in run\n",
      "    self._target(*self._args, **self._kwargs)\n",
      "  File \"/opt/anaconda3/envs/ikigai-ml/lib/python3.5/multiprocessing/process.py\", line 93, in run\n",
      "    self._target(*self._args, **self._kwargs)\n",
      "  File \"/opt/anaconda3/envs/ikigai-ml/lib/python3.5/multiprocessing/pool.py\", line 108, in worker\n",
      "    task = get()\n",
      "  File \"/opt/anaconda3/envs/ikigai-ml/lib/python3.5/multiprocessing/pool.py\", line 108, in worker\n",
      "    task = get()\n",
      "  File \"/opt/anaconda3/envs/ikigai-ml/lib/python3.5/multiprocessing/pool.py\", line 108, in worker\n",
      "    task = get()\n",
      "  File \"/opt/anaconda3/envs/ikigai-ml/lib/python3.5/multiprocessing/queues.py\", line 334, in get\n",
      "    with self._rlock:\n",
      "  File \"/opt/anaconda3/envs/ikigai-ml/lib/python3.5/multiprocessing/queues.py\", line 334, in get\n",
      "    with self._rlock:\n",
      "  File \"/opt/anaconda3/envs/ikigai-ml/lib/python3.5/multiprocessing/queues.py\", line 334, in get\n",
      "    with self._rlock:\n",
      "  File \"/opt/anaconda3/envs/ikigai-ml/lib/python3.5/multiprocessing/synchronize.py\", line 96, in __enter__\n",
      "    return self._semlock.__enter__()\n",
      "  File \"/opt/anaconda3/envs/ikigai-ml/lib/python3.5/multiprocessing/synchronize.py\", line 96, in __enter__\n",
      "    return self._semlock.__enter__()\n",
      "  File \"/opt/anaconda3/envs/ikigai-ml/lib/python3.5/multiprocessing/synchronize.py\", line 96, in __enter__\n",
      "    return self._semlock.__enter__()\n",
      "KeyboardInterrupt\n",
      "KeyboardInterrupt\n",
      "KeyboardInterrupt\n",
      "Traceback (most recent call last):\n",
      "  File \"/opt/anaconda3/envs/ikigai-ml/lib/python3.5/multiprocessing/process.py\", line 252, in _bootstrap\n",
      "    self.run()\n",
      "  File \"/opt/anaconda3/envs/ikigai-ml/lib/python3.5/multiprocessing/process.py\", line 93, in run\n",
      "    self._target(*self._args, **self._kwargs)\n",
      "  File \"/opt/anaconda3/envs/ikigai-ml/lib/python3.5/multiprocessing/pool.py\", line 108, in worker\n",
      "    task = get()\n",
      "  File \"/opt/anaconda3/envs/ikigai-ml/lib/python3.5/multiprocessing/queues.py\", line 335, in get\n",
      "    res = self._reader.recv_bytes()\n",
      "  File \"/opt/anaconda3/envs/ikigai-ml/lib/python3.5/multiprocessing/connection.py\", line 216, in recv_bytes\n",
      "    buf = self._recv_bytes(maxlength)\n",
      "  File \"/opt/anaconda3/envs/ikigai-ml/lib/python3.5/multiprocessing/connection.py\", line 407, in _recv_bytes\n",
      "    buf = self._recv(4)\n",
      "  File \"/opt/anaconda3/envs/ikigai-ml/lib/python3.5/multiprocessing/connection.py\", line 379, in _recv\n",
      "    chunk = read(handle, remaining)\n",
      "KeyboardInterrupt\n"
     ]
    }
   ],
   "source": [
    "plot_values_dict = dict()\n",
    "plot_values = list()\n",
    "\n",
    "pool = mp.Pool(processes=mp.cpu_count())\n",
    "results = [pool.apply_async(plotFunction, args=(x.copy(), test, 'f1')) for test in range(1,11)]\n",
    "optimized_returns = [plot_values_dict.update(p.get()) for p in results]"
   ]
  },
  {
   "cell_type": "code",
   "execution_count": 143,
   "metadata": {},
   "outputs": [],
   "source": [
    "for i in sorted(plot_values_dict.keys()):\n",
    "    plot_values.append(plot_values_dict[i])"
   ]
  },
  {
   "cell_type": "code",
   "execution_count": 144,
   "metadata": {},
   "outputs": [
    {
     "data": {
      "text/plain": [
       "Text(0.5, 1.0, 'f1 score of model vs how far in the future we predict the price movement')"
      ]
     },
     "execution_count": 144,
     "metadata": {},
     "output_type": "execute_result"
    },
    {
     "data": {
      "image/png": "[encoded data removed]",
      "text/plain": [
       "<Figure size 432x288 with 1 Axes>"
      ]
     },
     "metadata": {
      "needs_background": "light"
     },
     "output_type": "display_data"
    }
   ],
   "source": [
    "plt.plot([x for x in range(1,11)],plot_values)\n",
    "plt.xlabel('minutes in future')\n",
    "plt.ylabel('f1 score')\n",
    "plt.title('f1 score of model vs how far in the future we predict the price movement')"
   ]
  },
  {
   "cell_type": "code",
   "execution_count": 145,
   "metadata": {
    "scrolled": true
   },
   "outputs": [
    {
     "name": "stderr",
     "output_type": "stream",
     "text": [
      "Process ForkPoolWorker-9:\n",
      "Process ForkPoolWorker-11:\n",
      "Process ForkPoolWorker-10:\n",
      "Process ForkPoolWorker-12:\n",
      "Traceback (most recent call last):\n",
      "Traceback (most recent call last):\n",
      "Traceback (most recent call last):\n",
      "  File \"/opt/anaconda3/envs/ikigai-ml/lib/python3.5/multiprocessing/process.py\", line 252, in _bootstrap\n",
      "    self.run()\n",
      "  File \"/opt/anaconda3/envs/ikigai-ml/lib/python3.5/multiprocessing/process.py\", line 252, in _bootstrap\n",
      "    self.run()\n",
      "  File \"/opt/anaconda3/envs/ikigai-ml/lib/python3.5/multiprocessing/process.py\", line 252, in _bootstrap\n",
      "    self.run()\n",
      "  File \"/opt/anaconda3/envs/ikigai-ml/lib/python3.5/multiprocessing/process.py\", line 93, in run\n",
      "    self._target(*self._args, **self._kwargs)\n",
      "  File \"/opt/anaconda3/envs/ikigai-ml/lib/python3.5/multiprocessing/process.py\", line 93, in run\n",
      "    self._target(*self._args, **self._kwargs)\n",
      "  File \"/opt/anaconda3/envs/ikigai-ml/lib/python3.5/multiprocessing/process.py\", line 93, in run\n",
      "    self._target(*self._args, **self._kwargs)\n",
      "  File \"/opt/anaconda3/envs/ikigai-ml/lib/python3.5/multiprocessing/pool.py\", line 108, in worker\n",
      "    task = get()\n",
      "  File \"/opt/anaconda3/envs/ikigai-ml/lib/python3.5/multiprocessing/pool.py\", line 108, in worker\n",
      "    task = get()\n",
      "  File \"/opt/anaconda3/envs/ikigai-ml/lib/python3.5/multiprocessing/pool.py\", line 108, in worker\n",
      "    task = get()\n",
      "  File \"/opt/anaconda3/envs/ikigai-ml/lib/python3.5/multiprocessing/queues.py\", line 334, in get\n",
      "    with self._rlock:\n",
      "  File \"/opt/anaconda3/envs/ikigai-ml/lib/python3.5/multiprocessing/queues.py\", line 334, in get\n",
      "    with self._rlock:\n",
      "  File \"/opt/anaconda3/envs/ikigai-ml/lib/python3.5/multiprocessing/queues.py\", line 334, in get\n",
      "    with self._rlock:\n",
      "  File \"/opt/anaconda3/envs/ikigai-ml/lib/python3.5/multiprocessing/synchronize.py\", line 96, in __enter__\n",
      "    return self._semlock.__enter__()\n",
      "  File \"/opt/anaconda3/envs/ikigai-ml/lib/python3.5/multiprocessing/synchronize.py\", line 96, in __enter__\n",
      "    return self._semlock.__enter__()\n",
      "  File \"/opt/anaconda3/envs/ikigai-ml/lib/python3.5/multiprocessing/synchronize.py\", line 96, in __enter__\n",
      "    return self._semlock.__enter__()\n",
      "KeyboardInterrupt\n",
      "KeyboardInterrupt\n",
      "KeyboardInterrupt\n",
      "Traceback (most recent call last):\n",
      "  File \"/opt/anaconda3/envs/ikigai-ml/lib/python3.5/multiprocessing/process.py\", line 252, in _bootstrap\n",
      "    self.run()\n",
      "  File \"/opt/anaconda3/envs/ikigai-ml/lib/python3.5/multiprocessing/process.py\", line 93, in run\n",
      "    self._target(*self._args, **self._kwargs)\n",
      "  File \"/opt/anaconda3/envs/ikigai-ml/lib/python3.5/multiprocessing/pool.py\", line 108, in worker\n",
      "    task = get()\n",
      "  File \"/opt/anaconda3/envs/ikigai-ml/lib/python3.5/multiprocessing/queues.py\", line 335, in get\n",
      "    res = self._reader.recv_bytes()\n",
      "  File \"/opt/anaconda3/envs/ikigai-ml/lib/python3.5/multiprocessing/connection.py\", line 216, in recv_bytes\n",
      "    buf = self._recv_bytes(maxlength)\n",
      "  File \"/opt/anaconda3/envs/ikigai-ml/lib/python3.5/multiprocessing/connection.py\", line 407, in _recv_bytes\n",
      "    buf = self._recv(4)\n",
      "  File \"/opt/anaconda3/envs/ikigai-ml/lib/python3.5/multiprocessing/connection.py\", line 379, in _recv\n",
      "    chunk = read(handle, remaining)\n",
      "KeyboardInterrupt\n"
     ]
    }
   ],
   "source": [
    "accuracy_values_dict = dict()\n",
    "accuracy_values = list()\n",
    "\n",
    "pool = mp.Pool(processes=mp.cpu_count())\n",
    "results = [pool.apply_async(plotFunction, args=(x.copy(), test, 'accuracy')) for test in range(1,11)]\n",
    "optimized_returns = [accuracy_values_dict.update(p.get()) for p in results]"
   ]
  },
  {
   "cell_type": "code",
   "execution_count": 146,
   "metadata": {},
   "outputs": [],
   "source": [
    "for i in sorted(accuracy_values_dict.keys()):\n",
    "    accuracy_values.append(accuracy_values_dict[i])"
   ]
  },
  {
   "cell_type": "code",
   "execution_count": 147,
   "metadata": {},
   "outputs": [
    {
     "data": {
      "text/plain": [
       "(0.45, 0.6)"
      ]
     },
     "execution_count": 147,
     "metadata": {},
     "output_type": "execute_result"
    },
    {
     "data": {
      "image/png": "[encoded data removed]",
      "text/plain": [
       "<Figure size 432x288 with 1 Axes>"
      ]
     },
     "metadata": {
      "needs_background": "light"
     },
     "output_type": "display_data"
    }
   ],
   "source": [
    "# need to look for changes above 0.15% per trade to make money - look into that\n",
    "plt.plot([x for x in range(1,11)],accuracy_values)\n",
    "plt.xlabel('minutes in future')\n",
    "plt.ylabel('accuracy score')\n",
    "plt.title('accuracy score of model vs how far in the future we predict the price movement')\n",
    "plt.hlines(0.5, 1, 10, label='benchmark', linestyles='--')\n",
    "plt.ylim(0.45, 0.60)"
   ]
  },
  {
   "cell_type": "markdown",
   "metadata": {},
   "source": [
    "This makes more sense. The farther we look ahead in the future, the lower our accuracy goes. For some reason the f1 score goes up (need to look up the difference between f1 and accuracy because I thought f1 just made sure to remove class imbalance when looking at a model's performance)"
   ]
  },
  {
   "cell_type": "markdown",
   "metadata": {},
   "source": [
    "# Add Technical Indicators as Features"
   ]
  },
  {
   "cell_type": "code",
   "execution_count": 148,
   "metadata": {},
   "outputs": [],
   "source": [
    "import talib"
   ]
  },
  {
   "cell_type": "code",
   "execution_count": 149,
   "metadata": {},
   "outputs": [
    {
     "data": {
      "text/plain": [
       "array([           nan,            nan, 10103.33333333, ...,\n",
       "        9603.80095119,  9603.4004756 ,  9603.2002378 ])"
      ]
     },
     "execution_count": 149,
     "metadata": {},
     "output_type": "execute_result"
    }
   ],
   "source": [
    "talib.EMA(np.array(x.close), timeperiod=3)"
   ]
  },
  {
   "cell_type": "code",
   "execution_count": 150,
   "metadata": {},
   "outputs": [
    {
     "data": {
      "text/plain": [
       "array([          nan,           nan,           nan, ..., 9602.66001127,\n",
       "       9602.77270295, 9602.90775958])"
      ]
     },
     "execution_count": 150,
     "metadata": {},
     "output_type": "execute_result"
    }
   ],
   "source": [
    "talib.TEMA(np.array(x.close), timeperiod=3)"
   ]
  },
  {
   "cell_type": "code",
   "execution_count": 151,
   "metadata": {},
   "outputs": [
    {
     "data": {
      "text/plain": [
       "array([       nan,        nan,        nan, ..., 18.7737369, 18.7737369,\n",
       "       18.7737369])"
      ]
     },
     "execution_count": 151,
     "metadata": {},
     "output_type": "execute_result"
    }
   ],
   "source": [
    "talib.RSI(np.array(x.close), timeperiod=3)"
   ]
  },
  {
   "cell_type": "code",
   "execution_count": 152,
   "metadata": {},
   "outputs": [
    {
     "data": {
      "text/plain": [
       "(array([nan, nan, nan, ...,  0.,  0.,  0.]),\n",
       " array([            nan,             nan,             nan, ...,\n",
       "        -1.65793305e-14, -1.65793305e-14, -1.65793305e-14]))"
      ]
     },
     "execution_count": 152,
     "metadata": {},
     "output_type": "execute_result"
    }
   ],
   "source": [
    "talib.STOCHRSI(np.array(x.close), timeperiod=3)"
   ]
  },
  {
   "cell_type": "code",
   "execution_count": 153,
   "metadata": {},
   "outputs": [],
   "source": [
    "macd, two, three = talib.MACD(np.array(x.close), fastperiod=12, slowperiod=26)"
   ]
  },
  {
   "cell_type": "code",
   "execution_count": 154,
   "metadata": {},
   "outputs": [
    {
     "data": {
      "text/plain": [
       "-14.539301268494455"
      ]
     },
     "execution_count": 154,
     "metadata": {},
     "output_type": "execute_result"
    }
   ],
   "source": [
    "macd[33]"
   ]
  },
  {
   "cell_type": "code",
   "execution_count": 155,
   "metadata": {},
   "outputs": [
    {
     "data": {
      "text/plain": [
       "array([         nan,          nan,          nan, ..., -53.68060042,\n",
       "       -35.78706695,   0.        ])"
      ]
     },
     "execution_count": 155,
     "metadata": {},
     "output_type": "execute_result"
    }
   ],
   "source": [
    "talib.ROC(talib.RSI(np.array(x.close), timeperiod=3), timeperiod=3)"
   ]
  },
  {
   "cell_type": "code",
   "execution_count": 156,
   "metadata": {},
   "outputs": [
    {
     "data": {
      "text/plain": [
       "array([        nan,         nan,         nan, ..., -0.03754039,\n",
       "       -0.02918249, -0.01459368])"
      ]
     },
     "execution_count": 156,
     "metadata": {},
     "output_type": "execute_result"
    }
   ],
   "source": [
    "talib.ROC(talib.EMA(np.array(x.close), timeperiod=3), timeperiod=3)"
   ]
  },
  {
   "cell_type": "code",
   "execution_count": 157,
   "metadata": {},
   "outputs": [
    {
     "data": {
      "text/plain": [
       "array([        nan,         nan,         nan, ..., -0.04145072,\n",
       "       -0.02276989, -0.00043684])"
      ]
     },
     "execution_count": 157,
     "metadata": {},
     "output_type": "execute_result"
    }
   ],
   "source": [
    "talib.ROC(talib.TEMA(np.array(x.close), timeperiod=3), timeperiod=3)"
   ]
  },
  {
   "cell_type": "code",
   "execution_count": 158,
   "metadata": {},
   "outputs": [],
   "source": [
    "taX = x.copy()"
   ]
  },
  {
   "cell_type": "code",
   "execution_count": 159,
   "metadata": {},
   "outputs": [
    {
     "data": {
      "text/html": [
       "<div>\n",
       "<style scoped>\n",
       "    .dataframe tbody tr th:only-of-type {\n",
       "        vertical-align: middle;\n",
       "    }\n",
       "\n",
       "    .dataframe tbody tr th {\n",
       "        vertical-align: top;\n",
       "    }\n",
       "\n",
       "    .dataframe thead th {\n",
       "        text-align: right;\n",
       "    }\n",
       "</style>\n",
       "<table border=\"1\" class=\"dataframe\">\n",
       "  <thead>\n",
       "    <tr style=\"text-align: right;\">\n",
       "      <th></th>\n",
       "      <th>open</th>\n",
       "      <th>close</th>\n",
       "      <th>high</th>\n",
       "      <th>low</th>\n",
       "      <th>volume</th>\n",
       "      <th>buy_volume</th>\n",
       "      <th>sell_volume</th>\n",
       "      <th>max_buy</th>\n",
       "      <th>max_sell</th>\n",
       "      <th>sell_50</th>\n",
       "      <th>...</th>\n",
       "      <th>buy_50</th>\n",
       "      <th>buy_100</th>\n",
       "      <th>buy_500</th>\n",
       "      <th>buy_1000</th>\n",
       "      <th>buy_10000</th>\n",
       "      <th>buy_100000</th>\n",
       "      <th>buy_200000</th>\n",
       "      <th>buy_count</th>\n",
       "      <th>sell_count</th>\n",
       "      <th>avg_volume</th>\n",
       "    </tr>\n",
       "    <tr>\n",
       "      <th>timestamp</th>\n",
       "      <th></th>\n",
       "      <th></th>\n",
       "      <th></th>\n",
       "      <th></th>\n",
       "      <th></th>\n",
       "      <th></th>\n",
       "      <th></th>\n",
       "      <th></th>\n",
       "      <th></th>\n",
       "      <th></th>\n",
       "      <th></th>\n",
       "      <th></th>\n",
       "      <th></th>\n",
       "      <th></th>\n",
       "      <th></th>\n",
       "      <th></th>\n",
       "      <th></th>\n",
       "      <th></th>\n",
       "      <th></th>\n",
       "      <th></th>\n",
       "      <th></th>\n",
       "    </tr>\n",
       "  </thead>\n",
       "  <tbody>\n",
       "    <tr>\n",
       "      <th>2019-08-01 00:00:00</th>\n",
       "      <td>10088.5</td>\n",
       "      <td>10108.0</td>\n",
       "      <td>10108.5</td>\n",
       "      <td>10088.5</td>\n",
       "      <td>5189557.0</td>\n",
       "      <td>3859798.0</td>\n",
       "      <td>1329759.0</td>\n",
       "      <td>466922.0</td>\n",
       "      <td>198900.0</td>\n",
       "      <td>201.0</td>\n",
       "      <td>...</td>\n",
       "      <td>748.0</td>\n",
       "      <td>622.0</td>\n",
       "      <td>380.0</td>\n",
       "      <td>296.0</td>\n",
       "      <td>85.0</td>\n",
       "      <td>2.0</td>\n",
       "      <td>1.0</td>\n",
       "      <td>1053.0</td>\n",
       "      <td>297.0</td>\n",
       "      <td>3844.116296</td>\n",
       "    </tr>\n",
       "    <tr>\n",
       "      <th>2019-08-01 00:01:00</th>\n",
       "      <td>10107.5</td>\n",
       "      <td>10109.0</td>\n",
       "      <td>10120.0</td>\n",
       "      <td>10100.0</td>\n",
       "      <td>5792264.0</td>\n",
       "      <td>4627428.0</td>\n",
       "      <td>1164836.0</td>\n",
       "      <td>250962.0</td>\n",
       "      <td>116009.0</td>\n",
       "      <td>349.0</td>\n",
       "      <td>...</td>\n",
       "      <td>890.0</td>\n",
       "      <td>778.0</td>\n",
       "      <td>471.0</td>\n",
       "      <td>357.0</td>\n",
       "      <td>99.0</td>\n",
       "      <td>6.0</td>\n",
       "      <td>1.0</td>\n",
       "      <td>1166.0</td>\n",
       "      <td>512.0</td>\n",
       "      <td>3451.885578</td>\n",
       "    </tr>\n",
       "    <tr>\n",
       "      <th>2019-08-01 00:02:00</th>\n",
       "      <td>10108.5</td>\n",
       "      <td>10093.0</td>\n",
       "      <td>10109.0</td>\n",
       "      <td>10088.5</td>\n",
       "      <td>4974185.0</td>\n",
       "      <td>1213736.0</td>\n",
       "      <td>3760449.0</td>\n",
       "      <td>100000.0</td>\n",
       "      <td>218000.0</td>\n",
       "      <td>489.0</td>\n",
       "      <td>...</td>\n",
       "      <td>217.0</td>\n",
       "      <td>194.0</td>\n",
       "      <td>152.0</td>\n",
       "      <td>127.0</td>\n",
       "      <td>32.0</td>\n",
       "      <td>0.0</td>\n",
       "      <td>0.0</td>\n",
       "      <td>297.0</td>\n",
       "      <td>707.0</td>\n",
       "      <td>4954.367530</td>\n",
       "    </tr>\n",
       "    <tr>\n",
       "      <th>2019-08-01 00:03:00</th>\n",
       "      <td>10093.0</td>\n",
       "      <td>10111.5</td>\n",
       "      <td>10111.5</td>\n",
       "      <td>10093.0</td>\n",
       "      <td>1863787.0</td>\n",
       "      <td>1436924.0</td>\n",
       "      <td>426863.0</td>\n",
       "      <td>100000.0</td>\n",
       "      <td>100000.0</td>\n",
       "      <td>79.0</td>\n",
       "      <td>...</td>\n",
       "      <td>346.0</td>\n",
       "      <td>298.0</td>\n",
       "      <td>188.0</td>\n",
       "      <td>146.0</td>\n",
       "      <td>36.0</td>\n",
       "      <td>0.0</td>\n",
       "      <td>0.0</td>\n",
       "      <td>559.0</td>\n",
       "      <td>88.0</td>\n",
       "      <td>2880.659969</td>\n",
       "    </tr>\n",
       "    <tr>\n",
       "      <th>2019-08-01 00:04:00</th>\n",
       "      <td>10111.0</td>\n",
       "      <td>10106.0</td>\n",
       "      <td>10120.5</td>\n",
       "      <td>10105.0</td>\n",
       "      <td>3785526.0</td>\n",
       "      <td>2517687.0</td>\n",
       "      <td>1267839.0</td>\n",
       "      <td>212011.0</td>\n",
       "      <td>187830.0</td>\n",
       "      <td>303.0</td>\n",
       "      <td>...</td>\n",
       "      <td>393.0</td>\n",
       "      <td>334.0</td>\n",
       "      <td>211.0</td>\n",
       "      <td>164.0</td>\n",
       "      <td>55.0</td>\n",
       "      <td>4.0</td>\n",
       "      <td>1.0</td>\n",
       "      <td>579.0</td>\n",
       "      <td>450.0</td>\n",
       "      <td>3678.839650</td>\n",
       "    </tr>\n",
       "  </tbody>\n",
       "</table>\n",
       "<p>5 rows × 26 columns</p>\n",
       "</div>"
      ],
      "text/plain": [
       "                        open    close     high      low     volume  \\\n",
       "timestamp                                                            \n",
       "2019-08-01 00:00:00  10088.5  10108.0  10108.5  10088.5  5189557.0   \n",
       "2019-08-01 00:01:00  10107.5  10109.0  10120.0  10100.0  5792264.0   \n",
       "2019-08-01 00:02:00  10108.5  10093.0  10109.0  10088.5  4974185.0   \n",
       "2019-08-01 00:03:00  10093.0  10111.5  10111.5  10093.0  1863787.0   \n",
       "2019-08-01 00:04:00  10111.0  10106.0  10120.5  10105.0  3785526.0   \n",
       "\n",
       "                     buy_volume  sell_volume   max_buy  max_sell  sell_50  \\\n",
       "timestamp                                                                   \n",
       "2019-08-01 00:00:00   3859798.0    1329759.0  466922.0  198900.0    201.0   \n",
       "2019-08-01 00:01:00   4627428.0    1164836.0  250962.0  116009.0    349.0   \n",
       "2019-08-01 00:02:00   1213736.0    3760449.0  100000.0  218000.0    489.0   \n",
       "2019-08-01 00:03:00   1436924.0     426863.0  100000.0  100000.0     79.0   \n",
       "2019-08-01 00:04:00   2517687.0    1267839.0  212011.0  187830.0    303.0   \n",
       "\n",
       "                        ...       buy_50  buy_100  buy_500  buy_1000  \\\n",
       "timestamp               ...                                            \n",
       "2019-08-01 00:00:00     ...        748.0    622.0    380.0     296.0   \n",
       "2019-08-01 00:01:00     ...        890.0    778.0    471.0     357.0   \n",
       "2019-08-01 00:02:00     ...        217.0    194.0    152.0     127.0   \n",
       "2019-08-01 00:03:00     ...        346.0    298.0    188.0     146.0   \n",
       "2019-08-01 00:04:00     ...        393.0    334.0    211.0     164.0   \n",
       "\n",
       "                     buy_10000  buy_100000  buy_200000  buy_count  sell_count  \\\n",
       "timestamp                                                                       \n",
       "2019-08-01 00:00:00       85.0         2.0         1.0     1053.0       297.0   \n",
       "2019-08-01 00:01:00       99.0         6.0         1.0     1166.0       512.0   \n",
       "2019-08-01 00:02:00       32.0         0.0         0.0      297.0       707.0   \n",
       "2019-08-01 00:03:00       36.0         0.0         0.0      559.0        88.0   \n",
       "2019-08-01 00:04:00       55.0         4.0         1.0      579.0       450.0   \n",
       "\n",
       "                      avg_volume  \n",
       "timestamp                         \n",
       "2019-08-01 00:00:00  3844.116296  \n",
       "2019-08-01 00:01:00  3451.885578  \n",
       "2019-08-01 00:02:00  4954.367530  \n",
       "2019-08-01 00:03:00  2880.659969  \n",
       "2019-08-01 00:04:00  3678.839650  \n",
       "\n",
       "[5 rows x 26 columns]"
      ]
     },
     "execution_count": 159,
     "metadata": {},
     "output_type": "execute_result"
    }
   ],
   "source": [
    "taX.head()"
   ]
  },
  {
   "cell_type": "code",
   "execution_count": 160,
   "metadata": {},
   "outputs": [],
   "source": [
    "ema = pd.DataFrame(talib.EMA(np.array(x.close), timeperiod=3))\n",
    "tema = pd.DataFrame(talib.TEMA(np.array(x.close), timeperiod=3))\n",
    "rsi = pd.DataFrame(talib.RSI(np.array(x.close), timeperiod=3))\n",
    "rocrsi = pd.DataFrame(talib.ROC(talib.RSI(np.array(x.close), timeperiod=3), timeperiod=3))\n",
    "rocema = pd.DataFrame(talib.ROC(talib.EMA(np.array(x.close), timeperiod=3), timeperiod=3))\n",
    "roctema = pd.DataFrame(talib.ROC(talib.TEMA(np.array(x.close), timeperiod=3), timeperiod=3))"
   ]
  },
  {
   "cell_type": "code",
   "execution_count": 161,
   "metadata": {},
   "outputs": [],
   "source": [
    "taX['ema'] = ema.shift(periods=1).values\n",
    "taX['tema'] = tema.shift(periods=1).values\n",
    "taX['rsi'] = rsi.shift(periods=1).values\n",
    "taX['rocrsi'] = rocrsi.shift(periods=1).values\n",
    "taX['rocema'] = rocema.shift(periods=1).values\n",
    "taX['roctema'] = roctema.shift(periods=1).values\n",
    "taX['macd'] = pd.DataFrame(macd).shift(periods=1).values"
   ]
  },
  {
   "cell_type": "code",
   "execution_count": 162,
   "metadata": {},
   "outputs": [
    {
     "data": {
      "text/html": [
       "<div>\n",
       "<style scoped>\n",
       "    .dataframe tbody tr th:only-of-type {\n",
       "        vertical-align: middle;\n",
       "    }\n",
       "\n",
       "    .dataframe tbody tr th {\n",
       "        vertical-align: top;\n",
       "    }\n",
       "\n",
       "    .dataframe thead th {\n",
       "        text-align: right;\n",
       "    }\n",
       "</style>\n",
       "<table border=\"1\" class=\"dataframe\">\n",
       "  <thead>\n",
       "    <tr style=\"text-align: right;\">\n",
       "      <th></th>\n",
       "      <th>open</th>\n",
       "      <th>close</th>\n",
       "      <th>high</th>\n",
       "      <th>low</th>\n",
       "      <th>volume</th>\n",
       "      <th>buy_volume</th>\n",
       "      <th>sell_volume</th>\n",
       "      <th>max_buy</th>\n",
       "      <th>max_sell</th>\n",
       "      <th>sell_50</th>\n",
       "      <th>...</th>\n",
       "      <th>buy_count</th>\n",
       "      <th>sell_count</th>\n",
       "      <th>avg_volume</th>\n",
       "      <th>ema</th>\n",
       "      <th>tema</th>\n",
       "      <th>rsi</th>\n",
       "      <th>rocrsi</th>\n",
       "      <th>rocema</th>\n",
       "      <th>roctema</th>\n",
       "      <th>macd</th>\n",
       "    </tr>\n",
       "    <tr>\n",
       "      <th>timestamp</th>\n",
       "      <th></th>\n",
       "      <th></th>\n",
       "      <th></th>\n",
       "      <th></th>\n",
       "      <th></th>\n",
       "      <th></th>\n",
       "      <th></th>\n",
       "      <th></th>\n",
       "      <th></th>\n",
       "      <th></th>\n",
       "      <th></th>\n",
       "      <th></th>\n",
       "      <th></th>\n",
       "      <th></th>\n",
       "      <th></th>\n",
       "      <th></th>\n",
       "      <th></th>\n",
       "      <th></th>\n",
       "      <th></th>\n",
       "      <th></th>\n",
       "      <th></th>\n",
       "    </tr>\n",
       "  </thead>\n",
       "  <tbody>\n",
       "    <tr>\n",
       "      <th>2019-08-31 23:54:00</th>\n",
       "      <td>9606.0</td>\n",
       "      <td>9605.0</td>\n",
       "      <td>9606.5</td>\n",
       "      <td>9605.0</td>\n",
       "      <td>223480.0</td>\n",
       "      <td>3021.0</td>\n",
       "      <td>220459.0</td>\n",
       "      <td>3000.0</td>\n",
       "      <td>80000.0</td>\n",
       "      <td>67.0</td>\n",
       "      <td>...</td>\n",
       "      <td>22.0</td>\n",
       "      <td>129.0</td>\n",
       "      <td>1480.000000</td>\n",
       "      <td>9607.407610</td>\n",
       "      <td>9606.642034</td>\n",
       "      <td>40.531045</td>\n",
       "      <td>-57.230747</td>\n",
       "      <td>0.001527</td>\n",
       "      <td>-0.038778</td>\n",
       "      <td>-1.881639</td>\n",
       "    </tr>\n",
       "    <tr>\n",
       "      <th>2019-08-31 23:55:00</th>\n",
       "      <td>9605.5</td>\n",
       "      <td>9603.0</td>\n",
       "      <td>9605.5</td>\n",
       "      <td>9602.5</td>\n",
       "      <td>444635.0</td>\n",
       "      <td>1329.0</td>\n",
       "      <td>443306.0</td>\n",
       "      <td>1000.0</td>\n",
       "      <td>137727.0</td>\n",
       "      <td>133.0</td>\n",
       "      <td>...</td>\n",
       "      <td>69.0</td>\n",
       "      <td>425.0</td>\n",
       "      <td>900.070850</td>\n",
       "      <td>9606.203805</td>\n",
       "      <td>9604.959742</td>\n",
       "      <td>29.236691</td>\n",
       "      <td>-69.148799</td>\n",
       "      <td>-0.030457</td>\n",
       "      <td>-0.068788</td>\n",
       "      <td>-1.893203</td>\n",
       "    </tr>\n",
       "    <tr>\n",
       "      <th>2019-08-31 23:56:00</th>\n",
       "      <td>9602.5</td>\n",
       "      <td>9603.0</td>\n",
       "      <td>9603.0</td>\n",
       "      <td>9602.5</td>\n",
       "      <td>87349.0</td>\n",
       "      <td>31054.0</td>\n",
       "      <td>56295.0</td>\n",
       "      <td>10000.0</td>\n",
       "      <td>25000.0</td>\n",
       "      <td>14.0</td>\n",
       "      <td>...</td>\n",
       "      <td>76.0</td>\n",
       "      <td>19.0</td>\n",
       "      <td>919.463158</td>\n",
       "      <td>9604.601902</td>\n",
       "      <td>9602.949709</td>\n",
       "      <td>18.773737</td>\n",
       "      <td>-61.633282</td>\n",
       "      <td>-0.038647</td>\n",
       "      <td>-0.057067</td>\n",
       "      <td>-2.040233</td>\n",
       "    </tr>\n",
       "    <tr>\n",
       "      <th>2019-08-31 23:57:00</th>\n",
       "      <td>9603.0</td>\n",
       "      <td>9603.0</td>\n",
       "      <td>9603.0</td>\n",
       "      <td>9602.5</td>\n",
       "      <td>363048.0</td>\n",
       "      <td>263903.0</td>\n",
       "      <td>99145.0</td>\n",
       "      <td>68902.0</td>\n",
       "      <td>36216.0</td>\n",
       "      <td>25.0</td>\n",
       "      <td>...</td>\n",
       "      <td>116.0</td>\n",
       "      <td>40.0</td>\n",
       "      <td>2327.230769</td>\n",
       "      <td>9603.800951</td>\n",
       "      <td>9602.660011</td>\n",
       "      <td>18.773737</td>\n",
       "      <td>-53.680600</td>\n",
       "      <td>-0.037540</td>\n",
       "      <td>-0.041451</td>\n",
       "      <td>-2.132176</td>\n",
       "    </tr>\n",
       "    <tr>\n",
       "      <th>2019-08-31 23:58:00</th>\n",
       "      <td>9602.5</td>\n",
       "      <td>9603.0</td>\n",
       "      <td>9603.0</td>\n",
       "      <td>9602.5</td>\n",
       "      <td>151053.0</td>\n",
       "      <td>97864.0</td>\n",
       "      <td>53189.0</td>\n",
       "      <td>35360.0</td>\n",
       "      <td>30000.0</td>\n",
       "      <td>4.0</td>\n",
       "      <td>...</td>\n",
       "      <td>70.0</td>\n",
       "      <td>9.0</td>\n",
       "      <td>1912.063291</td>\n",
       "      <td>9603.400476</td>\n",
       "      <td>9602.772703</td>\n",
       "      <td>18.773737</td>\n",
       "      <td>-35.787067</td>\n",
       "      <td>-0.029182</td>\n",
       "      <td>-0.022770</td>\n",
       "      <td>-2.179913</td>\n",
       "    </tr>\n",
       "  </tbody>\n",
       "</table>\n",
       "<p>5 rows × 33 columns</p>\n",
       "</div>"
      ],
      "text/plain": [
       "                       open   close    high     low    volume  buy_volume  \\\n",
       "timestamp                                                                   \n",
       "2019-08-31 23:54:00  9606.0  9605.0  9606.5  9605.0  223480.0      3021.0   \n",
       "2019-08-31 23:55:00  9605.5  9603.0  9605.5  9602.5  444635.0      1329.0   \n",
       "2019-08-31 23:56:00  9602.5  9603.0  9603.0  9602.5   87349.0     31054.0   \n",
       "2019-08-31 23:57:00  9603.0  9603.0  9603.0  9602.5  363048.0    263903.0   \n",
       "2019-08-31 23:58:00  9602.5  9603.0  9603.0  9602.5  151053.0     97864.0   \n",
       "\n",
       "                     sell_volume  max_buy  max_sell  sell_50    ...     \\\n",
       "timestamp                                                       ...      \n",
       "2019-08-31 23:54:00     220459.0   3000.0   80000.0     67.0    ...      \n",
       "2019-08-31 23:55:00     443306.0   1000.0  137727.0    133.0    ...      \n",
       "2019-08-31 23:56:00      56295.0  10000.0   25000.0     14.0    ...      \n",
       "2019-08-31 23:57:00      99145.0  68902.0   36216.0     25.0    ...      \n",
       "2019-08-31 23:58:00      53189.0  35360.0   30000.0      4.0    ...      \n",
       "\n",
       "                     buy_count  sell_count   avg_volume          ema  \\\n",
       "timestamp                                                              \n",
       "2019-08-31 23:54:00       22.0       129.0  1480.000000  9607.407610   \n",
       "2019-08-31 23:55:00       69.0       425.0   900.070850  9606.203805   \n",
       "2019-08-31 23:56:00       76.0        19.0   919.463158  9604.601902   \n",
       "2019-08-31 23:57:00      116.0        40.0  2327.230769  9603.800951   \n",
       "2019-08-31 23:58:00       70.0         9.0  1912.063291  9603.400476   \n",
       "\n",
       "                            tema        rsi     rocrsi    rocema   roctema  \\\n",
       "timestamp                                                                    \n",
       "2019-08-31 23:54:00  9606.642034  40.531045 -57.230747  0.001527 -0.038778   \n",
       "2019-08-31 23:55:00  9604.959742  29.236691 -69.148799 -0.030457 -0.068788   \n",
       "2019-08-31 23:56:00  9602.949709  18.773737 -61.633282 -0.038647 -0.057067   \n",
       "2019-08-31 23:57:00  9602.660011  18.773737 -53.680600 -0.037540 -0.041451   \n",
       "2019-08-31 23:58:00  9602.772703  18.773737 -35.787067 -0.029182 -0.022770   \n",
       "\n",
       "                         macd  \n",
       "timestamp                      \n",
       "2019-08-31 23:54:00 -1.881639  \n",
       "2019-08-31 23:55:00 -1.893203  \n",
       "2019-08-31 23:56:00 -2.040233  \n",
       "2019-08-31 23:57:00 -2.132176  \n",
       "2019-08-31 23:58:00 -2.179913  \n",
       "\n",
       "[5 rows x 33 columns]"
      ]
     },
     "execution_count": 162,
     "metadata": {},
     "output_type": "execute_result"
    }
   ],
   "source": [
    "taX.tail()"
   ]
  },
  {
   "cell_type": "code",
   "execution_count": 163,
   "metadata": {},
   "outputs": [
    {
     "name": "stdout",
     "output_type": "stream",
     "text": [
      "<class 'pandas.core.frame.DataFrame'>\n",
      "DatetimeIndex: 44639 entries, 2019-08-01 00:00:00 to 2019-08-31 23:58:00\n",
      "Data columns (total 33 columns):\n",
      "open           44639 non-null float64\n",
      "close          44639 non-null float64\n",
      "high           44639 non-null float64\n",
      "low            44639 non-null float64\n",
      "volume         44639 non-null float64\n",
      "buy_volume     44639 non-null float64\n",
      "sell_volume    44639 non-null float64\n",
      "max_buy        44639 non-null float64\n",
      "max_sell       44639 non-null float64\n",
      "sell_50        44639 non-null float64\n",
      "sell_100       44639 non-null float64\n",
      "sell_500       44639 non-null float64\n",
      "sell_1000      44639 non-null float64\n",
      "sell_10000     44639 non-null float64\n",
      "sell_100000    44639 non-null float64\n",
      "sell_200000    44639 non-null float64\n",
      "buy_50         44639 non-null float64\n",
      "buy_100        44639 non-null float64\n",
      "buy_500        44639 non-null float64\n",
      "buy_1000       44639 non-null float64\n",
      "buy_10000      44639 non-null float64\n",
      "buy_100000     44639 non-null float64\n",
      "buy_200000     44639 non-null float64\n",
      "buy_count      44639 non-null float64\n",
      "sell_count     44639 non-null float64\n",
      "avg_volume     44639 non-null float64\n",
      "ema            44636 non-null float64\n",
      "tema           44632 non-null float64\n",
      "rsi            44635 non-null float64\n",
      "rocrsi         44632 non-null float64\n",
      "rocema         44633 non-null float64\n",
      "roctema        44629 non-null float64\n",
      "macd           44605 non-null float64\n",
      "dtypes: float64(33)\n",
      "memory usage: 11.6 MB\n"
     ]
    }
   ],
   "source": [
    "taX.info()"
   ]
  },
  {
   "cell_type": "code",
   "execution_count": 164,
   "metadata": {},
   "outputs": [],
   "source": [
    "taX.dropna(axis='rows',inplace=True)"
   ]
  },
  {
   "cell_type": "code",
   "execution_count": 165,
   "metadata": {},
   "outputs": [],
   "source": [
    "y = y.loc[taX.index]"
   ]
  },
  {
   "cell_type": "code",
   "execution_count": 166,
   "metadata": {},
   "outputs": [],
   "source": [
    "taX.sort_index(inplace=True)\n",
    "y.sort_index(inplace=True)"
   ]
  },
  {
   "cell_type": "code",
   "execution_count": 167,
   "metadata": {},
   "outputs": [],
   "source": [
    "xTrain, xTest, yTrain, yTest = train_test_split(taX, y, test_size=0.2)"
   ]
  },
  {
   "cell_type": "code",
   "execution_count": 168,
   "metadata": {},
   "outputs": [],
   "source": [
    "scaler = StandardScaler()\n",
    "\n",
    "xTrain = scaler.fit_transform(xTrain)\n",
    "xTest = scaler.fit_transform(xTest)"
   ]
  },
  {
   "cell_type": "code",
   "execution_count": 169,
   "metadata": {
    "scrolled": true
   },
   "outputs": [
    {
     "name": "stdout",
     "output_type": "stream",
     "text": [
      "{'max_depth': 6, 'n_estimators': 40}\n"
     ]
    }
   ],
   "source": [
    "clf = RandomForestClassifier()\n",
    "\n",
    "test_params = {\n",
    " 'max_depth':[2,4,6],\n",
    " 'n_estimators':[10,20,30,40,50]\n",
    "}\n",
    "\n",
    "clf = GridSearchCV(estimator = clf,param_grid = test_params, cv=5)\n",
    "clf.fit(xTrain, yTrain.values.ravel())\n",
    "print(clf.best_params_)"
   ]
  },
  {
   "cell_type": "code",
   "execution_count": 173,
   "metadata": {},
   "outputs": [
    {
     "data": {
      "text/plain": [
       "RandomForestClassifier(bootstrap=True, class_weight=None, criterion='gini',\n",
       "            max_depth=6, max_features='auto', max_leaf_nodes=None,\n",
       "            min_impurity_decrease=0.0, min_impurity_split=None,\n",
       "            min_samples_leaf=1, min_samples_split=2,\n",
       "            min_weight_fraction_leaf=0.0, n_estimators=40, n_jobs=None,\n",
       "            oob_score=False, random_state=None, verbose=0,\n",
       "            warm_start=False)"
      ]
     },
     "execution_count": 173,
     "metadata": {},
     "output_type": "execute_result"
    }
   ],
   "source": [
    "clf = RandomForestClassifier(max_depth=6, n_estimators=40)\n",
    "clf.fit(xTrain, yTrain.values.ravel())"
   ]
  },
  {
   "cell_type": "code",
   "execution_count": 174,
   "metadata": {},
   "outputs": [
    {
     "name": "stdout",
     "output_type": "stream",
     "text": [
      "0.5627769780263159\n"
     ]
    }
   ],
   "source": [
    "y_pred = clf.predict(xTest)\n",
    "print(balanced_accuracy_score(yTest, y_pred))"
   ]
  },
  {
   "cell_type": "code",
   "execution_count": 175,
   "metadata": {
    "scrolled": true
   },
   "outputs": [
    {
     "name": "stdout",
     "output_type": "stream",
     "text": [
      "{'max_depth': 4}\n"
     ]
    }
   ],
   "source": [
    "new_model = xgb.XGBClassifier()\n",
    "\n",
    "test_params = {\n",
    " 'max_depth':[2,4,6]\n",
    "}\n",
    "\n",
    "new_model = GridSearchCV(estimator = new_model,param_grid = test_params, cv=5)\n",
    "new_model.fit(xTrain, yTrain.values.ravel())\n",
    "print(new_model.best_params_)"
   ]
  },
  {
   "cell_type": "code",
   "execution_count": 176,
   "metadata": {},
   "outputs": [
    {
     "data": {
      "text/plain": [
       "XGBClassifier(base_score=0.5, booster='gbtree', colsample_bylevel=1,\n",
       "       colsample_bytree=1, gamma=0, learning_rate=0.1, max_delta_step=0,\n",
       "       max_depth=4, min_child_weight=1, missing=None, n_estimators=100,\n",
       "       n_jobs=1, nthread=None, objective='binary:logistic', random_state=0,\n",
       "       reg_alpha=0, reg_lambda=1, scale_pos_weight=1, seed=None,\n",
       "       silent=True, subsample=1)"
      ]
     },
     "execution_count": 176,
     "metadata": {},
     "output_type": "execute_result"
    }
   ],
   "source": [
    "new_model = xgb.XGBClassifier(max_depth=4)\n",
    "new_model.fit(xTrain, yTrain.values.ravel())"
   ]
  },
  {
   "cell_type": "code",
   "execution_count": 177,
   "metadata": {},
   "outputs": [
    {
     "name": "stdout",
     "output_type": "stream",
     "text": [
      "0.5583262073427437\n"
     ]
    }
   ],
   "source": [
    "y_pred = new_model.predict(xTest)\n",
    "print(balanced_accuracy_score(yTest, y_pred))"
   ]
  },
  {
   "cell_type": "code",
   "execution_count": 178,
   "metadata": {},
   "outputs": [
    {
     "data": {
      "image/png": "[encoded data removed]",
      "text/plain": [
       "<Figure size 720x432 with 1 Axes>"
      ]
     },
     "metadata": {
      "needs_background": "light"
     },
     "output_type": "display_data"
    }
   ],
   "source": [
    "features = taX.columns\n",
    "importances = new_model.feature_importances_\n",
    "indices = np.argsort(importances)[::-1]\n",
    "\n",
    "fig, ax = plt.subplots(figsize=(10,6))\n",
    "ax.bar(range(xTrain.shape[1])[:10], importances[indices[:10]])\n",
    "plt.title('Feature Importances')\n",
    "plt.xticks(range(xTrain.shape[1])[:10], [features[i] for i in indices], rotation=70)\n",
    "ax.set_xlabel('Features')\n",
    "ax.set_ylabel('Variable Importance')\n",
    "plt.show()\n",
    "# bitmexorderbookspread folder for new features"
   ]
  },
  {
   "cell_type": "code",
   "execution_count": 180,
   "metadata": {},
   "outputs": [],
   "source": [
    "pool = mp.Pool(processes=mp.cpu_count())\n",
    "results = [pool.apply_async(asyncFunction, args=(taX.copy(), test,)) for test in range(1,11)]\n",
    "optimized_returns = [y_future.update(p.get()) for p in results]"
   ]
  },
  {
   "cell_type": "code",
   "execution_count": 181,
   "metadata": {
    "scrolled": true
   },
   "outputs": [],
   "source": [
    "accuracy_values_dict = dict()\n",
    "accuracy_values = list()\n",
    "\n",
    "pool = mp.Pool(processes=mp.cpu_count())\n",
    "results = [pool.apply_async(plotFunction, args=(taX.copy(), test, 'f1')) for test in range(1,11)]\n",
    "optimized_returns = [accuracy_values_dict.update(p.get()) for p in results]"
   ]
  },
  {
   "cell_type": "code",
   "execution_count": 187,
   "metadata": {},
   "outputs": [],
   "source": [
    "for i in sorted(accuracy_values_dict.keys()):\n",
    "    accuracy_values.append(accuracy_values_dict[i])"
   ]
  },
  {
   "cell_type": "code",
   "execution_count": 189,
   "metadata": {
    "scrolled": true
   },
   "outputs": [
    {
     "data": {
      "text/plain": [
       "Text(0.5, 1.0, 'f1 score of model vs how far in the future we predict the price movement')"
      ]
     },
     "execution_count": 189,
     "metadata": {},
     "output_type": "execute_result"
    },
    {
     "data": {
      "image/png": "[encoded data removed]",
      "text/plain": [
       "<Figure size 432x288 with 1 Axes>"
      ]
     },
     "metadata": {
      "needs_background": "light"
     },
     "output_type": "display_data"
    }
   ],
   "source": [
    "plt.plot([x for x in range(1,11)], accuracy_values)\n",
    "plt.xlabel('minutes in future')\n",
    "plt.ylabel('f1 score')\n",
    "plt.title('f1 score of model vs how far in the future we predict the price movement')"
   ]
  },
  {
   "cell_type": "markdown",
   "metadata": {},
   "source": [
    "This is very interesting...you can very easily see that we get big spikes in the f1 score on minutes ahead we look that are multiples of 3, because many of our technical indicators are set to calculate on 3. I wonder what we could do with this interesting property."
   ]
  },
  {
   "cell_type": "code",
   "execution_count": 190,
   "metadata": {},
   "outputs": [],
   "source": [
    "accuracy_values_dict = dict()\n",
    "accuracy_values = list()\n",
    "\n",
    "pool = mp.Pool(processes=mp.cpu_count())\n",
    "results = [pool.apply_async(plotFunction, args=(taX.copy(), test, 'accuracy')) for test in range(1,11)]\n",
    "optimized_returns = [accuracy_values_dict.update(p.get()) for p in results]"
   ]
  },
  {
   "cell_type": "code",
   "execution_count": 192,
   "metadata": {},
   "outputs": [],
   "source": [
    "for i in sorted(accuracy_values_dict.keys()):\n",
    "    accuracy_values.append(accuracy_values_dict[i])"
   ]
  },
  {
   "cell_type": "code",
   "execution_count": 193,
   "metadata": {},
   "outputs": [
    {
     "data": {
      "text/plain": [
       "Text(0.5, 1.0, 'accuracy score of model vs how far in the future we predict the price movement')"
      ]
     },
     "execution_count": 193,
     "metadata": {},
     "output_type": "execute_result"
    },
    {
     "data": {
      "image/png": "[encoded data removed]",
      "text/plain": [
       "<Figure size 432x288 with 1 Axes>"
      ]
     },
     "metadata": {
      "needs_background": "light"
     },
     "output_type": "display_data"
    }
   ],
   "source": [
    "plt.plot([x for x in range(1,11)], accuracy_values)\n",
    "plt.xlabel('minutes in future')\n",
    "plt.ylabel('accuracy score')\n",
    "plt.title('accuracy score of model vs how far in the future we predict the price movement')"
   ]
  },
  {
   "cell_type": "markdown",
   "metadata": {},
   "source": [
    "We see the same thing again here with our accuracy score..."
   ]
  },
  {
   "cell_type": "markdown",
   "metadata": {},
   "source": [
    "Now let's try an ARIMA (Auto Regressive Integrated Moving Average) model giving it features 10 minutes behind us. First without technical indicators. We should come back and test the hypothesis of a property that lets us predict x minutes in the future with similar accuracy to when we predict the next minute."
   ]
  },
  {
   "cell_type": "markdown",
   "metadata": {},
   "source": [
    "# ARIMA Model Without Technical Indicators"
   ]
  },
  {
   "cell_type": "code",
   "execution_count": 194,
   "metadata": {},
   "outputs": [
    {
     "data": {
      "text/html": [
       "<div>\n",
       "<style scoped>\n",
       "    .dataframe tbody tr th:only-of-type {\n",
       "        vertical-align: middle;\n",
       "    }\n",
       "\n",
       "    .dataframe tbody tr th {\n",
       "        vertical-align: top;\n",
       "    }\n",
       "\n",
       "    .dataframe thead th {\n",
       "        text-align: right;\n",
       "    }\n",
       "</style>\n",
       "<table border=\"1\" class=\"dataframe\">\n",
       "  <thead>\n",
       "    <tr style=\"text-align: right;\">\n",
       "      <th></th>\n",
       "      <th>open</th>\n",
       "      <th>close</th>\n",
       "      <th>high</th>\n",
       "      <th>low</th>\n",
       "      <th>volume</th>\n",
       "      <th>buy_volume</th>\n",
       "      <th>sell_volume</th>\n",
       "      <th>max_buy</th>\n",
       "      <th>max_sell</th>\n",
       "      <th>sell_50</th>\n",
       "      <th>...</th>\n",
       "      <th>buy_50</th>\n",
       "      <th>buy_100</th>\n",
       "      <th>buy_500</th>\n",
       "      <th>buy_1000</th>\n",
       "      <th>buy_10000</th>\n",
       "      <th>buy_100000</th>\n",
       "      <th>buy_200000</th>\n",
       "      <th>buy_count</th>\n",
       "      <th>sell_count</th>\n",
       "      <th>avg_volume</th>\n",
       "    </tr>\n",
       "    <tr>\n",
       "      <th>timestamp</th>\n",
       "      <th></th>\n",
       "      <th></th>\n",
       "      <th></th>\n",
       "      <th></th>\n",
       "      <th></th>\n",
       "      <th></th>\n",
       "      <th></th>\n",
       "      <th></th>\n",
       "      <th></th>\n",
       "      <th></th>\n",
       "      <th></th>\n",
       "      <th></th>\n",
       "      <th></th>\n",
       "      <th></th>\n",
       "      <th></th>\n",
       "      <th></th>\n",
       "      <th></th>\n",
       "      <th></th>\n",
       "      <th></th>\n",
       "      <th></th>\n",
       "      <th></th>\n",
       "    </tr>\n",
       "  </thead>\n",
       "  <tbody>\n",
       "    <tr>\n",
       "      <th>2019-08-01 00:00:00</th>\n",
       "      <td>10088.5</td>\n",
       "      <td>10108.0</td>\n",
       "      <td>10108.5</td>\n",
       "      <td>10088.5</td>\n",
       "      <td>5189557.0</td>\n",
       "      <td>3859798.0</td>\n",
       "      <td>1329759.0</td>\n",
       "      <td>466922.0</td>\n",
       "      <td>198900.0</td>\n",
       "      <td>201.0</td>\n",
       "      <td>...</td>\n",
       "      <td>748.0</td>\n",
       "      <td>622.0</td>\n",
       "      <td>380.0</td>\n",
       "      <td>296.0</td>\n",
       "      <td>85.0</td>\n",
       "      <td>2.0</td>\n",
       "      <td>1.0</td>\n",
       "      <td>1053.0</td>\n",
       "      <td>297.0</td>\n",
       "      <td>3844.116296</td>\n",
       "    </tr>\n",
       "    <tr>\n",
       "      <th>2019-08-01 00:01:00</th>\n",
       "      <td>10107.5</td>\n",
       "      <td>10109.0</td>\n",
       "      <td>10120.0</td>\n",
       "      <td>10100.0</td>\n",
       "      <td>5792264.0</td>\n",
       "      <td>4627428.0</td>\n",
       "      <td>1164836.0</td>\n",
       "      <td>250962.0</td>\n",
       "      <td>116009.0</td>\n",
       "      <td>349.0</td>\n",
       "      <td>...</td>\n",
       "      <td>890.0</td>\n",
       "      <td>778.0</td>\n",
       "      <td>471.0</td>\n",
       "      <td>357.0</td>\n",
       "      <td>99.0</td>\n",
       "      <td>6.0</td>\n",
       "      <td>1.0</td>\n",
       "      <td>1166.0</td>\n",
       "      <td>512.0</td>\n",
       "      <td>3451.885578</td>\n",
       "    </tr>\n",
       "    <tr>\n",
       "      <th>2019-08-01 00:02:00</th>\n",
       "      <td>10108.5</td>\n",
       "      <td>10093.0</td>\n",
       "      <td>10109.0</td>\n",
       "      <td>10088.5</td>\n",
       "      <td>4974185.0</td>\n",
       "      <td>1213736.0</td>\n",
       "      <td>3760449.0</td>\n",
       "      <td>100000.0</td>\n",
       "      <td>218000.0</td>\n",
       "      <td>489.0</td>\n",
       "      <td>...</td>\n",
       "      <td>217.0</td>\n",
       "      <td>194.0</td>\n",
       "      <td>152.0</td>\n",
       "      <td>127.0</td>\n",
       "      <td>32.0</td>\n",
       "      <td>0.0</td>\n",
       "      <td>0.0</td>\n",
       "      <td>297.0</td>\n",
       "      <td>707.0</td>\n",
       "      <td>4954.367530</td>\n",
       "    </tr>\n",
       "    <tr>\n",
       "      <th>2019-08-01 00:03:00</th>\n",
       "      <td>10093.0</td>\n",
       "      <td>10111.5</td>\n",
       "      <td>10111.5</td>\n",
       "      <td>10093.0</td>\n",
       "      <td>1863787.0</td>\n",
       "      <td>1436924.0</td>\n",
       "      <td>426863.0</td>\n",
       "      <td>100000.0</td>\n",
       "      <td>100000.0</td>\n",
       "      <td>79.0</td>\n",
       "      <td>...</td>\n",
       "      <td>346.0</td>\n",
       "      <td>298.0</td>\n",
       "      <td>188.0</td>\n",
       "      <td>146.0</td>\n",
       "      <td>36.0</td>\n",
       "      <td>0.0</td>\n",
       "      <td>0.0</td>\n",
       "      <td>559.0</td>\n",
       "      <td>88.0</td>\n",
       "      <td>2880.659969</td>\n",
       "    </tr>\n",
       "    <tr>\n",
       "      <th>2019-08-01 00:04:00</th>\n",
       "      <td>10111.0</td>\n",
       "      <td>10106.0</td>\n",
       "      <td>10120.5</td>\n",
       "      <td>10105.0</td>\n",
       "      <td>3785526.0</td>\n",
       "      <td>2517687.0</td>\n",
       "      <td>1267839.0</td>\n",
       "      <td>212011.0</td>\n",
       "      <td>187830.0</td>\n",
       "      <td>303.0</td>\n",
       "      <td>...</td>\n",
       "      <td>393.0</td>\n",
       "      <td>334.0</td>\n",
       "      <td>211.0</td>\n",
       "      <td>164.0</td>\n",
       "      <td>55.0</td>\n",
       "      <td>4.0</td>\n",
       "      <td>1.0</td>\n",
       "      <td>579.0</td>\n",
       "      <td>450.0</td>\n",
       "      <td>3678.839650</td>\n",
       "    </tr>\n",
       "  </tbody>\n",
       "</table>\n",
       "<p>5 rows × 26 columns</p>\n",
       "</div>"
      ],
      "text/plain": [
       "                        open    close     high      low     volume  \\\n",
       "timestamp                                                            \n",
       "2019-08-01 00:00:00  10088.5  10108.0  10108.5  10088.5  5189557.0   \n",
       "2019-08-01 00:01:00  10107.5  10109.0  10120.0  10100.0  5792264.0   \n",
       "2019-08-01 00:02:00  10108.5  10093.0  10109.0  10088.5  4974185.0   \n",
       "2019-08-01 00:03:00  10093.0  10111.5  10111.5  10093.0  1863787.0   \n",
       "2019-08-01 00:04:00  10111.0  10106.0  10120.5  10105.0  3785526.0   \n",
       "\n",
       "                     buy_volume  sell_volume   max_buy  max_sell  sell_50  \\\n",
       "timestamp                                                                   \n",
       "2019-08-01 00:00:00   3859798.0    1329759.0  466922.0  198900.0    201.0   \n",
       "2019-08-01 00:01:00   4627428.0    1164836.0  250962.0  116009.0    349.0   \n",
       "2019-08-01 00:02:00   1213736.0    3760449.0  100000.0  218000.0    489.0   \n",
       "2019-08-01 00:03:00   1436924.0     426863.0  100000.0  100000.0     79.0   \n",
       "2019-08-01 00:04:00   2517687.0    1267839.0  212011.0  187830.0    303.0   \n",
       "\n",
       "                        ...       buy_50  buy_100  buy_500  buy_1000  \\\n",
       "timestamp               ...                                            \n",
       "2019-08-01 00:00:00     ...        748.0    622.0    380.0     296.0   \n",
       "2019-08-01 00:01:00     ...        890.0    778.0    471.0     357.0   \n",
       "2019-08-01 00:02:00     ...        217.0    194.0    152.0     127.0   \n",
       "2019-08-01 00:03:00     ...        346.0    298.0    188.0     146.0   \n",
       "2019-08-01 00:04:00     ...        393.0    334.0    211.0     164.0   \n",
       "\n",
       "                     buy_10000  buy_100000  buy_200000  buy_count  sell_count  \\\n",
       "timestamp                                                                       \n",
       "2019-08-01 00:00:00       85.0         2.0         1.0     1053.0       297.0   \n",
       "2019-08-01 00:01:00       99.0         6.0         1.0     1166.0       512.0   \n",
       "2019-08-01 00:02:00       32.0         0.0         0.0      297.0       707.0   \n",
       "2019-08-01 00:03:00       36.0         0.0         0.0      559.0        88.0   \n",
       "2019-08-01 00:04:00       55.0         4.0         1.0      579.0       450.0   \n",
       "\n",
       "                      avg_volume  \n",
       "timestamp                         \n",
       "2019-08-01 00:00:00  3844.116296  \n",
       "2019-08-01 00:01:00  3451.885578  \n",
       "2019-08-01 00:02:00  4954.367530  \n",
       "2019-08-01 00:03:00  2880.659969  \n",
       "2019-08-01 00:04:00  3678.839650  \n",
       "\n",
       "[5 rows x 26 columns]"
      ]
     },
     "execution_count": 194,
     "metadata": {},
     "output_type": "execute_result"
    }
   ],
   "source": [
    "x.head()"
   ]
  },
  {
   "cell_type": "code",
   "execution_count": 223,
   "metadata": {},
   "outputs": [],
   "source": [
    "arimaNoTaX = x.copy()"
   ]
  },
  {
   "cell_type": "code",
   "execution_count": 224,
   "metadata": {},
   "outputs": [],
   "source": [
    "base_columns = arimaNoTaX.columns\n",
    "arimaNoTaX.columns = [column + '_1' for column in arimaNoTaX.columns]"
   ]
  },
  {
   "cell_type": "code",
   "execution_count": 225,
   "metadata": {},
   "outputs": [
    {
     "data": {
      "text/plain": [
       "Index(['open_1', 'close_1', 'high_1', 'low_1', 'volume_1', 'buy_volume_1',\n",
       "       'sell_volume_1', 'max_buy_1', 'max_sell_1', 'sell_50_1', 'sell_100_1',\n",
       "       'sell_500_1', 'sell_1000_1', 'sell_10000_1', 'sell_100000_1',\n",
       "       'sell_200000_1', 'buy_50_1', 'buy_100_1', 'buy_500_1', 'buy_1000_1',\n",
       "       'buy_10000_1', 'buy_100000_1', 'buy_200000_1', 'buy_count_1',\n",
       "       'sell_count_1', 'avg_volume_1'],\n",
       "      dtype='object')"
      ]
     },
     "execution_count": 225,
     "metadata": {},
     "output_type": "execute_result"
    }
   ],
   "source": [
    "arimaNoTaX.columns"
   ]
  },
  {
   "cell_type": "code",
   "execution_count": 226,
   "metadata": {},
   "outputs": [],
   "source": [
    "for i in range(2,12):\n",
    "    for column in base_columns:\n",
    "        arimaNoTaX[column + '_' + str(i)] = np.nan"
   ]
  },
  {
   "cell_type": "code",
   "execution_count": 227,
   "metadata": {},
   "outputs": [
    {
     "data": {
      "text/plain": [
       "286"
      ]
     },
     "execution_count": 227,
     "metadata": {},
     "output_type": "execute_result"
    }
   ],
   "source": [
    "len(arimaNoTaX.columns)"
   ]
  },
  {
   "cell_type": "code",
   "execution_count": 228,
   "metadata": {},
   "outputs": [
    {
     "data": {
      "text/plain": [
       "DatetimeIndex([], dtype='datetime64[ns]', freq='T')"
      ]
     },
     "execution_count": 228,
     "metadata": {},
     "output_type": "execute_result"
    }
   ],
   "source": [
    "idx_ref = pd.DatetimeIndex(start=arimaNoTaX.index[0], end=arimaNoTaX.index[-1], freq='min')\n",
    "idx_ref[~idx_ref.isin(arimaNoTaX.index)]"
   ]
  },
  {
   "cell_type": "code",
   "execution_count": 229,
   "metadata": {},
   "outputs": [],
   "source": [
    "# s = pd.Series([np.nan for x in range(len(x.columns))])\n",
    "# s.name = np.datetime64(datetime.datetime.strptime('2019-06-28 12:00:00', '%Y-%m-%d %H:%M:%S'))"
   ]
  },
  {
   "cell_type": "code",
   "execution_count": 230,
   "metadata": {},
   "outputs": [],
   "source": [
    "# x = x.append(s)"
   ]
  },
  {
   "cell_type": "code",
   "execution_count": 257,
   "metadata": {},
   "outputs": [
    {
     "name": "stdout",
     "output_type": "stream",
     "text": [
      "<class 'pandas.core.frame.DataFrame'>\n",
      "DatetimeIndex: 44605 entries, 2019-08-01 00:34:00 to 2019-08-31 23:58:00\n",
      "Data columns (total 33 columns):\n",
      "op_10           0 non-null float64\n",
      "clo_10          0 non-null float64\n",
      "hi_10           0 non-null float64\n",
      "l_10            0 non-null float64\n",
      "volu_10         0 non-null float64\n",
      "buy_volu_10     0 non-null float64\n",
      "sell_volu_10    0 non-null float64\n",
      "max_b_10        0 non-null float64\n",
      "max_se_10       0 non-null float64\n",
      "sell__10        0 non-null float64\n",
      "sell_1_10       0 non-null float64\n",
      "sell_5_10       0 non-null float64\n",
      "sell_10_10      0 non-null float64\n",
      "sell_100_10     0 non-null float64\n",
      "sell_1000_10    0 non-null float64\n",
      "sell_2000_10    0 non-null float64\n",
      "buy__10         0 non-null float64\n",
      "buy_1_10        0 non-null float64\n",
      "buy_5_10        0 non-null float64\n",
      "buy_10_10       0 non-null float64\n",
      "buy_100_10      0 non-null float64\n",
      "buy_1000_10     0 non-null float64\n",
      "buy_2000_10     0 non-null float64\n",
      "buy_cou_10      0 non-null float64\n",
      "sell_cou_10     0 non-null float64\n",
      "avg_volu_10     0 non-null float64\n",
      "ema_10          0 non-null float64\n",
      "tema_10         0 non-null float64\n",
      "rsi_10          0 non-null float64\n",
      "rocrsi_10       0 non-null float64\n",
      "rocema_10       0 non-null float64\n",
      "roctema_10      0 non-null float64\n",
      "macd_10         0 non-null float64\n",
      "dtypes: float64(33)\n",
      "memory usage: 12.8 MB\n"
     ]
    }
   ],
   "source": [
    "arimaNoTaX.loc[:,[column + '_10' for column in base_columns]].info()"
   ]
  },
  {
   "cell_type": "code",
   "execution_count": 232,
   "metadata": {},
   "outputs": [],
   "source": [
    "for i, row in arimaNoTaX[10:].iterrows():\n",
    "    for j in range(2, 12):\n",
    "        for column in base_columns:\n",
    "            arimaNoTaX.at[i, column+'_'+str(j)] = arimaNoTaX.loc[i-datetime.timedelta(minutes=j-1), column+'_1']\n"
   ]
  },
  {
   "cell_type": "code",
   "execution_count": 233,
   "metadata": {},
   "outputs": [],
   "source": [
    "arimaNoTaX.dropna(axis=0, inplace=True)"
   ]
  },
  {
   "cell_type": "markdown",
   "metadata": {},
   "source": [
    "### Model"
   ]
  },
  {
   "cell_type": "code",
   "execution_count": 236,
   "metadata": {},
   "outputs": [],
   "source": [
    "arimaNoTaX = arimaNoTaX.loc[y_future[1]]"
   ]
  },
  {
   "cell_type": "code",
   "execution_count": 240,
   "metadata": {},
   "outputs": [],
   "source": [
    "minutesAhead = 1\n",
    "scaler = StandardScaler()\n",
    "\n",
    "xTrain, xTest, yTrain, yTest = train_test_split(arimaNoTaX.drop(y_future[minutesAhead].index[y_future[minutesAhead]['target'] == 0]), y_future[minutesAhead].drop(y_future[minutesAhead].index[y_future[minutesAhead]['target'] == 0]), test_size=0.2)\n",
    "xTrain = scaler.fit_transform(xTrain)\n",
    "xTest = scaler.fit_transform(xTest)"
   ]
  },
  {
   "cell_type": "code",
   "execution_count": 241,
   "metadata": {},
   "outputs": [
    {
     "name": "stdout",
     "output_type": "stream",
     "text": [
      "{'max_depth': 6, 'n_estimators': 100}\n"
     ]
    }
   ],
   "source": [
    "clf = RandomForestClassifier()\n",
    "\n",
    "test_params = {\n",
    " 'max_depth':[2,4,6],\n",
    " 'n_estimators':[10,50,100]\n",
    "}\n",
    "\n",
    "clf = GridSearchCV(estimator = clf,param_grid = test_params, cv=5)\n",
    "clf.fit(xTrain, yTrain.values.ravel())\n",
    "print(clf.best_params_)"
   ]
  },
  {
   "cell_type": "code",
   "execution_count": 242,
   "metadata": {},
   "outputs": [
    {
     "data": {
      "text/plain": [
       "RandomForestClassifier(bootstrap=True, class_weight=None, criterion='gini',\n",
       "            max_depth=6, max_features='auto', max_leaf_nodes=None,\n",
       "            min_impurity_decrease=0.0, min_impurity_split=None,\n",
       "            min_samples_leaf=1, min_samples_split=2,\n",
       "            min_weight_fraction_leaf=0.0, n_estimators=100, n_jobs=None,\n",
       "            oob_score=False, random_state=None, verbose=0,\n",
       "            warm_start=False)"
      ]
     },
     "execution_count": 242,
     "metadata": {},
     "output_type": "execute_result"
    }
   ],
   "source": [
    "clf = RandomForestClassifier(max_depth=6, n_estimators=100)\n",
    "clf.fit(xTrain, yTrain.values.ravel())"
   ]
  },
  {
   "cell_type": "code",
   "execution_count": 243,
   "metadata": {},
   "outputs": [
    {
     "name": "stdout",
     "output_type": "stream",
     "text": [
      "0.2808527283395267\n",
      "0.5389376843710729\n",
      "0.5878264768523708\n",
      "[[4526  554]\n",
      " [3123  718]]\n"
     ]
    }
   ],
   "source": [
    "y_pred = clf.predict(xTest)\n",
    "print(f1_score(yTest, y_pred))\n",
    "print(balanced_accuracy_score(yTest, y_pred))\n",
    "print(accuracy_score(yTest, y_pred))\n",
    "print(confusion_matrix(yTest, y_pred))"
   ]
  },
  {
   "cell_type": "code",
   "execution_count": 244,
   "metadata": {},
   "outputs": [
    {
     "data": {
      "text/plain": [
       "XGBClassifier(base_score=0.5, booster='gbtree', colsample_bylevel=1,\n",
       "       colsample_bytree=1, gamma=0, learning_rate=0.1, max_delta_step=0,\n",
       "       max_depth=6, min_child_weight=1, missing=None, n_estimators=100,\n",
       "       n_jobs=1, nthread=None, objective='binary:logistic', random_state=0,\n",
       "       reg_alpha=0, reg_lambda=1, scale_pos_weight=1, seed=None,\n",
       "       silent=True, subsample=1)"
      ]
     },
     "execution_count": 244,
     "metadata": {},
     "output_type": "execute_result"
    }
   ],
   "source": [
    "clf = xgb.XGBClassifier(max_depth=6, n_estimators=100)\n",
    "clf.fit(xTrain, yTrain.values.ravel())"
   ]
  },
  {
   "cell_type": "code",
   "execution_count": 245,
   "metadata": {},
   "outputs": [
    {
     "name": "stdout",
     "output_type": "stream",
     "text": [
      "0.4133766836971667\n",
      "0.5475033414854645\n",
      "0.5752718305122744\n",
      "[[3797 1283]\n",
      " [2506 1335]]\n"
     ]
    }
   ],
   "source": [
    "y_pred = clf.predict(xTest)\n",
    "print(f1_score(yTest, y_pred))\n",
    "print(balanced_accuracy_score(yTest, y_pred))\n",
    "print(accuracy_score(yTest, y_pred))\n",
    "print(confusion_matrix(yTest, y_pred))"
   ]
  },
  {
   "cell_type": "markdown",
   "metadata": {},
   "source": [
    "# ARIMA Model WITH Technical Indicators"
   ]
  },
  {
   "cell_type": "code",
   "execution_count": 301,
   "metadata": {},
   "outputs": [],
   "source": [
    "arimaTaX = x.copy()"
   ]
  },
  {
   "cell_type": "code",
   "execution_count": 302,
   "metadata": {},
   "outputs": [],
   "source": [
    "ema = pd.DataFrame(talib.EMA(np.array(arimaTaX.close), timeperiod=3))\n",
    "tema = pd.DataFrame(talib.TEMA(np.array(arimaTaX.close), timeperiod=3))\n",
    "rsi = pd.DataFrame(talib.RSI(np.array(arimaTaX.close), timeperiod=3))\n",
    "rocrsi = pd.DataFrame(talib.ROC(talib.RSI(np.array(arimaTaX.close), timeperiod=3), timeperiod=3))\n",
    "rocema = pd.DataFrame(talib.ROC(talib.EMA(np.array(arimaTaX.close), timeperiod=3), timeperiod=3))\n",
    "roctema = pd.DataFrame(talib.ROC(talib.TEMA(np.array(arimaTaX.close), timeperiod=3), timeperiod=3))"
   ]
  },
  {
   "cell_type": "code",
   "execution_count": 303,
   "metadata": {},
   "outputs": [],
   "source": [
    "arimaTaX.columns = [column + '_1' for column in arimaTaX.columns]"
   ]
  },
  {
   "cell_type": "code",
   "execution_count": 304,
   "metadata": {},
   "outputs": [],
   "source": [
    "arimaTaX['ema_1'] = ema.shift(periods=1).values\n",
    "arimaTaX['tema_1'] = tema.shift(periods=1).values\n",
    "arimaTaX['rsi_1'] = rsi.shift(periods=1).values\n",
    "arimaTaX['rocrsi_1'] = rocrsi.shift(periods=1).values\n",
    "arimaTaX['rocema_1'] = rocema.shift(periods=1).values\n",
    "arimaTaX['roctema_1'] = roctema.shift(periods=1).values\n",
    "arimaTaX['macd_1'] = pd.DataFrame(macd).shift(periods=1).values"
   ]
  },
  {
   "cell_type": "code",
   "execution_count": 305,
   "metadata": {},
   "outputs": [],
   "source": [
    "base_columns = [word[:-2] for word in arimaTaX.columns]\n",
    "for i in range(2,12):\n",
    "    for column in base_columns:\n",
    "        arimaTaX[column + '_' + str(i)] = np.nan"
   ]
  },
  {
   "cell_type": "code",
   "execution_count": 306,
   "metadata": {},
   "outputs": [
    {
     "data": {
      "text/plain": [
       "Index(['open_1', 'close_1', 'high_1', 'low_1', 'volume_1', 'buy_volume_1',\n",
       "       'sell_volume_1', 'max_buy_1', 'max_sell_1', 'sell_50_1',\n",
       "       ...\n",
       "       'buy_count_11', 'sell_count_11', 'avg_volume_11', 'ema_11', 'tema_11',\n",
       "       'rsi_11', 'rocrsi_11', 'rocema_11', 'roctema_11', 'macd_11'],\n",
       "      dtype='object', length=363)"
      ]
     },
     "execution_count": 306,
     "metadata": {},
     "output_type": "execute_result"
    }
   ],
   "source": [
    "arimaTaX.columns"
   ]
  },
  {
   "cell_type": "code",
   "execution_count": 307,
   "metadata": {},
   "outputs": [
    {
     "name": "stdout",
     "output_type": "stream",
     "text": [
      "<class 'pandas.core.frame.DataFrame'>\n",
      "DatetimeIndex: 44639 entries, 2019-08-01 00:00:00 to 2019-08-31 23:58:00\n",
      "Data columns (total 33 columns):\n",
      "open_1           44639 non-null float64\n",
      "close_1          44639 non-null float64\n",
      "high_1           44639 non-null float64\n",
      "low_1            44639 non-null float64\n",
      "volume_1         44639 non-null float64\n",
      "buy_volume_1     44639 non-null float64\n",
      "sell_volume_1    44639 non-null float64\n",
      "max_buy_1        44639 non-null float64\n",
      "max_sell_1       44639 non-null float64\n",
      "sell_50_1        44639 non-null float64\n",
      "sell_100_1       44639 non-null float64\n",
      "sell_500_1       44639 non-null float64\n",
      "sell_1000_1      44639 non-null float64\n",
      "sell_10000_1     44639 non-null float64\n",
      "sell_100000_1    44639 non-null float64\n",
      "sell_200000_1    44639 non-null float64\n",
      "buy_50_1         44639 non-null float64\n",
      "buy_100_1        44639 non-null float64\n",
      "buy_500_1        44639 non-null float64\n",
      "buy_1000_1       44639 non-null float64\n",
      "buy_10000_1      44639 non-null float64\n",
      "buy_100000_1     44639 non-null float64\n",
      "buy_200000_1     44639 non-null float64\n",
      "buy_count_1      44639 non-null float64\n",
      "sell_count_1     44639 non-null float64\n",
      "avg_volume_1     44639 non-null float64\n",
      "ema_1            44636 non-null float64\n",
      "tema_1           44632 non-null float64\n",
      "rsi_1            44635 non-null float64\n",
      "rocrsi_1         44632 non-null float64\n",
      "rocema_1         44633 non-null float64\n",
      "roctema_1        44629 non-null float64\n",
      "macd_1           44605 non-null float64\n",
      "dtypes: float64(33)\n",
      "memory usage: 11.6 MB\n"
     ]
    }
   ],
   "source": [
    "arimaTaX.loc[:,[column + '_1' for column in base_columns]].info()"
   ]
  },
  {
   "cell_type": "code",
   "execution_count": 308,
   "metadata": {},
   "outputs": [],
   "source": [
    "for i, row in arimaTaX[10:].iterrows():\n",
    "    for j in range(2, 12):\n",
    "        for column in base_columns:\n",
    "            arimaTaX.at[i, column+'_'+str(j)] = arimaTaX.loc[i-datetime.timedelta(minutes=j-1), column+'_1']"
   ]
  },
  {
   "cell_type": "code",
   "execution_count": 316,
   "metadata": {},
   "outputs": [],
   "source": [
    "arimaTaX.dropna(axis=0, inplace=True)"
   ]
  },
  {
   "cell_type": "markdown",
   "metadata": {},
   "source": [
    "### Model"
   ]
  },
  {
   "cell_type": "code",
   "execution_count": 319,
   "metadata": {},
   "outputs": [
    {
     "name": "stderr",
     "output_type": "stream",
     "text": [
      "/opt/anaconda3/envs/ikigai-ml/lib/python3.5/site-packages/ipykernel_launcher.py:1: FutureWarning: \n",
      "Passing list-likes to .loc or [] with any missing label will raise\n",
      "KeyError in the future, you can use .reindex() as an alternative.\n",
      "\n",
      "See the documentation here:\n",
      "http://pandas.pydata.org/pandas-docs/stable/indexing.html#deprecate-loc-reindex-listlike\n",
      "  \"\"\"Entry point for launching an IPython kernel.\n",
      "/opt/anaconda3/envs/ikigai-ml/lib/python3.5/site-packages/pandas/core/indexing.py:1367: FutureWarning: \n",
      "Passing list-likes to .loc or [] with any missing label will raise\n",
      "KeyError in the future, you can use .reindex() as an alternative.\n",
      "\n",
      "See the documentation here:\n",
      "http://pandas.pydata.org/pandas-docs/stable/indexing.html#deprecate-loc-reindex-listlike\n",
      "  return self._getitem_tuple(key)\n"
     ]
    }
   ],
   "source": [
    "arimaTaX = arimaTaX.loc[y_future[1].index,:]"
   ]
  },
  {
   "cell_type": "code",
   "execution_count": 320,
   "metadata": {},
   "outputs": [],
   "source": [
    "minutesAhead = 1\n",
    "scaler = StandardScaler()\n",
    "\n",
    "xTrain, xTest, yTrain, yTest = train_test_split(arimaTaX.drop(y_future[minutesAhead].index[y_future[minutesAhead]['target'] == 0]), y_future[minutesAhead].drop(y_future[minutesAhead].index[y_future[minutesAhead]['target'] == 0]), test_size=0.2)\n",
    "xTrain = scaler.fit_transform(xTrain)\n",
    "xTest = scaler.fit_transform(xTest)"
   ]
  },
  {
   "cell_type": "code",
   "execution_count": 321,
   "metadata": {},
   "outputs": [
    {
     "name": "stdout",
     "output_type": "stream",
     "text": [
      "44605\n",
      "44595\n"
     ]
    }
   ],
   "source": [
    "print(len(arimaTaX))\n",
    "print(len(arimaTaX.dropna(axis=0)))"
   ]
  },
  {
   "cell_type": "code",
   "execution_count": 323,
   "metadata": {},
   "outputs": [
    {
     "data": {
      "text/plain": [
       "True"
      ]
     },
     "execution_count": 323,
     "metadata": {},
     "output_type": "execute_result"
    }
   ],
   "source": [
    "np.isnan(xTrain).any()"
   ]
  },
  {
   "cell_type": "code",
   "execution_count": 322,
   "metadata": {},
   "outputs": [
    {
     "name": "stderr",
     "output_type": "stream",
     "text": [
      "/opt/anaconda3/envs/ikigai-ml/lib/python3.5/site-packages/sklearn/model_selection/_validation.py:542: FutureWarning: From version 0.22, errors during fit will result in a cross validation score of NaN by default. Use error_score='raise' if you want an exception raised or error_score=np.nan to adopt the behavior from version 0.22.\n",
      "  FutureWarning)\n"
     ]
    },
    {
     "ename": "ValueError",
     "evalue": "Input contains NaN, infinity or a value too large for dtype('float32').",
     "output_type": "error",
     "traceback": [
      "\u001b[0;31m---------------------------------------------------------------------------\u001b[0m",
      "\u001b[0;31mValueError\u001b[0m                                Traceback (most recent call last)",
      "\u001b[0;32m<ipython-input-322-1fd149e7e8d5>\u001b[0m in \u001b[0;36m<module>\u001b[0;34m()\u001b[0m\n\u001b[1;32m      7\u001b[0m \u001b[0;34m\u001b[0m\u001b[0m\n\u001b[1;32m      8\u001b[0m \u001b[0mclf\u001b[0m \u001b[0;34m=\u001b[0m \u001b[0mGridSearchCV\u001b[0m\u001b[0;34m(\u001b[0m\u001b[0mestimator\u001b[0m \u001b[0;34m=\u001b[0m \u001b[0mclf\u001b[0m\u001b[0;34m,\u001b[0m\u001b[0mparam_grid\u001b[0m \u001b[0;34m=\u001b[0m \u001b[0mtest_params\u001b[0m\u001b[0;34m,\u001b[0m \u001b[0mcv\u001b[0m\u001b[0;34m=\u001b[0m\u001b[0;36m5\u001b[0m\u001b[0;34m)\u001b[0m\u001b[0;34m\u001b[0m\u001b[0m\n\u001b[0;32m----> 9\u001b[0;31m \u001b[0mclf\u001b[0m\u001b[0;34m.\u001b[0m\u001b[0mfit\u001b[0m\u001b[0;34m(\u001b[0m\u001b[0mxTrain\u001b[0m\u001b[0;34m,\u001b[0m \u001b[0myTrain\u001b[0m\u001b[0;34m.\u001b[0m\u001b[0mvalues\u001b[0m\u001b[0;34m.\u001b[0m\u001b[0mravel\u001b[0m\u001b[0;34m(\u001b[0m\u001b[0;34m)\u001b[0m\u001b[0;34m)\u001b[0m\u001b[0;34m\u001b[0m\u001b[0m\n\u001b[0m\u001b[1;32m     10\u001b[0m \u001b[0mprint\u001b[0m\u001b[0;34m(\u001b[0m\u001b[0mclf\u001b[0m\u001b[0;34m.\u001b[0m\u001b[0mbest_params_\u001b[0m\u001b[0;34m)\u001b[0m\u001b[0;34m\u001b[0m\u001b[0m\n",
      "\u001b[0;32m/opt/anaconda3/envs/ikigai-ml/lib/python3.5/site-packages/sklearn/model_selection/_search.py\u001b[0m in \u001b[0;36mfit\u001b[0;34m(self, X, y, groups, **fit_params)\u001b[0m\n\u001b[1;32m    720\u001b[0m                 \u001b[0;32mreturn\u001b[0m \u001b[0mresults_container\u001b[0m\u001b[0;34m[\u001b[0m\u001b[0;36m0\u001b[0m\u001b[0;34m]\u001b[0m\u001b[0;34m\u001b[0m\u001b[0m\n\u001b[1;32m    721\u001b[0m \u001b[0;34m\u001b[0m\u001b[0m\n\u001b[0;32m--> 722\u001b[0;31m             \u001b[0mself\u001b[0m\u001b[0;34m.\u001b[0m\u001b[0m_run_search\u001b[0m\u001b[0;34m(\u001b[0m\u001b[0mevaluate_candidates\u001b[0m\u001b[0;34m)\u001b[0m\u001b[0;34m\u001b[0m\u001b[0m\n\u001b[0m\u001b[1;32m    723\u001b[0m \u001b[0;34m\u001b[0m\u001b[0m\n\u001b[1;32m    724\u001b[0m         \u001b[0mresults\u001b[0m \u001b[0;34m=\u001b[0m \u001b[0mresults_container\u001b[0m\u001b[0;34m[\u001b[0m\u001b[0;36m0\u001b[0m\u001b[0;34m]\u001b[0m\u001b[0;34m\u001b[0m\u001b[0m\n",
      "\u001b[0;32m/opt/anaconda3/envs/ikigai-ml/lib/python3.5/site-packages/sklearn/model_selection/_search.py\u001b[0m in \u001b[0;36m_run_search\u001b[0;34m(self, evaluate_candidates)\u001b[0m\n\u001b[1;32m   1189\u001b[0m     \u001b[0;32mdef\u001b[0m \u001b[0m_run_search\u001b[0m\u001b[0;34m(\u001b[0m\u001b[0mself\u001b[0m\u001b[0;34m,\u001b[0m \u001b[0mevaluate_candidates\u001b[0m\u001b[0;34m)\u001b[0m\u001b[0;34m:\u001b[0m\u001b[0;34m\u001b[0m\u001b[0m\n\u001b[1;32m   1190\u001b[0m         \u001b[0;34m\"\"\"Search all candidates in param_grid\"\"\"\u001b[0m\u001b[0;34m\u001b[0m\u001b[0m\n\u001b[0;32m-> 1191\u001b[0;31m         \u001b[0mevaluate_candidates\u001b[0m\u001b[0;34m(\u001b[0m\u001b[0mParameterGrid\u001b[0m\u001b[0;34m(\u001b[0m\u001b[0mself\u001b[0m\u001b[0;34m.\u001b[0m\u001b[0mparam_grid\u001b[0m\u001b[0;34m)\u001b[0m\u001b[0;34m)\u001b[0m\u001b[0;34m\u001b[0m\u001b[0m\n\u001b[0m\u001b[1;32m   1192\u001b[0m \u001b[0;34m\u001b[0m\u001b[0m\n\u001b[1;32m   1193\u001b[0m \u001b[0;34m\u001b[0m\u001b[0m\n",
      "\u001b[0;32m/opt/anaconda3/envs/ikigai-ml/lib/python3.5/site-packages/sklearn/model_selection/_search.py\u001b[0m in \u001b[0;36mevaluate_candidates\u001b[0;34m(candidate_params)\u001b[0m\n\u001b[1;32m    709\u001b[0m                                \u001b[0;32mfor\u001b[0m \u001b[0mparameters\u001b[0m\u001b[0;34m,\u001b[0m \u001b[0;34m(\u001b[0m\u001b[0mtrain\u001b[0m\u001b[0;34m,\u001b[0m \u001b[0mtest\u001b[0m\u001b[0;34m)\u001b[0m\u001b[0;34m\u001b[0m\u001b[0m\n\u001b[1;32m    710\u001b[0m                                in product(candidate_params,\n\u001b[0;32m--> 711\u001b[0;31m                                           cv.split(X, y, groups)))\n\u001b[0m\u001b[1;32m    712\u001b[0m \u001b[0;34m\u001b[0m\u001b[0m\n\u001b[1;32m    713\u001b[0m                 \u001b[0mall_candidate_params\u001b[0m\u001b[0;34m.\u001b[0m\u001b[0mextend\u001b[0m\u001b[0;34m(\u001b[0m\u001b[0mcandidate_params\u001b[0m\u001b[0;34m)\u001b[0m\u001b[0;34m\u001b[0m\u001b[0m\n",
      "\u001b[0;32m/opt/anaconda3/envs/ikigai-ml/lib/python3.5/site-packages/sklearn/externals/joblib/parallel.py\u001b[0m in \u001b[0;36m__call__\u001b[0;34m(self, iterable)\u001b[0m\n\u001b[1;32m    981\u001b[0m             \u001b[0;31m# remaining jobs.\u001b[0m\u001b[0;34m\u001b[0m\u001b[0;34m\u001b[0m\u001b[0m\n\u001b[1;32m    982\u001b[0m             \u001b[0mself\u001b[0m\u001b[0;34m.\u001b[0m\u001b[0m_iterating\u001b[0m \u001b[0;34m=\u001b[0m \u001b[0;32mFalse\u001b[0m\u001b[0;34m\u001b[0m\u001b[0m\n\u001b[0;32m--> 983\u001b[0;31m             \u001b[0;32mif\u001b[0m \u001b[0mself\u001b[0m\u001b[0;34m.\u001b[0m\u001b[0mdispatch_one_batch\u001b[0m\u001b[0;34m(\u001b[0m\u001b[0miterator\u001b[0m\u001b[0;34m)\u001b[0m\u001b[0;34m:\u001b[0m\u001b[0;34m\u001b[0m\u001b[0m\n\u001b[0m\u001b[1;32m    984\u001b[0m                 \u001b[0mself\u001b[0m\u001b[0;34m.\u001b[0m\u001b[0m_iterating\u001b[0m \u001b[0;34m=\u001b[0m \u001b[0mself\u001b[0m\u001b[0;34m.\u001b[0m\u001b[0m_original_iterator\u001b[0m \u001b[0;32mis\u001b[0m \u001b[0;32mnot\u001b[0m \u001b[0;32mNone\u001b[0m\u001b[0;34m\u001b[0m\u001b[0m\n\u001b[1;32m    985\u001b[0m \u001b[0;34m\u001b[0m\u001b[0m\n",
      "\u001b[0;32m/opt/anaconda3/envs/ikigai-ml/lib/python3.5/site-packages/sklearn/externals/joblib/parallel.py\u001b[0m in \u001b[0;36mdispatch_one_batch\u001b[0;34m(self, iterator)\u001b[0m\n\u001b[1;32m    823\u001b[0m                 \u001b[0;32mreturn\u001b[0m \u001b[0;32mFalse\u001b[0m\u001b[0;34m\u001b[0m\u001b[0m\n\u001b[1;32m    824\u001b[0m             \u001b[0;32melse\u001b[0m\u001b[0;34m:\u001b[0m\u001b[0;34m\u001b[0m\u001b[0m\n\u001b[0;32m--> 825\u001b[0;31m                 \u001b[0mself\u001b[0m\u001b[0;34m.\u001b[0m\u001b[0m_dispatch\u001b[0m\u001b[0;34m(\u001b[0m\u001b[0mtasks\u001b[0m\u001b[0;34m)\u001b[0m\u001b[0;34m\u001b[0m\u001b[0m\n\u001b[0m\u001b[1;32m    826\u001b[0m                 \u001b[0;32mreturn\u001b[0m \u001b[0;32mTrue\u001b[0m\u001b[0;34m\u001b[0m\u001b[0m\n\u001b[1;32m    827\u001b[0m \u001b[0;34m\u001b[0m\u001b[0m\n",
      "\u001b[0;32m/opt/anaconda3/envs/ikigai-ml/lib/python3.5/site-packages/sklearn/externals/joblib/parallel.py\u001b[0m in \u001b[0;36m_dispatch\u001b[0;34m(self, batch)\u001b[0m\n\u001b[1;32m    780\u001b[0m         \u001b[0;32mwith\u001b[0m \u001b[0mself\u001b[0m\u001b[0;34m.\u001b[0m\u001b[0m_lock\u001b[0m\u001b[0;34m:\u001b[0m\u001b[0;34m\u001b[0m\u001b[0m\n\u001b[1;32m    781\u001b[0m             \u001b[0mjob_idx\u001b[0m \u001b[0;34m=\u001b[0m \u001b[0mlen\u001b[0m\u001b[0;34m(\u001b[0m\u001b[0mself\u001b[0m\u001b[0;34m.\u001b[0m\u001b[0m_jobs\u001b[0m\u001b[0;34m)\u001b[0m\u001b[0;34m\u001b[0m\u001b[0m\n\u001b[0;32m--> 782\u001b[0;31m             \u001b[0mjob\u001b[0m \u001b[0;34m=\u001b[0m \u001b[0mself\u001b[0m\u001b[0;34m.\u001b[0m\u001b[0m_backend\u001b[0m\u001b[0;34m.\u001b[0m\u001b[0mapply_async\u001b[0m\u001b[0;34m(\u001b[0m\u001b[0mbatch\u001b[0m\u001b[0;34m,\u001b[0m \u001b[0mcallback\u001b[0m\u001b[0;34m=\u001b[0m\u001b[0mcb\u001b[0m\u001b[0;34m)\u001b[0m\u001b[0;34m\u001b[0m\u001b[0m\n\u001b[0m\u001b[1;32m    783\u001b[0m             \u001b[0;31m# A job can complete so quickly than its callback is\u001b[0m\u001b[0;34m\u001b[0m\u001b[0;34m\u001b[0m\u001b[0m\n\u001b[1;32m    784\u001b[0m             \u001b[0;31m# called before we get here, causing self._jobs to\u001b[0m\u001b[0;34m\u001b[0m\u001b[0;34m\u001b[0m\u001b[0m\n",
      "\u001b[0;32m/opt/anaconda3/envs/ikigai-ml/lib/python3.5/site-packages/sklearn/externals/joblib/_parallel_backends.py\u001b[0m in \u001b[0;36mapply_async\u001b[0;34m(self, func, callback)\u001b[0m\n\u001b[1;32m    180\u001b[0m     \u001b[0;32mdef\u001b[0m \u001b[0mapply_async\u001b[0m\u001b[0;34m(\u001b[0m\u001b[0mself\u001b[0m\u001b[0;34m,\u001b[0m \u001b[0mfunc\u001b[0m\u001b[0;34m,\u001b[0m \u001b[0mcallback\u001b[0m\u001b[0;34m=\u001b[0m\u001b[0;32mNone\u001b[0m\u001b[0;34m)\u001b[0m\u001b[0;34m:\u001b[0m\u001b[0;34m\u001b[0m\u001b[0m\n\u001b[1;32m    181\u001b[0m         \u001b[0;34m\"\"\"Schedule a func to be run\"\"\"\u001b[0m\u001b[0;34m\u001b[0m\u001b[0m\n\u001b[0;32m--> 182\u001b[0;31m         \u001b[0mresult\u001b[0m \u001b[0;34m=\u001b[0m \u001b[0mImmediateResult\u001b[0m\u001b[0;34m(\u001b[0m\u001b[0mfunc\u001b[0m\u001b[0;34m)\u001b[0m\u001b[0;34m\u001b[0m\u001b[0m\n\u001b[0m\u001b[1;32m    183\u001b[0m         \u001b[0;32mif\u001b[0m \u001b[0mcallback\u001b[0m\u001b[0;34m:\u001b[0m\u001b[0;34m\u001b[0m\u001b[0m\n\u001b[1;32m    184\u001b[0m             \u001b[0mcallback\u001b[0m\u001b[0;34m(\u001b[0m\u001b[0mresult\u001b[0m\u001b[0;34m)\u001b[0m\u001b[0;34m\u001b[0m\u001b[0m\n",
      "\u001b[0;32m/opt/anaconda3/envs/ikigai-ml/lib/python3.5/site-packages/sklearn/externals/joblib/_parallel_backends.py\u001b[0m in \u001b[0;36m__init__\u001b[0;34m(self, batch)\u001b[0m\n\u001b[1;32m    543\u001b[0m         \u001b[0;31m# Don't delay the application, to avoid keeping the input\u001b[0m\u001b[0;34m\u001b[0m\u001b[0;34m\u001b[0m\u001b[0m\n\u001b[1;32m    544\u001b[0m         \u001b[0;31m# arguments in memory\u001b[0m\u001b[0;34m\u001b[0m\u001b[0;34m\u001b[0m\u001b[0m\n\u001b[0;32m--> 545\u001b[0;31m         \u001b[0mself\u001b[0m\u001b[0;34m.\u001b[0m\u001b[0mresults\u001b[0m \u001b[0;34m=\u001b[0m \u001b[0mbatch\u001b[0m\u001b[0;34m(\u001b[0m\u001b[0;34m)\u001b[0m\u001b[0;34m\u001b[0m\u001b[0m\n\u001b[0m\u001b[1;32m    546\u001b[0m \u001b[0;34m\u001b[0m\u001b[0m\n\u001b[1;32m    547\u001b[0m     \u001b[0;32mdef\u001b[0m \u001b[0mget\u001b[0m\u001b[0;34m(\u001b[0m\u001b[0mself\u001b[0m\u001b[0;34m)\u001b[0m\u001b[0;34m:\u001b[0m\u001b[0;34m\u001b[0m\u001b[0m\n",
      "\u001b[0;32m/opt/anaconda3/envs/ikigai-ml/lib/python3.5/site-packages/sklearn/externals/joblib/parallel.py\u001b[0m in \u001b[0;36m__call__\u001b[0;34m(self)\u001b[0m\n\u001b[1;32m    259\u001b[0m         \u001b[0;32mwith\u001b[0m \u001b[0mparallel_backend\u001b[0m\u001b[0;34m(\u001b[0m\u001b[0mself\u001b[0m\u001b[0;34m.\u001b[0m\u001b[0m_backend\u001b[0m\u001b[0;34m)\u001b[0m\u001b[0;34m:\u001b[0m\u001b[0;34m\u001b[0m\u001b[0m\n\u001b[1;32m    260\u001b[0m             return [func(*args, **kwargs)\n\u001b[0;32m--> 261\u001b[0;31m                     for func, args, kwargs in self.items]\n\u001b[0m\u001b[1;32m    262\u001b[0m \u001b[0;34m\u001b[0m\u001b[0m\n\u001b[1;32m    263\u001b[0m     \u001b[0;32mdef\u001b[0m \u001b[0m__len__\u001b[0m\u001b[0;34m(\u001b[0m\u001b[0mself\u001b[0m\u001b[0;34m)\u001b[0m\u001b[0;34m:\u001b[0m\u001b[0;34m\u001b[0m\u001b[0m\n",
      "\u001b[0;32m/opt/anaconda3/envs/ikigai-ml/lib/python3.5/site-packages/sklearn/externals/joblib/parallel.py\u001b[0m in \u001b[0;36m<listcomp>\u001b[0;34m(.0)\u001b[0m\n\u001b[1;32m    259\u001b[0m         \u001b[0;32mwith\u001b[0m \u001b[0mparallel_backend\u001b[0m\u001b[0;34m(\u001b[0m\u001b[0mself\u001b[0m\u001b[0;34m.\u001b[0m\u001b[0m_backend\u001b[0m\u001b[0;34m)\u001b[0m\u001b[0;34m:\u001b[0m\u001b[0;34m\u001b[0m\u001b[0m\n\u001b[1;32m    260\u001b[0m             return [func(*args, **kwargs)\n\u001b[0;32m--> 261\u001b[0;31m                     for func, args, kwargs in self.items]\n\u001b[0m\u001b[1;32m    262\u001b[0m \u001b[0;34m\u001b[0m\u001b[0m\n\u001b[1;32m    263\u001b[0m     \u001b[0;32mdef\u001b[0m \u001b[0m__len__\u001b[0m\u001b[0;34m(\u001b[0m\u001b[0mself\u001b[0m\u001b[0;34m)\u001b[0m\u001b[0;34m:\u001b[0m\u001b[0;34m\u001b[0m\u001b[0m\n",
      "\u001b[0;32m/opt/anaconda3/envs/ikigai-ml/lib/python3.5/site-packages/sklearn/model_selection/_validation.py\u001b[0m in \u001b[0;36m_fit_and_score\u001b[0;34m(estimator, X, y, scorer, train, test, verbose, parameters, fit_params, return_train_score, return_parameters, return_n_test_samples, return_times, return_estimator, error_score)\u001b[0m\n\u001b[1;32m    526\u001b[0m             \u001b[0mestimator\u001b[0m\u001b[0;34m.\u001b[0m\u001b[0mfit\u001b[0m\u001b[0;34m(\u001b[0m\u001b[0mX_train\u001b[0m\u001b[0;34m,\u001b[0m \u001b[0;34m**\u001b[0m\u001b[0mfit_params\u001b[0m\u001b[0;34m)\u001b[0m\u001b[0;34m\u001b[0m\u001b[0m\n\u001b[1;32m    527\u001b[0m         \u001b[0;32melse\u001b[0m\u001b[0;34m:\u001b[0m\u001b[0;34m\u001b[0m\u001b[0m\n\u001b[0;32m--> 528\u001b[0;31m             \u001b[0mestimator\u001b[0m\u001b[0;34m.\u001b[0m\u001b[0mfit\u001b[0m\u001b[0;34m(\u001b[0m\u001b[0mX_train\u001b[0m\u001b[0;34m,\u001b[0m \u001b[0my_train\u001b[0m\u001b[0;34m,\u001b[0m \u001b[0;34m**\u001b[0m\u001b[0mfit_params\u001b[0m\u001b[0;34m)\u001b[0m\u001b[0;34m\u001b[0m\u001b[0m\n\u001b[0m\u001b[1;32m    529\u001b[0m \u001b[0;34m\u001b[0m\u001b[0m\n\u001b[1;32m    530\u001b[0m     \u001b[0;32mexcept\u001b[0m \u001b[0mException\u001b[0m \u001b[0;32mas\u001b[0m \u001b[0me\u001b[0m\u001b[0;34m:\u001b[0m\u001b[0;34m\u001b[0m\u001b[0m\n",
      "\u001b[0;32m/opt/anaconda3/envs/ikigai-ml/lib/python3.5/site-packages/sklearn/ensemble/forest.py\u001b[0m in \u001b[0;36mfit\u001b[0;34m(self, X, y, sample_weight)\u001b[0m\n\u001b[1;32m    250\u001b[0m \u001b[0;34m\u001b[0m\u001b[0m\n\u001b[1;32m    251\u001b[0m         \u001b[0;31m# Validate or convert input data\u001b[0m\u001b[0;34m\u001b[0m\u001b[0;34m\u001b[0m\u001b[0m\n\u001b[0;32m--> 252\u001b[0;31m         \u001b[0mX\u001b[0m \u001b[0;34m=\u001b[0m \u001b[0mcheck_array\u001b[0m\u001b[0;34m(\u001b[0m\u001b[0mX\u001b[0m\u001b[0;34m,\u001b[0m \u001b[0maccept_sparse\u001b[0m\u001b[0;34m=\u001b[0m\u001b[0;34m\"csc\"\u001b[0m\u001b[0;34m,\u001b[0m \u001b[0mdtype\u001b[0m\u001b[0;34m=\u001b[0m\u001b[0mDTYPE\u001b[0m\u001b[0;34m)\u001b[0m\u001b[0;34m\u001b[0m\u001b[0m\n\u001b[0m\u001b[1;32m    253\u001b[0m         \u001b[0my\u001b[0m \u001b[0;34m=\u001b[0m \u001b[0mcheck_array\u001b[0m\u001b[0;34m(\u001b[0m\u001b[0my\u001b[0m\u001b[0;34m,\u001b[0m \u001b[0maccept_sparse\u001b[0m\u001b[0;34m=\u001b[0m\u001b[0;34m'csc'\u001b[0m\u001b[0;34m,\u001b[0m \u001b[0mensure_2d\u001b[0m\u001b[0;34m=\u001b[0m\u001b[0;32mFalse\u001b[0m\u001b[0;34m,\u001b[0m \u001b[0mdtype\u001b[0m\u001b[0;34m=\u001b[0m\u001b[0;32mNone\u001b[0m\u001b[0;34m)\u001b[0m\u001b[0;34m\u001b[0m\u001b[0m\n\u001b[1;32m    254\u001b[0m         \u001b[0;32mif\u001b[0m \u001b[0msample_weight\u001b[0m \u001b[0;32mis\u001b[0m \u001b[0;32mnot\u001b[0m \u001b[0;32mNone\u001b[0m\u001b[0;34m:\u001b[0m\u001b[0;34m\u001b[0m\u001b[0m\n",
      "\u001b[0;32m/opt/anaconda3/envs/ikigai-ml/lib/python3.5/site-packages/sklearn/utils/validation.py\u001b[0m in \u001b[0;36mcheck_array\u001b[0;34m(array, accept_sparse, accept_large_sparse, dtype, order, copy, force_all_finite, ensure_2d, allow_nd, ensure_min_samples, ensure_min_features, warn_on_dtype, estimator)\u001b[0m\n\u001b[1;32m    566\u001b[0m         \u001b[0;32mif\u001b[0m \u001b[0mforce_all_finite\u001b[0m\u001b[0;34m:\u001b[0m\u001b[0;34m\u001b[0m\u001b[0m\n\u001b[1;32m    567\u001b[0m             _assert_all_finite(array,\n\u001b[0;32m--> 568\u001b[0;31m                                allow_nan=force_all_finite == 'allow-nan')\n\u001b[0m\u001b[1;32m    569\u001b[0m \u001b[0;34m\u001b[0m\u001b[0m\n\u001b[1;32m    570\u001b[0m     \u001b[0mshape_repr\u001b[0m \u001b[0;34m=\u001b[0m \u001b[0m_shape_repr\u001b[0m\u001b[0;34m(\u001b[0m\u001b[0marray\u001b[0m\u001b[0;34m.\u001b[0m\u001b[0mshape\u001b[0m\u001b[0;34m)\u001b[0m\u001b[0;34m\u001b[0m\u001b[0m\n",
      "\u001b[0;32m/opt/anaconda3/envs/ikigai-ml/lib/python3.5/site-packages/sklearn/utils/validation.py\u001b[0m in \u001b[0;36m_assert_all_finite\u001b[0;34m(X, allow_nan)\u001b[0m\n\u001b[1;32m     54\u001b[0m                 not allow_nan and not np.isfinite(X).all()):\n\u001b[1;32m     55\u001b[0m             \u001b[0mtype_err\u001b[0m \u001b[0;34m=\u001b[0m \u001b[0;34m'infinity'\u001b[0m \u001b[0;32mif\u001b[0m \u001b[0mallow_nan\u001b[0m \u001b[0;32melse\u001b[0m \u001b[0;34m'NaN, infinity'\u001b[0m\u001b[0;34m\u001b[0m\u001b[0m\n\u001b[0;32m---> 56\u001b[0;31m             \u001b[0;32mraise\u001b[0m \u001b[0mValueError\u001b[0m\u001b[0;34m(\u001b[0m\u001b[0mmsg_err\u001b[0m\u001b[0;34m.\u001b[0m\u001b[0mformat\u001b[0m\u001b[0;34m(\u001b[0m\u001b[0mtype_err\u001b[0m\u001b[0;34m,\u001b[0m \u001b[0mX\u001b[0m\u001b[0;34m.\u001b[0m\u001b[0mdtype\u001b[0m\u001b[0;34m)\u001b[0m\u001b[0;34m)\u001b[0m\u001b[0;34m\u001b[0m\u001b[0m\n\u001b[0m\u001b[1;32m     57\u001b[0m \u001b[0;34m\u001b[0m\u001b[0m\n\u001b[1;32m     58\u001b[0m \u001b[0;34m\u001b[0m\u001b[0m\n",
      "\u001b[0;31mValueError\u001b[0m: Input contains NaN, infinity or a value too large for dtype('float32')."
     ]
    }
   ],
   "source": [
    "clf = RandomForestClassifier()\n",
    "\n",
    "test_params = {\n",
    " 'max_depth':[2,4,6],\n",
    " 'n_estimators':[10,50,100]\n",
    "}\n",
    "\n",
    "clf = GridSearchCV(estimator = clf,param_grid = test_params, cv=5)\n",
    "clf.fit(xTrain, yTrain.values.ravel())\n",
    "print(clf.best_params_)"
   ]
  },
  {
   "cell_type": "code",
   "execution_count": null,
   "metadata": {},
   "outputs": [],
   "source": []
  }
 ],
 "metadata": {
  "kernelspec": {
   "display_name": "ikigai-ml",
   "language": "python",
   "name": "ikigai-ml"
  },
  "language_info": {
   "codemirror_mode": {
    "name": "ipython",
    "version": 3
   },
   "file_extension": ".py",
   "mimetype": "text/x-python",
   "name": "python",
   "nbconvert_exporter": "python",
   "pygments_lexer": "ipython3",
   "version": "3.5.6"
  }
 },
 "nbformat": 4,
 "nbformat_minor": 2
}
